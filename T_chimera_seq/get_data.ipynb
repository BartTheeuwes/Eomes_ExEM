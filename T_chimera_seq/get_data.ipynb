{
 "cells": [
  {
   "cell_type": "code",
   "execution_count": 1,
   "id": "b6a6ae41-d078-4ff6-9432-bcc813dd7779",
   "metadata": {},
   "outputs": [],
   "source": [
    "suppressPackageStartupMessages(library(MouseGastrulationData))\n",
    "suppressPackageStartupMessages(library(dplyr))\n",
    "suppressPackageStartupMessages(library(data.table))\n",
    "suppressPackageStartupMessages(library(Matrix))"
   ]
  },
  {
   "cell_type": "code",
   "execution_count": 2,
   "id": "58f0be5f-3177-4daf-9ed0-a3cf1aaf8b21",
   "metadata": {},
   "outputs": [
    {
     "data": {
      "text/html": [
       "'/rds/project/rds-SDzz0CATGms/users/bt392/12_Eomes_T_Mixl1/T'"
      ],
      "text/latex": [
       "'/rds/project/rds-SDzz0CATGms/users/bt392/12\\_Eomes\\_T\\_Mixl1/T'"
      ],
      "text/markdown": [
       "'/rds/project/rds-SDzz0CATGms/users/bt392/12_Eomes_T_Mixl1/T'"
      ],
      "text/plain": [
       "[1] \"/rds/project/rds-SDzz0CATGms/users/bt392/12_Eomes_T_Mixl1/T\""
      ]
     },
     "metadata": {},
     "output_type": "display_data"
    }
   ],
   "source": [
    "getwd()"
   ]
  },
  {
   "cell_type": "code",
   "execution_count": 3,
   "id": "3837e31e-3739-4c19-8f7d-ce7b36ffcab3",
   "metadata": {},
   "outputs": [],
   "source": [
    "io = list()\n",
    "io$outdir = '/rds/project/rds-SDzz0CATGms/users/bt392/12_Eomes_T_Mixl1/T/data/'\n",
    "io$genemetadata = \"/rds/project/rds-SDzz0CATGms/users/bt392/atlasses/Mmusculus_genes_BioMart.87.txt\""
   ]
  },
  {
   "cell_type": "code",
   "execution_count": 4,
   "id": "e1939738-fb9f-43d0-9e7c-21dcf141708e",
   "metadata": {
    "collapsed": true,
    "jupyter": {
     "outputs_hidden": true
    },
    "tags": []
   },
   "outputs": [
    {
     "name": "stderr",
     "output_type": "stream",
     "text": [
      "snapshotDate(): 2022-10-31\n",
      "\n",
      "see ?MouseGastrulationData and browseVignettes('MouseGastrulationData') for documentation\n",
      "\n",
      "loading from cache\n",
      "\n",
      "see ?MouseGastrulationData and browseVignettes('MouseGastrulationData') for documentation\n",
      "\n",
      "loading from cache\n",
      "\n",
      "see ?MouseGastrulationData and browseVignettes('MouseGastrulationData') for documentation\n",
      "\n",
      "loading from cache\n",
      "\n",
      "see ?MouseGastrulationData and browseVignettes('MouseGastrulationData') for documentation\n",
      "\n",
      "loading from cache\n",
      "\n",
      "see ?MouseGastrulationData and browseVignettes('MouseGastrulationData') for documentation\n",
      "\n",
      "loading from cache\n",
      "\n",
      "see ?MouseGastrulationData and browseVignettes('MouseGastrulationData') for documentation\n",
      "\n",
      "loading from cache\n",
      "\n",
      "see ?MouseGastrulationData and browseVignettes('MouseGastrulationData') for documentation\n",
      "\n",
      "loading from cache\n",
      "\n",
      "see ?MouseGastrulationData and browseVignettes('MouseGastrulationData') for documentation\n",
      "\n",
      "loading from cache\n",
      "\n",
      "see ?MouseGastrulationData and browseVignettes('MouseGastrulationData') for documentation\n",
      "\n",
      "loading from cache\n",
      "\n",
      "see ?MouseGastrulationData and browseVignettes('MouseGastrulationData') for documentation\n",
      "\n",
      "loading from cache\n",
      "\n",
      "see ?MouseGastrulationData and browseVignettes('MouseGastrulationData') for documentation\n",
      "\n",
      "loading from cache\n",
      "\n",
      "see ?MouseGastrulationData and browseVignettes('MouseGastrulationData') for documentation\n",
      "\n",
      "loading from cache\n",
      "\n",
      "see ?MouseGastrulationData and browseVignettes('MouseGastrulationData') for documentation\n",
      "\n",
      "loading from cache\n",
      "\n",
      "see ?MouseGastrulationData and browseVignettes('MouseGastrulationData') for documentation\n",
      "\n",
      "loading from cache\n",
      "\n",
      "see ?MouseGastrulationData and browseVignettes('MouseGastrulationData') for documentation\n",
      "\n",
      "loading from cache\n",
      "\n",
      "see ?MouseGastrulationData and browseVignettes('MouseGastrulationData') for documentation\n",
      "\n",
      "loading from cache\n",
      "\n",
      "see ?MouseGastrulationData and browseVignettes('MouseGastrulationData') for documentation\n",
      "\n",
      "loading from cache\n",
      "\n",
      "see ?MouseGastrulationData and browseVignettes('MouseGastrulationData') for documentation\n",
      "\n",
      "loading from cache\n",
      "\n",
      "see ?MouseGastrulationData and browseVignettes('MouseGastrulationData') for documentation\n",
      "\n",
      "loading from cache\n",
      "\n",
      "see ?MouseGastrulationData and browseVignettes('MouseGastrulationData') for documentation\n",
      "\n",
      "loading from cache\n",
      "\n",
      "see ?MouseGastrulationData and browseVignettes('MouseGastrulationData') for documentation\n",
      "\n",
      "loading from cache\n",
      "\n",
      "see ?MouseGastrulationData and browseVignettes('MouseGastrulationData') for documentation\n",
      "\n",
      "loading from cache\n",
      "\n",
      "see ?MouseGastrulationData and browseVignettes('MouseGastrulationData') for documentation\n",
      "\n",
      "loading from cache\n",
      "\n",
      "see ?MouseGastrulationData and browseVignettes('MouseGastrulationData') for documentation\n",
      "\n",
      "loading from cache\n",
      "\n",
      "see ?MouseGastrulationData and browseVignettes('MouseGastrulationData') for documentation\n",
      "\n",
      "loading from cache\n",
      "\n",
      "see ?MouseGastrulationData and browseVignettes('MouseGastrulationData') for documentation\n",
      "\n",
      "loading from cache\n",
      "\n",
      "see ?MouseGastrulationData and browseVignettes('MouseGastrulationData') for documentation\n",
      "\n",
      "loading from cache\n",
      "\n",
      "see ?MouseGastrulationData and browseVignettes('MouseGastrulationData') for documentation\n",
      "\n",
      "loading from cache\n",
      "\n",
      "see ?MouseGastrulationData and browseVignettes('MouseGastrulationData') for documentation\n",
      "\n",
      "loading from cache\n",
      "\n",
      "see ?MouseGastrulationData and browseVignettes('MouseGastrulationData') for documentation\n",
      "\n",
      "loading from cache\n",
      "\n",
      "see ?MouseGastrulationData and browseVignettes('MouseGastrulationData') for documentation\n",
      "\n",
      "loading from cache\n",
      "\n",
      "see ?MouseGastrulationData and browseVignettes('MouseGastrulationData') for documentation\n",
      "\n",
      "loading from cache\n",
      "\n",
      "see ?MouseGastrulationData and browseVignettes('MouseGastrulationData') for documentation\n",
      "\n",
      "loading from cache\n",
      "\n"
     ]
    }
   ],
   "source": [
    "T_E85.sce = TChimeraData(type = c(\"processed\"), samples = c(1:2, 5:10))"
   ]
  },
  {
   "cell_type": "code",
   "execution_count": 5,
   "id": "67525465-b760-4b3a-8160-31a7e5346362",
   "metadata": {
    "tags": []
   },
   "outputs": [
    {
     "data": {
      "text/plain": [
       "class: SingleCellExperiment \n",
       "dim: 29453 30758 \n",
       "metadata(0):\n",
       "assays(1): counts\n",
       "rownames(29453): ENSMUSG00000051951 ENSMUSG00000089699 ...\n",
       "  ENSMUSG00000095742 tomato-td\n",
       "rowData names(2): ENSEMBL SYMBOL\n",
       "colnames(30758): cell_1 cell_2 ... cell_31676 cell_31677\n",
       "colData names(13): cell barcode ... somite.subct.mapped sizeFactor\n",
       "reducedDimNames(2): pca.corrected.E7.5 pca.corrected.E8.5\n",
       "mainExpName: NULL\n",
       "altExpNames(0):"
      ]
     },
     "metadata": {},
     "output_type": "display_data"
    }
   ],
   "source": [
    "T_E85.sce"
   ]
  },
  {
   "cell_type": "code",
   "execution_count": 35,
   "id": "3d6429ae-d06d-444e-a166-3d64097b4b81",
   "metadata": {},
   "outputs": [],
   "source": [
    "gene_metadata = fread(io$genemetadata)[, c('ens_id', 'symbol')] %>%\n",
    "    rbind(., data.table(ens_id='tomato-td', symbol='tomato-td')) %>% \n",
    "    .[ens_id %in% rownames(T_E85.sce)] %>% \n",
    "    .[symbol!='']\n",
    "\n",
    "T_E85.sce = T_E85.sce[rownames(T_E85.sce) %in% gene_metadata$ens_id]"
   ]
  },
  {
   "cell_type": "code",
   "execution_count": 36,
   "id": "eb73ddaa-9ef1-40ea-8898-1b32faa12962",
   "metadata": {},
   "outputs": [],
   "source": [
    "rownames(T_E85.sce) = gene_metadata[match(rownames(T_E85.sce), ens_id), symbol]"
   ]
  },
  {
   "cell_type": "code",
   "execution_count": 37,
   "id": "9b044610-1b2a-4d4b-88f9-945c223c2992",
   "metadata": {},
   "outputs": [
    {
     "data": {
      "text/plain": [
       "   Mode    TRUE \n",
       "logical   27995 "
      ]
     },
     "metadata": {},
     "output_type": "display_data"
    }
   ],
   "source": [
    "summary(rownames(T_E85.sce)[order(rownames(T_E85.sce))] == gene_metadata$symbol[order(gene_metadata$symbol)])"
   ]
  },
  {
   "cell_type": "code",
   "execution_count": 38,
   "id": "6270d584-96b5-42a9-9e04-b569cc6e57df",
   "metadata": {},
   "outputs": [
    {
     "name": "stderr",
     "output_type": "stream",
     "text": [
      "Warning message in .local(x, row.names, optional, ...):\n",
      "“Arguments in '...' ignored”\n"
     ]
    }
   ],
   "source": [
    "meta = as.data.table(colData(T_E85.sce), keep.rownames=F) #%>% setnames('rn', 'cell')"
   ]
  },
  {
   "cell_type": "code",
   "execution_count": 39,
   "id": "5e0565f3-ddb6-4e02-b61f-a733c2af0739",
   "metadata": {},
   "outputs": [
    {
     "name": "stdout",
     "output_type": "stream",
     "text": [
      "Sample 1 done \n",
      "Sample 2 done \n",
      "Sample 5 done \n",
      "Sample 6 done \n",
      "Sample 7 done \n",
      "Sample 8 done \n",
      "Sample 9 done \n",
      "Sample 10 done \n"
     ]
    },
    {
     "data": {
      "text/html": [
       "<ol>\n",
       "\t<li>NULL</li>\n",
       "\t<li>NULL</li>\n",
       "\t<li>NULL</li>\n",
       "\t<li>NULL</li>\n",
       "\t<li>NULL</li>\n",
       "\t<li>NULL</li>\n",
       "\t<li>NULL</li>\n",
       "\t<li>NULL</li>\n",
       "</ol>\n"
      ],
      "text/latex": [
       "\\begin{enumerate}\n",
       "\\item NULL\n",
       "\\item NULL\n",
       "\\item NULL\n",
       "\\item NULL\n",
       "\\item NULL\n",
       "\\item NULL\n",
       "\\item NULL\n",
       "\\item NULL\n",
       "\\end{enumerate}\n"
      ],
      "text/markdown": [
       "1. NULL\n",
       "2. NULL\n",
       "3. NULL\n",
       "4. NULL\n",
       "5. NULL\n",
       "6. NULL\n",
       "7. NULL\n",
       "8. NULL\n",
       "\n",
       "\n"
      ],
      "text/plain": [
       "[[1]]\n",
       "NULL\n",
       "\n",
       "[[2]]\n",
       "NULL\n",
       "\n",
       "[[3]]\n",
       "NULL\n",
       "\n",
       "[[4]]\n",
       "NULL\n",
       "\n",
       "[[5]]\n",
       "NULL\n",
       "\n",
       "[[6]]\n",
       "NULL\n",
       "\n",
       "[[7]]\n",
       "NULL\n",
       "\n",
       "[[8]]\n",
       "NULL\n"
      ]
     },
     "metadata": {},
     "output_type": "display_data"
    }
   ],
   "source": [
    "lapply(unique(meta$sample), function(x){ # unique(meta$sample)\n",
    "    tmp = meta[sample==x]\n",
    "    tmp.sce = T_E85.sce[,tmp$cell]\n",
    "    \n",
    "    tmp.outdir = paste0(io$outdir, 'sample_', x, '/outs/filtered_feature_bc_matrix')\n",
    "    dir.create(tmp.outdir, recursive = TRUE, showWarnings = FALSE)\n",
    "    fwrite(tmp[,'barcode'], file.path(tmp.outdir, 'barcodes.tsv.gz'), col.names=F)\n",
    "    \n",
    "    features =  gene_metadata[match(rownames(tmp.sce), symbol), c('ens_id', 'symbol')] %>%\n",
    "        .[, gene_expression := 'Gene Expression']\n",
    "    stopifnot(features$symbol == rownames(tmp.sce))\n",
    "    fwrite(features, file.path(tmp.outdir, 'features.tsv.gz'), col.names=F)\n",
    "\n",
    "    writeMM(counts(tmp.sce), file.path(tmp.outdir, 'matrix.mtx.gz'))\n",
    "    cat(paste0('Sample ', x, ' done \\n'))\n",
    "})"
   ]
  },
  {
   "cell_type": "code",
   "execution_count": null,
   "id": "57536b16-4f86-48be-bee5-f65e7ce34269",
   "metadata": {},
   "outputs": [],
   "source": []
  }
 ],
 "metadata": {
  "kernelspec": {
   "display_name": "R",
   "language": "R",
   "name": "ir"
  },
  "language_info": {
   "codemirror_mode": "r",
   "file_extension": ".r",
   "mimetype": "text/x-r-source",
   "name": "R",
   "pygments_lexer": "r",
   "version": "4.2.2"
  }
 },
 "nbformat": 4,
 "nbformat_minor": 5
}
