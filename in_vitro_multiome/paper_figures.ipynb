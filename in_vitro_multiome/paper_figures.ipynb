{
 "cells": [
  {
   "cell_type": "markdown",
   "id": "900ad34f-3033-4fb4-92fd-18190695cfa1",
   "metadata": {},
   "source": [
    "# Paper figures - in vitro multiome data"
   ]
  },
  {
   "cell_type": "code",
   "execution_count": 2,
   "id": "f8ca00d3-10f0-47d8-92b0-ebdc6e69e997",
   "metadata": {
    "tags": []
   },
   "outputs": [
    {
     "name": "stderr",
     "output_type": "stream",
     "text": [
      "here() starts at /rds/project/rds-SDzz0CATGms/users/bt392/09_Eomes_invitro_blood/code\n",
      "\n"
     ]
    }
   ],
   "source": [
    "here::i_am(\"rna_atac/trajectory/01_RNA_WT_trajectory_inference.ipynb\")\n",
    "\n",
    "source(here::here(\"settings.R\"))\n",
    "source(here::here(\"utils.R\"))\n",
    "\n",
    "suppressPackageStartupMessages(library(scran))\n",
    "suppressPackageStartupMessages(library(scater))\n",
    "suppressPackageStartupMessages(library(dplyr))\n",
    "\n",
    "BPPARAM <- BiocParallel::bpparam()\n",
    "BPPARAM$workers = 21\n",
    "\n",
    "# Multi core using future - built in to seurat\n",
    "# plan(\"multicore\", workers = 16)\n",
    "options(future.globals.maxSize = 50 * 1024 ^ 3) # for 50 Gb RAM"
   ]
  },
  {
   "cell_type": "code",
   "execution_count": 3,
   "id": "3a3e3829-c3ac-43f0-bbfb-90a06cae8f5f",
   "metadata": {},
   "outputs": [],
   "source": [
    "args = list()\n",
    "\n",
    "# Metadata\n",
    "args$metadata = file.path(io$basedir, 'results/rna_atac/clustering/metadata_celltype_annotated.txt.gz')\n",
    "\n",
    "# RNA_sce\n",
    "args$rna_sce = file.path(io$basedir, 'processed/rna/SingleCellExperiment.rds')\n",
    "\n",
    "# outdir\n",
    "args$outdir = file.path(io$basedir, 'results/rna_atac/figures/')\n",
    "dir.create(args$outdir, recursive=TRUE, showWarnings =FALSE)"
   ]
  },
  {
   "cell_type": "code",
   "execution_count": null,
   "id": "b04b6f52-9630-4591-bd75-0f3925441f0a",
   "metadata": {},
   "outputs": [],
   "source": []
  },
  {
   "cell_type": "code",
   "execution_count": 3,
   "id": "7b8c6e51-e8c7-4c09-8d6b-96b780e9912f",
   "metadata": {},
   "outputs": [],
   "source": [
    "args = list()\n",
    "# ATAC\n",
    "args$atac_metadata = file.path(io$basedir, 'results/atac/archR/qc/sample_metadata_update_PeakClusters.txt.gz')\n",
    "args$atac_lsi = file.path(io$basedir, 'results/atac/archR/dimensionality_reduction/cells/PeakMatrix/remove_ExE_cells_FALSE/batch_correction_None/lsi_nfeatures25000_dims20.txt.gz')\n",
    "# RNA\n",
    "args$rna_metadata = file.path(io$basedir, '/results/rna/mapping/sample_metadata_after_mapping.txt.gz')\n",
    "args$rna_pca = file.path(io$basedir, 'results/rna/dimensionality_reduction/sce/none/pca_features1500_pcs15.txt.gz')\n",
    "args$rna_sce = file.path(io$basedir, 'processed/rna/SingleCellExperiment.rds')\n",
    "\n",
    "# outdir\n",
    "args$outdir = file.path(io$basedir, 'results/rna_atac/dimensionality_reduction/')\n",
    "dir.create(args$outdir, recursive=TRUE, showWarnings =FALSE)"
   ]
  },
  {
   "cell_type": "code",
   "execution_count": 4,
   "id": "c70a127f-ab28-4ea8-81bf-a87fbe0292cf",
   "metadata": {},
   "outputs": [],
   "source": [
    "##########################\n",
    "## Load sample metadata ##\n",
    "##########################\n",
    "\n",
    "metadata_atac <- fread(args$atac_metadata) %>%\n",
    "  .[pass_atacQC==TRUE & doublet_call==FALSE | pass_atacQC==TRUE & is.na(doublet_call)] %>% \n",
    "  .[,exp := str_replace_all(sample, opts$sample2exp)]\n",
    "\n",
    "metadata_rna <- fread(args$rna_metadata) %>%\n",
    "  .[pass_rnaQC==TRUE & doublet_call==FALSE] %>% \n",
    "  .[,exp := str_replace_all(sample, opts$sample2exp)]"
   ]
  },
  {
   "cell_type": "code",
   "execution_count": 5,
   "id": "ca38b35f-95ee-481f-adb5-68f5ee4f2634",
   "metadata": {},
   "outputs": [
    {
     "data": {
      "text/html": [
       "35864"
      ],
      "text/latex": [
       "35864"
      ],
      "text/markdown": [
       "35864"
      ],
      "text/plain": [
       "[1] 35864"
      ]
     },
     "metadata": {},
     "output_type": "display_data"
    }
   ],
   "source": [
    "nrow(metadata_atac)"
   ]
  },
  {
   "cell_type": "code",
   "execution_count": 6,
   "id": "9526b12c-d084-41c4-92fd-cae5e0bbf15a",
   "metadata": {},
   "outputs": [
    {
     "data": {
      "text/html": [
       "35125"
      ],
      "text/latex": [
       "35125"
      ],
      "text/markdown": [
       "35125"
      ],
      "text/plain": [
       "[1] 35125"
      ]
     },
     "metadata": {},
     "output_type": "display_data"
    }
   ],
   "source": [
    "nrow(metadata_rna)"
   ]
  }
 ],
 "metadata": {
  "kernelspec": {
   "display_name": "R",
   "language": "R",
   "name": "ir"
  },
  "language_info": {
   "codemirror_mode": "r",
   "file_extension": ".r",
   "mimetype": "text/x-r-source",
   "name": "R",
   "pygments_lexer": "r",
   "version": "4.2.2"
  }
 },
 "nbformat": 4,
 "nbformat_minor": 5
}
