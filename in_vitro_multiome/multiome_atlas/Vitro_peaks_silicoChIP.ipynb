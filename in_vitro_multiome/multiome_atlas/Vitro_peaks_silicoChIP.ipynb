{
 "cells": [
  {
   "cell_type": "markdown",
   "id": "7407456d-1d34-41cd-a07c-f19ffbbad48a",
   "metadata": {},
   "source": [
    "# In silicoChIP on peak set from in vitro blood data"
   ]
  },
  {
   "cell_type": "code",
   "execution_count": 1,
   "id": "cf362e83-aded-4456-a8a3-39b668237f99",
   "metadata": {},
   "outputs": [
    {
     "name": "stderr",
     "output_type": "stream",
     "text": [
      "\n",
      "                                                   / |\n",
      "                                                 /    \\\n",
      "            .                                  /      |.\n",
      "            \\\\\\                              /        |.\n",
      "              \\\\\\                          /           `|.\n",
      "                \\\\\\                      /              |.\n",
      "                  \\                    /                |\\\n",
      "                  \\\\#####\\           /                  ||\n",
      "                ==###########>      /                   ||\n",
      "                 \\\\##==......\\    /                     ||\n",
      "            ______ =       =|__ /__                     ||      \\\\\\\n",
      "        ,--' ,----`-,__ ___/'  --,-`-===================##========>\n",
      "       \\               '        ##_______ _____ ,--,__,=##,__   ///\n",
      "        ,    __==    ___,-,__,--'#'  ==='      `-'    | ##,-/\n",
      "        -,____,---'       \\\\####\\\\________________,--\\\\_##,/\n",
      "           ___      .______        ______  __    __  .______      \n",
      "          /   \\     |   _  \\      /      ||  |  |  | |   _  \\     \n",
      "         /  ^  \\    |  |_)  |    |  ,----'|  |__|  | |  |_)  |    \n",
      "        /  /_\\  \\   |      /     |  |     |   __   | |      /     \n",
      "       /  _____  \\  |  |\\  \\\\___ |  `----.|  |  |  | |  |\\  \\\\___.\n",
      "      /__/     \\__\\ | _| `._____| \\______||__|  |__| | _| `._____|\n",
      "    \n",
      "\n",
      "Warning message:\n",
      "“package ‘rhdf5’ was built under R version 4.2.3”\n"
     ]
    }
   ],
   "source": [
    "###################\n",
    "## Load packages\n",
    "###################\n",
    "suppressPackageStartupMessages({\n",
    "    library(scran)\n",
    "    library(scater)\n",
    "    library(Seurat)\n",
    "    library(ArchR)\n",
    "})\n",
    "source('/rds/project/rds-SDzz0CATGms/users/bt392/atlasses/gastrulation_multiome/code/revision/insilico_chip/utils.R')"
   ]
  },
  {
   "cell_type": "code",
   "execution_count": 2,
   "id": "70916ff0-f0fe-40da-b83b-55a231d11184",
   "metadata": {},
   "outputs": [],
   "source": [
    "###################\n",
    "## I/O\n",
    "###################\n",
    "io = list()\n",
    "io$basedir = '/rds/project/rds-SDzz0CATGms/users/bt392/atlasses/gastrulation_multiome/'\n",
    "\n",
    "## Single-cell\n",
    "io$RNA_sce = file.path(io$basedir,\"data/processed/rna/SingleCellExperiment.rds\")\n",
    "io$meta = file.path(io$basedir,\"results/atac/archR/qc/sample_metadata_after_qc.txt.gz\")\n",
    "\n",
    "# ArchR vitro\n",
    "io$archrvitro = file.path(\"/rds/project/rds-SDzz0CATGms/users/bt392/09_Eomes_invitro_blood/processed/atac/archR\")\n",
    "# ArchR vivo\n",
    "io$archrvivo = file.path(io$basedir,\"data/processed/atac/archR\")\n",
    "\n",
    "# output\n",
    "io$outdir = file.path(\"/rds/project/rds-SDzz0CATGms/users/bt392/09_Eomes_invitro_blood/results/multiome_atlas\")\n",
    "dir.create(io$outdir, recursive=TRUE, showWarnings =FALSE)"
   ]
  },
  {
   "cell_type": "code",
   "execution_count": 3,
   "id": "9bc927c7-a4e1-4017-a7f7-196536ce460b",
   "metadata": {},
   "outputs": [
    {
     "data": {
      "text/html": [
       "45713"
      ],
      "text/latex": [
       "45713"
      ],
      "text/markdown": [
       "45713"
      ],
      "text/plain": [
       "[1] 45713"
      ]
     },
     "metadata": {},
     "output_type": "display_data"
    }
   ],
   "source": [
    "meta = fread(io$meta)[pass_rnaQC == T & pass_atacQC == T & doublet_call == F & !sample %in% c('E8.5_CRISPR_T_KO', 'E8.5_CRISPR_T_WT')]\n",
    "nrow(meta)"
   ]
  },
  {
   "cell_type": "code",
   "execution_count": 4,
   "id": "4849988f-a3c8-4ff9-8c13-f6500ae49ee2",
   "metadata": {
    "tags": []
   },
   "outputs": [
    {
     "name": "stderr",
     "output_type": "stream",
     "text": [
      "Successfully loaded ArchRProject!\n",
      "\n",
      "\n",
      "                                                   / |\n",
      "                                                 /    \\\n",
      "            .                                  /      |.\n",
      "            \\\\\\                              /        |.\n",
      "              \\\\\\                          /           `|.\n",
      "                \\\\\\                      /              |.\n",
      "                  \\                    /                |\\\n",
      "                  \\\\#####\\           /                  ||\n",
      "                ==###########>      /                   ||\n",
      "                 \\\\##==......\\    /                     ||\n",
      "            ______ =       =|__ /__                     ||      \\\\\\\n",
      "        ,--' ,----`-,__ ___/'  --,-`-===================##========>\n",
      "       \\               '        ##_______ _____ ,--,__,=##,__   ///\n",
      "        ,    __==    ___,-,__,--'#'  ==='      `-'    | ##,-/\n",
      "        -,____,---'       \\\\####\\\\________________,--\\\\_##,/\n",
      "           ___      .______        ______  __    __  .______      \n",
      "          /   \\     |   _  \\      /      ||  |  |  | |   _  \\     \n",
      "         /  ^  \\    |  |_)  |    |  ,----'|  |__|  | |  |_)  |    \n",
      "        /  /_\\  \\   |      /     |  |     |   __   | |      /     \n",
      "       /  _____  \\  |  |\\  \\\\___ |  `----.|  |  |  | |  |\\  \\\\___.\n",
      "      /__/     \\__\\ | _| `._____| \\______||__|  |__| | _| `._____|\n",
      "    \n",
      "\n",
      "Successfully loaded ArchRProject!\n",
      "\n",
      "\n",
      "                                                   / |\n",
      "                                                 /    \\\n",
      "            .                                  /      |.\n",
      "            \\\\\\                              /        |.\n",
      "              \\\\\\                          /           `|.\n",
      "                \\\\\\                      /              |.\n",
      "                  \\                    /                |\\\n",
      "                  \\\\#####\\           /                  ||\n",
      "                ==###########>      /                   ||\n",
      "                 \\\\##==......\\    /                     ||\n",
      "            ______ =       =|__ /__                     ||      \\\\\\\n",
      "        ,--' ,----`-,__ ___/'  --,-`-===================##========>\n",
      "       \\               '        ##_______ _____ ,--,__,=##,__   ///\n",
      "        ,    __==    ___,-,__,--'#'  ==='      `-'    | ##,-/\n",
      "        -,____,---'       \\\\####\\\\________________,--\\\\_##,/\n",
      "           ___      .______        ______  __    __  .______      \n",
      "          /   \\     |   _  \\      /      ||  |  |  | |   _  \\     \n",
      "         /  ^  \\    |  |_)  |    |  ,----'|  |__|  | |  |_)  |    \n",
      "        /  /_\\  \\   |      /     |  |     |   __   | |      /     \n",
      "       /  _____  \\  |  |\\  \\\\___ |  `----.|  |  |  | |  |\\  \\\\___.\n",
      "      /__/     \\__\\ | _| `._____| \\______||__|  |__| | _| `._____|\n",
      "    \n",
      "\n"
     ]
    }
   ],
   "source": [
    "archrvivo = loadArchRProject(io$archrvivo)[meta$cell]\n",
    "archrvitro = loadArchRProject(io$archrvitro)"
   ]
  },
  {
   "cell_type": "code",
   "execution_count": 5,
   "id": "fb5ecc7a-51f7-44c3-a386-1a218a3341fd",
   "metadata": {},
   "outputs": [
    {
     "name": "stderr",
     "output_type": "stream",
     "text": [
      "\n",
      "           ___      .______        ______  __    __  .______      \n",
      "          /   \\     |   _  \\      /      ||  |  |  | |   _  \\     \n",
      "         /  ^  \\    |  |_)  |    |  ,----'|  |__|  | |  |_)  |    \n",
      "        /  /_\\  \\   |      /     |  |     |   __   | |      /     \n",
      "       /  _____  \\  |  |\\  \\\\___ |  `----.|  |  |  | |  |\\  \\\\___.\n",
      "      /__/     \\__\\ | _| `._____| \\______||__|  |__| | _| `._____|\n",
      "    \n",
      "\n"
     ]
    },
    {
     "data": {
      "text/plain": [
       "class: ArchRProject \n",
       "outputDirectory: /rds/project/rds-SDzz0CATGms/users/bt392/atlasses/gastrulation_multiome/data/processed/atac/archR \n",
       "samples(11): E7.5_rep1 E7.5_rep2 ... E8.5_CRISPR_T_KO E8.5_CRISPR_T_WT\n",
       "sampleColData names(1): ArrowFiles\n",
       "cellColData names(35): Sample TSSEnrichment ... ReadsInPeaks FRIP\n",
       "numberOfCells(1): 45713\n",
       "medianTSS(1): 16.355\n",
       "medianFrags(1): 30489"
      ]
     },
     "metadata": {},
     "output_type": "display_data"
    }
   ],
   "source": [
    "archrvivo"
   ]
  },
  {
   "cell_type": "code",
   "execution_count": 6,
   "id": "9301f47d-6d24-4c69-8ebd-a10067732c6a",
   "metadata": {},
   "outputs": [],
   "source": [
    "# Add in vitro peak matrix to vivo ArchR object\n",
    "vitroPeaks = getPeakSet(archrvitro)"
   ]
  },
  {
   "cell_type": "code",
   "execution_count": 7,
   "id": "437bd187-5e59-4678-8de2-0fa30461e806",
   "metadata": {},
   "outputs": [
    {
     "name": "stderr",
     "output_type": "stream",
     "text": [
      "Setting default number of Parallel threads to 10.\n",
      "\n",
      "ArchR logging to : ArchRLogs/ArchR-vitroPeakMatrix-20a16c52c1c860-Date-2024-04-26_Time-17-11-09.log\n",
      "If there is an issue, please report to github with logFile!\n",
      "\n",
      "2024-04-26 17:11:11 : Batch Execution w/ safelapply!, 0 mins elapsed.\n",
      "\n",
      "ArchR logging successful to : ArchRLogs/ArchR-vitroPeakMatrix-20a16c52c1c860-Date-2024-04-26_Time-17-11-09.log\n",
      "\n"
     ]
    }
   ],
   "source": [
    "addArchRThreads(10)\n",
    "archrvivo = addFeatureMatrix(\n",
    "              input = archrvivo,\n",
    "              features = vitroPeaks,\n",
    "              matrixName = \"vitroPeakMatrix\",\n",
    "              ceiling = 4,\n",
    "              binarize = FALSE,\n",
    "              verbose = TRUE,\n",
    "              threads = getArchRThreads(),\n",
    "              parallelParam = NULL,\n",
    "              force = TRUE,\n",
    "              logFile = createLogFile(\"vitroPeakMatrix\")\n",
    "            )"
   ]
  },
  {
   "cell_type": "code",
   "execution_count": 8,
   "id": "f3605a28-189d-46a2-a7c3-6ab5396f68cd",
   "metadata": {},
   "outputs": [
    {
     "name": "stderr",
     "output_type": "stream",
     "text": [
      "Setting default number of Parallel threads to 5.\n",
      "\n",
      "ArchR logging to : ArchRLogs/ArchR-getMatrixFromProject-20a16c7d29a448-Date-2024-04-26_Time-17-14-51.log\n",
      "If there is an issue, please report to github with logFile!\n",
      "\n",
      "2024-04-26 17:15:56 : Organizing colData, 1.089 mins elapsed.\n",
      "\n",
      "2024-04-26 17:15:57 : Organizing rowData, 1.095 mins elapsed.\n",
      "\n",
      "2024-04-26 17:15:57 : Organizing rowRanges, 1.095 mins elapsed.\n",
      "\n",
      "2024-04-26 17:15:57 : Organizing Assays (1 of 1), 1.095 mins elapsed.\n",
      "\n",
      "2024-04-26 17:16:28 : Constructing SummarizedExperiment, 1.621 mins elapsed.\n",
      "\n",
      "2024-04-26 17:17:06 : Finished Matrix Creation, 2.25 mins elapsed.\n",
      "\n"
     ]
    }
   ],
   "source": [
    "addArchRThreads(5)\n",
    "atac.sce = getMatrixFromProject(archrvivo, useMatrix = 'vitroPeakMatrix')"
   ]
  },
  {
   "cell_type": "code",
   "execution_count": 11,
   "id": "c14cc359-f9ac-4d33-92ae-908274feaf85",
   "metadata": {
    "tags": []
   },
   "outputs": [],
   "source": [
    "## High resolution clustering to determine correlations between ATAC and RNA\n",
    "## Note: I'm not performing any batch correction, Clusters will likely have some form of sample-specificity, but it is unlikely that this will affect downstream results as they will still capture cell-type within those samples as well\n",
    "# Load SingleCellExperiment\n",
    "rna.sce <- readRDS(io$RNA_sce)\n",
    "#rna.sce = rna.sce[,match(meta$cell, colnames(rna.sce))]\n",
    "# Make sure that samples are consistent\n",
    "cells <- intersect(colnames(rna.sce),colnames(atac.sce))\n",
    "rna.sce <- rna.sce[,cells]\n",
    "atac.sce <- atac.sce[,cells]"
   ]
  },
  {
   "cell_type": "code",
   "execution_count": 12,
   "id": "fc2e7746-0fab-4058-8f1e-ac96d2c12df4",
   "metadata": {},
   "outputs": [],
   "source": [
    "rna.sce = logNormCounts(rna.sce)"
   ]
  },
  {
   "cell_type": "code",
   "execution_count": 13,
   "id": "3978feb7-990e-4f1d-8567-083c21ed745e",
   "metadata": {},
   "outputs": [
    {
     "data": {
      "text/html": [
       "<style>\n",
       ".list-inline {list-style: none; margin:0; padding: 0}\n",
       ".list-inline>li {display: inline-block}\n",
       ".list-inline>li:not(:last-child)::after {content: \"\\00b7\"; padding: 0 .5ex}\n",
       "</style>\n",
       "<ol class=list-inline><li>'E7.5_rep1'</li><li>'E7.5_rep2'</li><li>'E7.75_rep1'</li><li>'E8.0_rep1'</li><li>'E8.0_rep2'</li><li>'E8.5_rep1'</li><li>'E8.5_rep2'</li><li>'E8.75_rep1'</li><li>'E8.75_rep2'</li></ol>\n"
      ],
      "text/latex": [
       "\\begin{enumerate*}\n",
       "\\item 'E7.5\\_rep1'\n",
       "\\item 'E7.5\\_rep2'\n",
       "\\item 'E7.75\\_rep1'\n",
       "\\item 'E8.0\\_rep1'\n",
       "\\item 'E8.0\\_rep2'\n",
       "\\item 'E8.5\\_rep1'\n",
       "\\item 'E8.5\\_rep2'\n",
       "\\item 'E8.75\\_rep1'\n",
       "\\item 'E8.75\\_rep2'\n",
       "\\end{enumerate*}\n"
      ],
      "text/markdown": [
       "1. 'E7.5_rep1'\n",
       "2. 'E7.5_rep2'\n",
       "3. 'E7.75_rep1'\n",
       "4. 'E8.0_rep1'\n",
       "5. 'E8.0_rep2'\n",
       "6. 'E8.5_rep1'\n",
       "7. 'E8.5_rep2'\n",
       "8. 'E8.75_rep1'\n",
       "9. 'E8.75_rep2'\n",
       "\n",
       "\n"
      ],
      "text/plain": [
       "[1] \"E7.5_rep1\"  \"E7.5_rep2\"  \"E7.75_rep1\" \"E8.0_rep1\"  \"E8.0_rep2\" \n",
       "[6] \"E8.5_rep1\"  \"E8.5_rep2\"  \"E8.75_rep1\" \"E8.75_rep2\""
      ]
     },
     "metadata": {},
     "output_type": "display_data"
    }
   ],
   "source": [
    "unique(rna.sce$sample)"
   ]
  },
  {
   "cell_type": "code",
   "execution_count": 14,
   "id": "1e9eb35c-fcd3-4b67-812f-ab34988d1ca7",
   "metadata": {},
   "outputs": [],
   "source": [
    "# RNA dimreduction\n",
    "decomp <- modelGeneVar(rna.sce, block = rna.sce$sample)\n",
    "decomp <- decomp[decomp$mean > 0.01,]\n",
    "hvgs <- decomp[order(decomp$FDR),] %>% head(n=5000) %>% rownames\n",
    "\n",
    "sce_filt <- rna.sce[hvgs,]\n",
    "sce_filt <- runPCA(sce_filt, ncomponents = 40, ntop=5000)"
   ]
  },
  {
   "cell_type": "code",
   "execution_count": 15,
   "id": "f8a030ee-7f2d-47f6-9059-ea0ba89c5392",
   "metadata": {},
   "outputs": [],
   "source": [
    "# Create Seurat object with PCA \n",
    "pca <- reducedDim(sce_filt,\"PCA\")\n",
    "counts = matrix(ncol=length(colnames(rna.sce)), nrow=1)\n",
    "colnames(counts) = colnames(rna.sce)\n",
    "rownames(counts) = 'x'\n",
    "seurat = CreateSeuratObject(counts)                \n",
    "seurat[[\"pca\"]] <- CreateDimReducObject(embeddings = pca, key = \"PC_\", assay = DefaultAssay(seurat))"
   ]
  },
  {
   "cell_type": "code",
   "execution_count": 16,
   "id": "b87e9cd1-6b7a-4703-9183-4120f499e2f4",
   "metadata": {},
   "outputs": [
    {
     "name": "stderr",
     "output_type": "stream",
     "text": [
      "Computing nearest neighbor graph\n",
      "\n",
      "Computing SNN\n",
      "\n"
     ]
    },
    {
     "name": "stdout",
     "output_type": "stream",
     "text": [
      "Modularity Optimizer version 1.3.0 by Ludo Waltman and Nees Jan van Eck\n",
      "\n",
      "Number of nodes: 45707\n",
      "Number of edges: 1531796\n",
      "\n",
      "Running Louvain algorithm...\n",
      "Maximum modularity in 10 random starts: 0.7127\n",
      "Number of communities: 222\n",
      "Elapsed time: 4 seconds\n"
     ]
    }
   ],
   "source": [
    "# high clustering resolution instead of metacells\n",
    "library(future)\n",
    "plan(\"multisession\", workers = 6)\n",
    "seurat <- FindNeighbors(seurat, dims = 1:40)\n",
    "seurat <- FindClusters(seurat, resolution = 20)"
   ]
  },
  {
   "cell_type": "code",
   "execution_count": 17,
   "id": "a77e038c-481c-445f-b585-fb0fbcf86367",
   "metadata": {},
   "outputs": [],
   "source": [
    "clusters = as.data.table(seurat@meta.data, keep.rownames=T) %>% .[,c('rn', 'seurat_clusters')] %>% setnames(c('cell', 'cluster'))"
   ]
  },
  {
   "cell_type": "code",
   "execution_count": 18,
   "id": "538da29f-ad35-4425-98ef-a8ebc647266f",
   "metadata": {},
   "outputs": [
    {
     "data": {
      "text/html": [
       "222"
      ],
      "text/latex": [
       "222"
      ],
      "text/markdown": [
       "222"
      ],
      "text/plain": [
       "[1] 222"
      ]
     },
     "metadata": {},
     "output_type": "display_data"
    }
   ],
   "source": [
    "length(unique(clusters$cluster))"
   ]
  },
  {
   "cell_type": "code",
   "execution_count": 19,
   "id": "2edbe44e-a1cb-49af-97d0-06fe1426b697",
   "metadata": {},
   "outputs": [
    {
     "data": {
      "text/plain": [
       "   Mode    TRUE \n",
       "logical   45707 "
      ]
     },
     "metadata": {},
     "output_type": "display_data"
    }
   ],
   "source": [
    "summary(colnames(rna.sce) == clusters$cell)"
   ]
  },
  {
   "cell_type": "code",
   "execution_count": 20,
   "id": "876ca867-79e9-4a90-9e73-a8e3ebc31c4d",
   "metadata": {},
   "outputs": [],
   "source": [
    "library(BiocParallel)\n",
    "BPPARAM = MulticoreParam(detectCores()-2)"
   ]
  },
  {
   "cell_type": "code",
   "execution_count": 21,
   "id": "4141df07-f3f4-4ca8-b2d4-5026210f36eb",
   "metadata": {},
   "outputs": [
    {
     "data": {
      "text/plain": [
       "   Mode    TRUE \n",
       "logical   45707 "
      ]
     },
     "metadata": {},
     "output_type": "display_data"
    }
   ],
   "source": [
    "summary(colnames(rna.sce) == colnames(atac.sce))"
   ]
  },
  {
   "cell_type": "code",
   "execution_count": 22,
   "id": "20ca492e-bb1c-41ac-bc66-a6b2f957af18",
   "metadata": {},
   "outputs": [
    {
     "data": {
      "text/plain": [
       "   Mode    TRUE \n",
       "logical   45707 "
      ]
     },
     "metadata": {},
     "output_type": "display_data"
    }
   ],
   "source": [
    "summary(clusters$cell == colnames(rna.sce))"
   ]
  },
  {
   "cell_type": "code",
   "execution_count": 23,
   "id": "3ce96d10-f74c-4b2c-82f5-7b5f24c8093d",
   "metadata": {},
   "outputs": [],
   "source": [
    "# Pseudobulk by clusters\n",
    "rna.pb = aggregateAcrossCells(rna.sce, id=clusters$cluster, BPPARAM = BPPARAM)\n",
    "atac.pb = aggregateAcrossCells(atac.sce, use.assay.type = 'vitroPeakMatrix', id=clusters$cluster, BPPARAM = BPPARAM)"
   ]
  },
  {
   "cell_type": "code",
   "execution_count": 24,
   "id": "b90eefdc-d241-4c64-8b55-42187c03bc8c",
   "metadata": {},
   "outputs": [],
   "source": [
    "assay(rna.pb,\"logcounts\") <- log(1e6*(sweep(assay(rna.pb),2,colSums(assay(rna.pb),na.rm=T),\"/\"))+1) \n",
    "assay(atac.pb,\"logcounts\") <- log(1e6*(sweep(assay(atac.pb),2,colSums(assay(atac.pb),na.rm=T),\"/\"))+1)"
   ]
  },
  {
   "cell_type": "markdown",
   "id": "59633289-64bb-4a6c-967d-d1d31ab01927",
   "metadata": {},
   "source": [
    "# Cisbp"
   ]
  },
  {
   "cell_type": "code",
   "execution_count": 25,
   "id": "f3258832-083e-49ba-9847-8c18bb550488",
   "metadata": {},
   "outputs": [
    {
     "name": "stderr",
     "output_type": "stream",
     "text": [
      "\n",
      "\n",
      "\n",
      "Attaching package: ‘XVector’\n",
      "\n",
      "\n",
      "The following object is masked from ‘package:purrr’:\n",
      "\n",
      "    compact\n",
      "\n",
      "\n",
      "The following object is masked from ‘package:plyr’:\n",
      "\n",
      "    compact\n",
      "\n",
      "\n",
      "\n",
      "Attaching package: ‘Biostrings’\n",
      "\n",
      "\n",
      "The following object is masked from ‘package:grid’:\n",
      "\n",
      "    pattern\n",
      "\n",
      "\n",
      "The following object is masked from ‘package:base’:\n",
      "\n",
      "    strsplit\n",
      "\n",
      "\n"
     ]
    }
   ],
   "source": [
    "## Get motif matches for example motifs in peaks \n",
    "## Adapted from: https://rdrr.io/github/GreenleafLab/ArchR/src/R/AnnotationPeaks.R\n",
    "# Load motifs\n",
    "library(motifmatchr)\n",
    "library(chromVARmotifs)\n",
    "\n",
    "data(\"mouse_pwms_v2\")\n",
    "motifs <- mouse_pwms_v2\n",
    "obj <- ArchR:::.summarizeChromVARMotifs(motifs)\n",
    "motifs <- obj$motifs\n",
    "motifSummary <- obj$motifSummary\n",
    "names(motifs) = gsub( 'Tcfap', 'tfap', names(motifs))\n",
    "\n",
    "# Find scores\n",
    "motifmatcher.se <-  motifmatchr::matchMotifs(pwms = motifs, \n",
    "                                        subject = vitroPeaks, \n",
    "                                        genome = \"mm10\", \n",
    "                                        out = 'scores',\n",
    "                                        p.cutoff = 5e-05,\n",
    "                                        w = 7) "
   ]
  },
  {
   "cell_type": "code",
   "execution_count": 26,
   "id": "6a8e9c58-4cb3-41db-b069-2cd5507462ab",
   "metadata": {},
   "outputs": [],
   "source": [
    "# Add peak names to objects\n",
    "peaks = paste0(seqnames(vitroPeaks), ':', ranges(vitroPeaks))\n",
    "rownames(atac.pb) = peaks\n",
    "rownames(motifmatcher.se) = peaks\n",
    "\n",
    "motif2gene.dt = data.table(motif = colnames(motifmatcher.se),\n",
    "                           gene = toupper(str_split(colnames(motifmatcher.se), '_') %>% map_chr(1)))"
   ]
  },
  {
   "cell_type": "code",
   "execution_count": 27,
   "id": "29b86fc8-cfa5-4b94-8c41-ea9f96f10451",
   "metadata": {
    "collapsed": true,
    "jupyter": {
     "outputs_hidden": true
    },
    "tags": []
   },
   "outputs": [
    {
     "name": "stdout",
     "output_type": "stream",
     "text": [
      "[1] \"Removing 5 TFs that have duplicated gene-motif pairs:\\nFOXL1, GM4881, GM5294, NFIL3, ZFP263\"\n"
     ]
    },
    {
     "name": "stderr",
     "output_type": "stream",
     "text": [
      "Correlate TF-expr & Region-accessibility for 738 TFs\n",
      "\n"
     ]
    },
    {
     "name": "stdout",
     "output_type": "stream",
     "text": [
      "SOX17 \n",
      "MYBL1 \n",
      "MSC \n",
      "TFAP2D \n",
      "TFAP2B \n",
      "ARID5A \n",
      "NPAS2 \n",
      "RFX8 \n",
      "POU3F3 \n",
      "STAT4 \n",
      "STAT1 \n",
      "HSFY2 \n"
     ]
    },
    {
     "name": "stderr",
     "output_type": "stream",
     "text": [
      "Warning message in cor(x, y, use = use, method = method):\n",
      "“the standard deviation is zero”\n"
     ]
    },
    {
     "name": "stdout",
     "output_type": "stream",
     "text": [
      "KLF7 \n",
      "CREB1 \n",
      "FEV \n",
      "PAX3 \n",
      "SP110 \n",
      "SP140 \n",
      "SP100 \n",
      "GBX2 \n",
      "TWIST2 \n",
      "GLI2 \n",
      "EN1 \n",
      "ELK4 \n",
      "SOX13 \n",
      "MYOG \n",
      "ELF3 \n",
      "ZFP281 \n",
      "NR5A2 \n",
      "LHX9 \n",
      "LHX4 \n",
      "PRRX1 \n",
      "TBX19 \n",
      "POU2F1 \n",
      "RXRG \n",
      "LMX1A \n",
      "PBX1 \n",
      "ATF6 \n",
      "NR1I3 \n",
      "USF1 \n",
      "NHLH1 \n",
      "AHCTF1 \n",
      "MIXL1 \n",
      "HLX \n",
      "ESRRG \n",
      "BATF3 \n",
      "ATF3 \n",
      "IRF6 \n",
      "GATA3 \n",
      "PTF1A \n",
      "TBPL2 \n",
      "PAX8 \n",
      "LHX3 \n",
      "RXRA \n",
      "GFI1B \n",
      "BARHL1 \n",
      "PRRX2 \n",
      "NAIF1 \n",
      "LMX1B \n",
      "PBX3 \n",
      "LHX6 \n",
      "ZBTB6 \n",
      "LHX2 \n",
      "NR5A1 \n",
      "NR6A1 \n",
      "NR4A2 \n",
      "TBR1 \n",
      "SP5 \n",
      "DLX1 \n",
      "DLX2 \n",
      "SP3 \n",
      "SP9 \n",
      "ATF2 \n",
      "EVX2 \n",
      "HOXD13 \n",
      "HOXD12 \n"
     ]
    },
    {
     "name": "stderr",
     "output_type": "stream",
     "text": [
      "Warning message in cor(x, y, use = use, method = method):\n",
      "“the standard deviation is zero”\n"
     ]
    },
    {
     "name": "stdout",
     "output_type": "stream",
     "text": [
      "HOXD11 \n",
      "HOXD10 \n",
      "HOXD9 \n",
      "HOXD8 \n",
      "HOXD3 \n",
      "HOXD4 \n",
      "HOXD1 \n",
      "NFE2L2 \n",
      "NEUROD1 \n",
      "NR1H3 \n",
      "PHF21A \n",
      "PRDM11 \n",
      "ALX4 \n",
      "EHF \n",
      "ELF5 \n",
      "WT1 \n",
      "PAX6 \n",
      "MEIS2 \n",
      "MGA \n",
      "CENPB \n",
      "OVOL2 \n",
      "INSM1 \n",
      "PAX1 \n",
      "FOXA2 \n",
      "VSX1 \n",
      "SCRT2 \n",
      "TCF15 \n",
      "SOX12 \n",
      "ID1 \n",
      "FOXS1 \n"
     ]
    },
    {
     "name": "stderr",
     "output_type": "stream",
     "text": [
      "Warning message in cor(x, y, use = use, method = method):\n",
      "“the standard deviation is zero”\n"
     ]
    },
    {
     "name": "stdout",
     "output_type": "stream",
     "text": [
      "E2F1 \n",
      "TGIF2 \n",
      "MAFB \n",
      "MYBL2 \n",
      "HNF4A \n",
      "SNAI1 \n",
      "CEBPB \n",
      "NFATC2 \n",
      "TFAP2C \n",
      "CTCFL \n",
      "GATA5 \n",
      "TCFL5 \n",
      "BHLHE23 \n",
      "GMEB2 \n",
      "SOX18 \n",
      "HNF4G \n",
      "HEY1 \n",
      "E2F5 \n",
      "BHLHE22 \n",
      "MECOM \n",
      "SOX2 \n",
      "ELF2 \n",
      "FOXO1 \n",
      "SMAD9 \n",
      "SOHLH2 \n",
      "SHOX2 \n",
      "ETV3 \n",
      "MEF2D \n",
      "ZBTB7B \n",
      "RORC \n",
      "RFX5 \n",
      "ARNT \n",
      "TBX15 \n",
      "NHLH2 \n",
      "NR1H5 \n",
      "ALX3 \n",
      "NEUROG2 \n",
      "PITX2 \n",
      "LEF1 \n",
      "NFKB1 \n",
      "LHX8 \n",
      "PLAG1 \n",
      "POU3F2 \n",
      "BACH2 \n",
      "ARID3C \n",
      "CREB3 \n",
      "PAX5 \n",
      "FOXE1 \n",
      "NR4A3 \n",
      "TAL2 \n",
      "KLF4 \n",
      "NFIB \n",
      "DMRTA1 \n",
      "JUN \n",
      "NFIA \n",
      "FOXD3 \n",
      "GLIS1 \n",
      "DMRTA2 \n",
      "FOXD2 \n",
      "FOXE3 \n",
      "TAL1 \n",
      "DMBX1 \n",
      "ZFP691 \n",
      "YBX1 \n",
      "FOXJ3 \n",
      "HIVEP3 \n",
      "FOXO6 \n",
      "HEYL \n",
      "POU3F1 \n",
      "MTF1 \n",
      "TFAP2E \n",
      "ZSCAN20 \n",
      "GMEB1 \n",
      "RUNX3 \n",
      "ID3 \n",
      "E2F2 \n",
      "PAX7 \n",
      "HES2 \n",
      "TRP73 \n",
      "HES5 \n",
      "GBX1 \n",
      "EN2 \n",
      "MNX1 \n",
      "FOSL2 \n",
      "HMX1 \n",
      "MSX1 \n",
      "ZBTB49 \n",
      "RBPJ \n",
      "KLF3 \n",
      "PHOX2B \n",
      "GSX2 \n",
      "CLOCK \n",
      "REST \n",
      "LIN54 \n",
      "BARHL2 \n",
      "HNF1A \n",
      "TBX3 \n",
      "TBX5 \n",
      "LHX5 \n",
      "CUX2 \n",
      "KDM2B \n",
      "MLXIP \n",
      "MLXIPL \n",
      "CUX1 \n",
      "ZKSCAN1 \n",
      "UNCX \n",
      "MAFK \n",
      "FOXK1 \n",
      "BHLHA15 \n",
      "ZKSCAN5 \n",
      "GSX1 \n",
      "PDX1 \n",
      "CDX2 \n",
      "DLX6 \n",
      "DLX5 \n",
      "FOXP2 \n",
      "FEZF1 \n",
      "PAX4 \n",
      "IRF5 \n",
      "KLF14 \n",
      "CREB3L2 \n",
      "NOBOX \n",
      "ZFP282 \n",
      "NFE2L3 \n",
      "HOXA1 \n",
      "HOXA2 \n",
      "HOXA3 \n",
      "HOXA4 \n",
      "HOXA5 \n",
      "HOXA6 \n",
      "HOXA7 \n",
      "HOXA9 \n",
      "HOXA10 \n",
      "HOXA11 \n",
      "HOXA13 \n",
      "EVX1 \n",
      "NEUROD6 \n",
      "ATOH1 \n",
      "FOXI3 \n",
      "ATOH8 \n",
      "TCF7L1 \n",
      "TLX2 \n",
      "LBX2 \n",
      "VAX2 \n",
      "EMX1 \n",
      "NOTO \n",
      "EGR4 \n",
      "FIGLA \n",
      "GATA2 \n",
      "KLF15 \n",
      "NR2C2 \n",
      "MITF \n",
      "FOXP1 \n",
      "BHLHE40 \n",
      "PPARG \n",
      "ZFP637 \n",
      "NANOG \n",
      "FOXJ2 \n",
      "ZFP384 \n",
      "TEAD4 \n",
      "FOXM1 \n",
      "ETV6 \n",
      "SOX5 \n",
      "BHLHE41 \n",
      "ZFP524 \n",
      "ZFP784 \n",
      "ZSCAN4C \n",
      "ZSCAN4F \n"
     ]
    },
    {
     "name": "stderr",
     "output_type": "stream",
     "text": [
      "Warning message in cor(x, y, use = use, method = method):\n",
      "“the standard deviation is zero”\n"
     ]
    },
    {
     "name": "stdout",
     "output_type": "stream",
     "text": [
      "ZFP110 \n",
      "ZFP128 \n",
      "MZF1 \n",
      "OBOX1 \n",
      "OBOX3 \n",
      "OBOX5 \n",
      "OBOX6 \n",
      "CRX \n",
      "MEIS3 \n",
      "NPAS1 \n",
      "HIF3A \n",
      "MYPOP \n",
      "FOXA3 \n",
      "SIX5 \n",
      "FOSB \n",
      "RELB \n",
      "DMRTC2 \n",
      "POU2F2 \n",
      "ERF \n",
      "CIC \n",
      "ETV2 \n",
      "USF2 \n",
      "CEBPG \n",
      "CEBPA \n",
      "SPIB \n",
      "NR1H2 \n",
      "ATF5 \n",
      "IRF3 \n",
      "DBP \n",
      "MYOD1 \n",
      "E2F8 \n",
      "DBX1 \n",
      "KLF13 \n",
      "MEF2A \n",
      "NR2F2 \n",
      "MESP1 \n",
      "MESP2 \n",
      "ARNT2 \n",
      "CREBZF \n",
      "PHOX2A \n",
      "ZFP143 \n",
      "ARNTL \n",
      "SOX6 \n",
      "MAZ \n",
      "HMX3 \n",
      "HMX2 \n",
      "FOXI2 \n",
      "MSX3 \n",
      "IRF7 \n",
      "ASCL2 \n",
      "TFDP1 \n",
      "ZFP42 \n",
      "IRF2 \n",
      "HAND2 \n",
      "PBX4 \n",
      "MEF2B \n",
      "JUND \n",
      "NR2F6 \n",
      "KLF2 \n",
      "ISX \n",
      "NR3C2 \n",
      "POU4F2 \n",
      "SMAD1 \n",
      "RFX1 \n",
      "NFIX \n",
      "LYL1 \n",
      "KLF1 \n",
      "JUNB \n",
      "IRX3 \n",
      "IRX5 \n",
      "IRX6 \n",
      "HSF4 \n",
      "E2F4 \n",
      "CTCF \n",
      "NFATC3 \n",
      "TERF2 \n",
      "NFAT5 \n",
      "MAF \n",
      "FOXC2 \n",
      "SNAI3 \n",
      "PGR \n",
      "TBX20 \n",
      "BARX2 \n",
      "FLI1 \n",
      "ETS1 \n",
      "PKNOX2 \n",
      "ZFP202 \n",
      "BSX \n",
      "POU2F3 \n",
      "ISL2 \n",
      "ARID3B \n",
      "NR2E3 \n",
      "SMAD3 \n",
      "RORA \n",
      "FOXB1 \n",
      "TCF12 \n",
      "RFX7 \n",
      "ONECUT1 \n",
      "GCM1 \n",
      "TBX18 \n",
      "ZIC1 \n",
      "ZIC4 \n",
      "TFDP2 \n",
      "FOXL2 \n",
      "SOX14 \n",
      "SMARCC1 \n",
      "UBP1 \n",
      "EOMES \n",
      "ZFP105 \n",
      "ESR1 \n",
      "PLAGL1 \n",
      "HIVEP2 \n",
      "OLIG3 \n",
      "MYB \n",
      "TCF21 \n",
      "HEY2 \n",
      "FOXO3 \n",
      "NR2E1 \n",
      "PRDM1 \n",
      "SIM1 \n",
      "RFX6 \n",
      "HSF2 \n",
      "NEUROG3 \n",
      "ATOH7 \n",
      "EGR2 \n",
      "ARID5B \n",
      "ARID3A \n",
      "TCF3 \n",
      "ONECUT3 \n",
      "KLF16 \n",
      "CREB3L3 \n",
      "ZBTB7A \n",
      "HMG20B \n",
      "NFIC \n",
      "RFX4 \n",
      "PRDM4 \n",
      "ASCL1 \n",
      "SPIC \n",
      "NR1H4 \n",
      "ELK3 \n",
      "NR2C1 \n",
      "ALX1 \n",
      "MYF5 \n",
      "MYF6 \n",
      "E2F7 \n",
      "HMGA2 \n",
      "DDIT3 \n",
      "GLI1 \n",
      "STAT6 \n",
      "STAT2 \n",
      "SMARCC2 \n",
      "IKZF4 \n",
      "NEUROD4 \n",
      "PATZ1 \n",
      "XBP1 \n",
      "IKZF1 \n",
      "MEIS1 \n",
      "OTX1 \n",
      "REL \n",
      "BCL11A \n",
      "TLX3 \n",
      "FOXI1 \n"
     ]
    },
    {
     "name": "stderr",
     "output_type": "stream",
     "text": [
      "Warning message in cor(x, y, use = use, method = method):\n",
      "“the standard deviation is zero”\n"
     ]
    },
    {
     "name": "stdout",
     "output_type": "stream",
     "text": [
      "EBF1 \n",
      "SOX30 \n",
      "ZFP354C \n",
      "PROP1 \n"
     ]
    },
    {
     "name": "stderr",
     "output_type": "stream",
     "text": [
      "Warning message in cor(x, y, use = use, method = method):\n",
      "“the standard deviation is zero”\n"
     ]
    },
    {
     "name": "stdout",
     "output_type": "stream",
     "text": [
      "TCF7 \n",
      "IRF1 \n",
      "HAND1 \n",
      "SREBF1 \n",
      "HES7 \n",
      "TRP53 \n",
      "SOX15 \n",
      "ZBTB4 \n",
      "YBX2 \n",
      "BCL6B \n",
      "ZFP3 \n",
      "MNT \n",
      "HIC1 \n",
      "SEBOX \n",
      "HNF1B \n",
      "LHX1 \n",
      "TBX2 \n",
      "TBX4 \n",
      "HLF \n",
      "DLX3 \n",
      "DLX4 \n",
      "ZFP652 \n",
      "HOXB13 \n",
      "HOXB9 \n",
      "HOXB8 \n",
      "HOXB7 \n",
      "HOXB6 \n",
      "HOXB5 \n",
      "HOXB4 \n",
      "HOXB3 \n",
      "HOXB2 \n",
      "HOXB1 \n",
      "NFE2L1 \n",
      "SP2 \n",
      "SP6 \n",
      "TBX21 \n",
      "NEUROD2 \n",
      "THRA \n",
      "NR1D1 \n",
      "RARA \n",
      "STAT5B \n",
      "STAT5A \n",
      "STAT3 \n",
      "MLX \n",
      "ETV4 \n",
      "MEOX1 \n",
      "SOX9 \n",
      "FOXJ1 \n",
      "MAFG \n",
      "FOXK2 \n",
      "OSR1 \n",
      "MYCN \n",
      "E2F6 \n",
      "GRHL1 \n",
      "KLF11 \n",
      "ID2 \n",
      "SOX11 \n",
      "MYT1L \n",
      "HBP1 \n",
      "FERD3L \n",
      "TWIST1 \n",
      "AHR \n",
      "MEOX2 \n",
      "ETV1 \n",
      "FOXG1 \n",
      "NPAS3 \n",
      "PAX9 \n",
      "FOXA1 \n",
      "SIX6 \n",
      "SIX1 \n",
      "SIX4 \n",
      "ESR2 \n",
      "ZBTB1 \n",
      "MAX \n",
      "ZFP410 \n",
      "VSX2 \n",
      "FOS \n",
      "JDP2 \n",
      "BATF \n",
      "ESRRB \n",
      "FOXN3 \n",
      "GSC \n",
      "BCL11B \n",
      "YY1 \n",
      "SP4 \n",
      "SP8 \n",
      "KLF6 \n",
      "GLI3 \n",
      "POU6F2 \n",
      "ZKSCAN3 \n",
      "ZKSCAN4 \n",
      "SOX4 \n",
      "E2F3 \n",
      "IRF4 \n",
      "FOXQ1 \n",
      "FOXF2 \n",
      "FOXC1 \n",
      "RREB1 \n",
      "TFAP2A \n",
      "GCM2 \n",
      "HIVEP1 \n",
      "ID4 \n",
      "BARX1 \n",
      "MSX2 \n",
      "PITX1 \n",
      "NEUROG1 \n",
      "SMAD5 \n",
      "ZFP369 \n",
      "IRX1 \n",
      "IRX2 \n",
      "IRX4 \n",
      "AHRR \n",
      "NR2F1 \n",
      "MEF2C \n",
      "SPZ1 \n",
      "OTP \n",
      "FOXD1 \n",
      "ISL1 \n",
      "FEZF2 \n",
      "RARB \n",
      "THRB \n",
      "NR1D2 \n",
      "HESX1 \n",
      "PRRXL1 \n",
      "OTX2 \n",
      "ZFP219 \n",
      "CEBPE \n",
      "HOMEZ \n",
      "NRL \n",
      "IRF9 \n",
      "NFATC4 \n",
      "GATA4 \n",
      "SOX7 \n",
      "HMBOX1 \n",
      "EGR3 \n",
      "ZFP957 \n",
      "ELF1 \n",
      "KLF5 \n",
      "KLF12 \n",
      "POU4F1 \n",
      "SOX21 \n",
      "ZIC5 \n",
      "ZIC2 \n",
      "DNAJC21 \n",
      "OSR2 \n",
      "KLF10 \n",
      "MYC \n",
      "MAFA \n",
      "SCX \n",
      "HSF1 \n",
      "SCRT1 \n",
      "FOXH1 \n",
      "SOX10 \n",
      "ATF4 \n",
      "TEF \n",
      "SREBF2 \n",
      "PPARA \n",
      "DBX2 \n",
      "ARID2 \n",
      "VDR \n",
      "ATF1 \n",
      "POU6F1 \n",
      "NR4A1 \n",
      "ZFP740 \n",
      "RARG \n",
      "SP7 \n",
      "SP1 \n",
      "ATF7 \n",
      "HOXC13 \n",
      "HOXC12 \n",
      "HOXC11 \n",
      "HOXC10 \n",
      "HOXC5 \n",
      "HOXC9 \n",
      "HOXC8 \n",
      "HOXC6 \n",
      "HOXC4 \n",
      "NFE2 \n",
      "TFAP4 \n",
      "GLIS2 \n",
      "SNAI2 \n",
      "CEBPD \n",
      "HIC2 \n",
      "GSC2 \n",
      "TBX1 \n",
      "ETV5 \n",
      "BCL6 \n",
      "TRP63 \n",
      "HES1 \n",
      "ZFP148 \n",
      "NR1I2 \n",
      "BBX \n",
      "POU1F1 \n",
      "GABPA \n",
      "BACH1 \n",
      "OLIG2 \n",
      "OLIG1 \n",
      "RUNX1 \n",
      "SIM2 \n",
      "ERG \n",
      "ETS2 \n",
      "T \n",
      "TBP \n",
      "ZSCAN10 \n",
      "E4F1 \n",
      "SOX8 \n",
      "HMGA1 \n",
      "SPDEF \n",
      "ZFP523 \n",
      "PPARD \n",
      "TEAD3 \n",
      "PKNOX1 \n",
      "RXRB \n",
      "PBX2 \n",
      "ATF6B \n",
      "ZBTB12 \n",
      "POU5F1 \n",
      "RUNX2 \n",
      "CDC5L \n",
      "SRF \n",
      "FOXP4 \n",
      "NFYA \n",
      "RFX2 \n",
      "TGIF1 \n",
      "SIX3 \n",
      "SIX2 \n",
      "FOXN2 \n",
      "CREM \n",
      "ZEB1 \n",
      "GATA6 \n",
      "EGR1 \n",
      "NR3C1 \n",
      "POU4F3 \n",
      "CDX1 \n",
      "ONECUT2 \n",
      "RAX \n",
      "TCF4 \n",
      "MBD2 \n",
      "SMAD4 \n",
      "CXXC1 \n",
      "MBD1 \n",
      "ZBTB7C \n",
      "SMAD2 \n",
      "SETBP1 \n",
      "NFATC1 \n",
      "TBX10 \n",
      "NPAS4 \n",
      "FOSL1 \n",
      "OVOL1 \n",
      "RELA \n",
      "ESRRA \n",
      "ZBTB3 \n",
      "FOXB2 \n",
      "RORB \n",
      "KLF9 \n",
      "FOXD4 \n",
      "DMRT1 \n",
      "DMRT3 \n",
      "DMRT2 \n",
      "RFX3 \n",
      "GLIS3 \n",
      "HHEX \n",
      "LCOR \n",
      "PAX2 \n",
      "TLX1 \n",
      "LBX1 \n",
      "PITX3 \n",
      "NFKB2 \n",
      "TCF7L2 \n",
      "VAX1 \n",
      "EMX2 \n",
      "MYCS \n",
      "FOXP3 \n",
      "GATA1 \n",
      "ELK1 \n",
      "ZFP300 \n",
      "RHOX6 \n",
      "RHOX8 \n",
      "RHOX9 \n",
      "RHOX11 \n"
     ]
    },
    {
     "name": "stderr",
     "output_type": "stream",
     "text": [
      "Warning message in cor(x, y, use = use, method = method):\n",
      "“the standard deviation is zero”\n"
     ]
    },
    {
     "name": "stdout",
     "output_type": "stream",
     "text": [
      "ELF4 \n",
      "ZIC3 \n",
      "SOX3 \n",
      "MECP2 \n",
      "ARX \n",
      "ZFX \n",
      "AR \n",
      "FOXO4 \n",
      "CDX4 \n",
      "TBX22 \n",
      "POU3F4 \n",
      "HDX \n",
      "ZFP711 \n",
      "ESX1 \n",
      "KLF8 \n",
      "MBTPS2 \n",
      "ZFY1 \n",
      "SRY \n"
     ]
    },
    {
     "name": "stderr",
     "output_type": "stream",
     "text": [
      "Warning message in cor(x, y, use = use, method = method):\n",
      "“the standard deviation is zero”\n",
      "Warning message in `[.data.table`(., , `:=`(peak, rownames(atac.sce))):\n",
      "“Invalid .internal.selfref detected and fixed by taking a (shallow) copy of the data.table so that := can add this new column by reference. At an earlier point, this data.table has been copied by R (or was created manually using structure() or similar). Avoid names<- and attr<- which in R currently (and oddly) may copy the whole data.table. Use set* syntax instead to avoid copying: ?set, ?setnames and ?setattr. If this message doesn't help, please report your use case to the data.table issue tracker so the root cause can be fixed or this message improved.”\n"
     ]
    },
    {
     "data": {
      "text/plain": [
       "Time difference of 6.111171 mins"
      ]
     },
     "metadata": {},
     "output_type": "display_data"
    }
   ],
   "source": [
    "###################\n",
    "## Correlate TF-expr & Region-accessibility\n",
    "###################  \n",
    "a = Sys.time()\n",
    "tf2peak_cor.se = cor_TF_acc(rna.sce = rna.pb, \n",
    "                          atac.sce = atac.pb, \n",
    "                          TFs_filt = NULL, #colData(motifmatcher.se)$name,  # c('SOX17', 'MYBL1') -> test runs\n",
    "                          motifmatcher.se = motifmatcher.se, \n",
    "                          motif2gene.dt = motif2gene.dt,\n",
    "                          correlation_method = \"pearson\", \n",
    "                          remove_motifs = NULL,\n",
    "                          cores=1) # got an error this time with more cores\n",
    "b = Sys.time()\n",
    "b-a\n",
    "# Make sure no multicore errors!!!"
   ]
  },
  {
   "cell_type": "code",
   "execution_count": 30,
   "id": "c37d309a-2fff-403c-979a-c66006ac7201",
   "metadata": {},
   "outputs": [
    {
     "data": {
      "text/plain": [
       "class: RangedSummarizedExperiment \n",
       "dim: 234908 45707 \n",
       "metadata(0):\n",
       "assays(1): vitroPeakMatrix\n",
       "rownames: NULL\n",
       "rowData names(1): idx\n",
       "colnames(45707): E7.5_rep1#AAACAGCCATCCTGAA-1\n",
       "  E7.5_rep1#AAACAGCCATGCTATG-1 ... E8.75_rep2#TTTGTTGGTTCACTGT-1\n",
       "  E8.75_rep2#TTTGTTGGTTGAGCCG-1\n",
       "colData names(35): BlacklistRatio nDiFrags ... ReadsInPeaks FRIP"
      ]
     },
     "metadata": {},
     "output_type": "display_data"
    }
   ],
   "source": [
    "atac.sce"
   ]
  },
  {
   "cell_type": "code",
   "execution_count": 31,
   "id": "a28723d8-1a28-4745-8ce5-61d424e4d9a5",
   "metadata": {},
   "outputs": [
    {
     "data": {
      "text/plain": [
       "class: RangedSummarizedExperiment \n",
       "dim: 234908 222 \n",
       "metadata(0):\n",
       "assays(2): vitroPeakMatrix logcounts\n",
       "rownames(234908): chr1:3003470-3004070 chr1:3035598-3036198 ...\n",
       "  chrX:169925416-169926016 chrX:169937236-169937836\n",
       "rowData names(1): idx\n",
       "colnames(222): 0 1 ... 220 221\n",
       "colData names(37): BlacklistRatio nDiFrags ... ids ncells"
      ]
     },
     "metadata": {},
     "output_type": "display_data"
    }
   ],
   "source": [
    "atac.pb"
   ]
  },
  {
   "cell_type": "code",
   "execution_count": 72,
   "id": "95479b43-9ccc-4f67-b101-bcce2d0c420d",
   "metadata": {},
   "outputs": [
    {
     "name": "stdout",
     "output_type": "stream",
     "text": [
      "[1] \"Number of peaks: 234908\"\n",
      "[1] \"Predicting TF binding sites...\"\n",
      "[1] \"Number of TFs: 738\"\n",
      "[1] \"Updating motifmatchr results using the virtual ChIP-seq library...\"\n"
     ]
    },
    {
     "data": {
      "text/plain": [
       "Time difference of 45.73569 secs"
      ]
     },
     "metadata": {},
     "output_type": "display_data"
    }
   ],
   "source": [
    "######################################\n",
    "## Create virtual chip-seq library \n",
    "######################################\n",
    "a = Sys.time()\n",
    "motifmatcher_chip.se = silico_chip(atac.sce = atac.pb, \n",
    "                           tf2peak_cor.se = tf2peak_cor.se,\n",
    "                           motifmatcher.se = motifmatcher.se,\n",
    "                           motif2gene.dt = motif2gene.dt, \n",
    "                           min_number_peaks = 50,\n",
    "                           TFs_filt = NULL, \n",
    "                           remove_motifs = NULL,\n",
    "                           cores = 6)\n",
    "b = Sys.time()\n",
    "b-a"
   ]
  },
  {
   "cell_type": "code",
   "execution_count": 81,
   "id": "4358ee90-34a8-4d5b-9edd-2009b6a8be97",
   "metadata": {},
   "outputs": [],
   "source": [
    "saveRDS(motifmatcher_chip.se$motifmatcher_chip.se, file.path(io$outdir, 'vitro_peaks_silicoChIP_cisbp.rds'))"
   ]
  },
  {
   "cell_type": "markdown",
   "id": "824e964e-8898-4a07-97b1-d666f176830e",
   "metadata": {},
   "source": [
    "# Jaspar2020"
   ]
  },
  {
   "cell_type": "code",
   "execution_count": 55,
   "id": "9020f9ef-4787-41f0-ac25-0cb872ba0526",
   "metadata": {},
   "outputs": [
    {
     "data": {
      "text/plain": [
       "An object of class \"JASPAR2020\"\n",
       "Slot \"db\":\n",
       "[1] \"/rds/project/rds-SDzz0CATGms/users/bt392/miniconda3/envs/env_all/lib/R/library/JASPAR2020/extdata/JASPAR2020.sqlite\"\n"
      ]
     },
     "metadata": {},
     "output_type": "display_data"
    }
   ],
   "source": [
    "JASPAR2020::JASPAR2020"
   ]
  },
  {
   "cell_type": "code",
   "execution_count": 47,
   "id": "fb5e3e8f-a9e8-4fb0-921f-0adc26269494",
   "metadata": {},
   "outputs": [],
   "source": [
    "## Get motif matches for example motifs in peaks \n",
    "## Adapted from: https://rdrr.io/github/GreenleafLab/ArchR/src/R/AnnotationPeaks.R\n",
    "# Load motifs\n",
    "library(motifmatchr)\n",
    "library(JASPAR2020)\n",
    "\n",
    "args <- list(species = \"Homo sapiens\", collection = \"CORE\") # Needs to be human?\n",
    "motifs <- TFBSTools::getMatrixSet(JASPAR2020::JASPAR2020, args)\n",
    "obj <- ArchR:::.summarizeJASPARMotifs(motifs)\n",
    "motifs <- obj$motifs\n",
    "motifSummary <- obj$motifSummary\n",
    "#names(motifs) = gsub( 'TBXT', 'T', names(motifs)) # Rename T to fit\n",
    "\n",
    "# Find scores\n",
    "motifmatcher.se <-  motifmatchr::matchMotifs(pwms = motifs, \n",
    "                                        subject = vitroPeaks, \n",
    "                                        genome = \"mm10\", \n",
    "                                        out = 'scores',\n",
    "                                        p.cutoff = 5e-05,\n",
    "                                        w = 7) "
   ]
  },
  {
   "cell_type": "code",
   "execution_count": 52,
   "id": "ee6319b2-9878-4f8b-9a8e-f2b4903ad2c8",
   "metadata": {},
   "outputs": [],
   "source": [
    "# Add peak names to objects\n",
    "peaks = paste0(seqnames(vitroPeaks), ':', ranges(vitroPeaks))\n",
    "rownames(atac.pb) = peaks\n",
    "rownames(motifmatcher.se) = peaks\n",
    "\n",
    "motif2gene.dt = data.table(motif = colnames(motifmatcher.se),\n",
    "                           gene = toupper(str_split(colnames(motifmatcher.se), '_') %>% map_chr(1)))"
   ]
  },
  {
   "cell_type": "code",
   "execution_count": 53,
   "id": "3d471c0c-dfcd-4fec-b5d8-77148c42ad26",
   "metadata": {},
   "outputs": [
    {
     "name": "stdout",
     "output_type": "stream",
     "text": [
      "[1] \"Removing 0 TFs that have duplicated gene-motif pairs:\\n\"\n"
     ]
    },
    {
     "name": "stderr",
     "output_type": "stream",
     "text": [
      "Correlate TF-expr & Region-accessibility for 504 TFs\n",
      "\n"
     ]
    },
    {
     "data": {
      "text/plain": [
       "Time difference of 55.27338 secs"
      ]
     },
     "metadata": {},
     "output_type": "display_data"
    }
   ],
   "source": [
    "###################\n",
    "## Correlate TF-expr & Region-accessibility\n",
    "###################  \n",
    "a = Sys.time()\n",
    "tf2peak_cor.se = cor_TF_acc(rna.sce = rna.pb, \n",
    "                          atac.sce = atac.pb, \n",
    "                          TFs_filt = NULL, #colData(motifmatcher.se)$name,  # c('SOX17', 'MYBL1') -> test runs\n",
    "                          motifmatcher.se = motifmatcher.se, \n",
    "                          motif2gene.dt = motif2gene.dt,\n",
    "                          correlation_method = \"pearson\", \n",
    "                          remove_motifs = NULL,\n",
    "                          cores=6) # got an error this time with more cores\n",
    "b = Sys.time()\n",
    "b-a"
   ]
  },
  {
   "cell_type": "code",
   "execution_count": 54,
   "id": "293d1fc0-e3b5-4648-b513-064cb9ba38d2",
   "metadata": {},
   "outputs": [
    {
     "name": "stdout",
     "output_type": "stream",
     "text": [
      "[1] \"Number of peaks: 234908\"\n",
      "[1] \"Predicting TF binding sites...\"\n",
      "[1] \"Number of TFs: 504\"\n",
      "[1] \"Updating motifmatchr results using the virtual ChIP-seq library...\"\n"
     ]
    },
    {
     "data": {
      "text/plain": [
       "Time difference of 29.37032 secs"
      ]
     },
     "metadata": {},
     "output_type": "display_data"
    }
   ],
   "source": [
    "######################################\n",
    "## Create virtual chip-seq library \n",
    "######################################\n",
    "a = Sys.time()\n",
    "motifmatcher_chip.se = silico_chip(atac.sce = atac.pb, \n",
    "                           tf2peak_cor.se = tf2peak_cor.se,\n",
    "                           motifmatcher.se = motifmatcher.se,\n",
    "                           motif2gene.dt = motif2gene.dt, \n",
    "                           min_number_peaks = 50,\n",
    "                           TFs_filt = NULL, \n",
    "                           remove_motifs = NULL,\n",
    "                           cores = 6)\n",
    "b = Sys.time()\n",
    "b-a"
   ]
  },
  {
   "cell_type": "code",
   "execution_count": 56,
   "id": "3c66c855-79c0-45b8-954c-c1c0b441a9a4",
   "metadata": {},
   "outputs": [],
   "source": [
    "saveRDS(motifmatcher_chip.se$motifmatcher_chip.se, file.path(io$outdir, 'vitro_peaks_silicoChIP_jaspar2020.rds'))"
   ]
  },
  {
   "cell_type": "code",
   "execution_count": null,
   "id": "9464b39d-1de9-4d39-998f-b061f8bf7dc1",
   "metadata": {},
   "outputs": [],
   "source": []
  }
 ],
 "metadata": {
  "kernelspec": {
   "display_name": "R",
   "language": "R",
   "name": "ir"
  },
  "language_info": {
   "codemirror_mode": "r",
   "file_extension": ".r",
   "mimetype": "text/x-r-source",
   "name": "R",
   "pygments_lexer": "r",
   "version": "4.2.2"
  }
 },
 "nbformat": 4,
 "nbformat_minor": 5
}
