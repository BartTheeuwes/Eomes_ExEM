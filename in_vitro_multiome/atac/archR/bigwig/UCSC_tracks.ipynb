{
 "cells": [
  {
   "cell_type": "code",
   "execution_count": 88,
   "id": "2002f63a-5208-4787-a06c-fd9c0fcbe9cb",
   "metadata": {},
   "outputs": [],
   "source": [
    "source(here::here(\"settings.R\"))"
   ]
  },
  {
   "cell_type": "code",
   "execution_count": 89,
   "id": "0dc0bd64-9391-4f8f-939c-33d965fd6aa9",
   "metadata": {},
   "outputs": [],
   "source": [
    "args = list()\n",
    "args$canaveral = 'http://bioinformatics.stemcells.cam.ac.uk/Files_for_transfer/Open/bart/09_Eomes_degron_blood/bigwigs/'\n",
    "args$bw_in = file.path(io$basedir, 'processed/atac/archR/GroupBigWigs/celltype_genotype/')\n",
    "\n",
    "outfile = file.path(args$bw_in, 'ucsc_tracks.txt')"
   ]
  },
  {
   "cell_type": "code",
   "execution_count": 90,
   "id": "0e1ba0f4-74fd-4020-a4b1-30e02cd70bf4",
   "metadata": {},
   "outputs": [],
   "source": [
    "# ucsc tracks of in vitro\n",
    "files = list.files(args$bw_in, 'bw')\n",
    "celltypes = files %>% str_split('-') %>% map(1)\n",
    "ucsc_tracks = list()\n",
    "ucsc_tracks = lapply(celltypes, function(x){\n",
    "    name = gsub('.wt', ' WT', gsub('.eomes_ko', ' KO', x))\n",
    "    paste0('track type=bigWig name=\"',name,\n",
    "           '\" description=\"',name,\n",
    "           '\" color=',ifelse(grepl('ko', x), '255,000,000', '000,000,000'),\n",
    "           ' visibility=0 bigDataUrl=',args$canaveral,x,\n",
    "           '-TileSize-100-normMethod-ReadsInTSS-ArchR.bw')\n",
    "}) %>% unlist() %>% noquote() "
   ]
  },
  {
   "cell_type": "code",
   "execution_count": 91,
   "id": "9f503c25-f523-47d4-a113-7d142ecf3833",
   "metadata": {},
   "outputs": [],
   "source": [
    "# matching ucsc track of in vivo\n",
    "args = list()\n",
    "args$canaveral = 'http://bioinformatics.stemcells.cam.ac.uk/Files_for_transfer/Open/bart/gastrulation_multiome/'\n",
    "args$bw_in = '/rds/project/rds-SDzz0CATGms/users/bt392/atlasses/gastrulation_multiome/data/processed/atac/archR/GroupBigWigs/celltype/'"
   ]
  },
  {
   "cell_type": "code",
   "execution_count": 92,
   "id": "86dcd2e7-9f7f-4e5d-a9b9-10b5fa11b5e7",
   "metadata": {},
   "outputs": [],
   "source": [
    "celltypes = unique(files %>% str_split('\\\\.') %>% map(1))\n",
    "ucsc_tracks_atlas = lapply(celltypes, function(x){\n",
    "    paste0('track type=bigWig name=\"',x,\n",
    "           '\" description=\"',x,\n",
    "           '\" color=',paste(as.vector(col2rgb(opts$celltype.colors[x])), collapse = \",\"),\n",
    "           ' visibility=0 bigDataUrl=',args$canaveral,x,\n",
    "           '-TileSize-100-normMethod-ReadsInTSS-ArchR.bw')\n",
    "}) %>% unlist() %>% noquote() "
   ]
  },
  {
   "cell_type": "code",
   "execution_count": 93,
   "id": "47715d38-d8fc-40cc-8141-f6a957ca38ca",
   "metadata": {},
   "outputs": [],
   "source": [
    "ucsc_tracks = sort(c(ucsc_tracks, ucsc_tracks_atlas))\n",
    "writeLines(ucsc_tracks, outfile)"
   ]
  },
  {
   "cell_type": "code",
   "execution_count": null,
   "id": "6593f508-9e9f-4efd-8389-a0e0c8c320a8",
   "metadata": {},
   "outputs": [],
   "source": []
  }
 ],
 "metadata": {
  "kernelspec": {
   "display_name": "R",
   "language": "R",
   "name": "ir"
  },
  "language_info": {
   "codemirror_mode": "r",
   "file_extension": ".r",
   "mimetype": "text/x-r-source",
   "name": "R",
   "pygments_lexer": "r",
   "version": "4.2.2"
  }
 },
 "nbformat": 4,
 "nbformat_minor": 5
}
