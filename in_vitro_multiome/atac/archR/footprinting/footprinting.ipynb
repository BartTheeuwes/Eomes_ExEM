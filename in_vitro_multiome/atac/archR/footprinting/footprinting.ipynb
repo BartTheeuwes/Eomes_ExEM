{
 "cells": [
  {
   "cell_type": "code",
   "execution_count": 1,
   "id": "1db632d9-394f-4615-93d1-14a4a327b84b",
   "metadata": {
    "tags": []
   },
   "outputs": [
    {
     "name": "stderr",
     "output_type": "stream",
     "text": [
      "here() starts at /rds/project/rds-SDzz0CATGms/users/bt392/09_Eomes_invitro_blood/code\n",
      "\n",
      "\n",
      "                                                   / |\n",
      "                                                 /    \\\n",
      "            .                                  /      |.\n",
      "            \\\\\\                              /        |.\n",
      "              \\\\\\                          /           `|.\n",
      "                \\\\\\                      /              |.\n",
      "                  \\                    /                |\\\n",
      "                  \\\\#####\\           /                  ||\n",
      "                ==###########>      /                   ||\n",
      "                 \\\\##==......\\    /                     ||\n",
      "            ______ =       =|__ /__                     ||      \\\\\\\n",
      "        ,--' ,----`-,__ ___/'  --,-`-===================##========>\n",
      "       \\               '        ##_______ _____ ,--,__,=##,__   ///\n",
      "        ,    __==    ___,-,__,--'#'  ==='      `-'    | ##,-/\n",
      "        -,____,---'       \\\\####\\\\________________,--\\\\_##,/\n",
      "           ___      .______        ______  __    __  .______      \n",
      "          /   \\     |   _  \\      /      ||  |  |  | |   _  \\     \n",
      "         /  ^  \\    |  |_)  |    |  ,----'|  |__|  | |  |_)  |    \n",
      "        /  /_\\  \\   |      /     |  |     |   __   | |      /     \n",
      "       /  _____  \\  |  |\\  \\\\___ |  `----.|  |  |  | |  |\\  \\\\___.\n",
      "      /__/     \\__\\ | _| `._____| \\______||__|  |__| | _| `._____|\n",
      "    \n",
      "\n",
      "Setting default number of Parallel threads to 24.\n",
      "\n"
     ]
    }
   ],
   "source": [
    "here::i_am(\"rna_atac/differential/ATAC.ipynb\")\n",
    "\n",
    "source(here::here(\"settings.R\"))\n",
    "source(here::here(\"utils.R\"))\n",
    "\n",
    "suppressPackageStartupMessages(library(ArchR))\n",
    "suppressPackageStartupMessages(library(dplyr))\n",
    "suppressPackageStartupMessages(library(edgeR))\n",
    "\n",
    "\n",
    "BPPARAM <- BiocParallel::bpparam()\n",
    "BPPARAM$workers = 21\n",
    "\n",
    "addArchRThreads(24)"
   ]
  },
  {
   "cell_type": "code",
   "execution_count": 2,
   "id": "b1a2cc3d-90a8-4ca6-8111-54ab8c2e436c",
   "metadata": {},
   "outputs": [],
   "source": [
    "args = list()\n",
    "\n",
    "# Metadata\n",
    "args$metadata = file.path(io$basedir, 'results/rna_atac/clustering/metadata_celltype_annotated.txt.gz')\n",
    "\n",
    "# Archr\n",
    "args$archr_directory = file.path(io$basedir, 'processed/atac/archR')\n",
    "\n",
    "# outdir\n",
    "args$outdir = file.path(io$basedir, 'results/rna_atac/differential/Accessibility/')\n",
    "dir.create(args$outdir, recursive=TRUE, showWarnings =FALSE)"
   ]
  },
  {
   "cell_type": "code",
   "execution_count": 3,
   "id": "ffac243f-c4bd-460e-831e-4d8169e5e328",
   "metadata": {},
   "outputs": [],
   "source": [
    "# Load meta\n",
    "meta = fread(args$metadata)[day!='D3'] %>% # remove D3 cells\n",
    "    .[,celltype_genotype:=paste0(celltype_v1, '-', genotype)]"
   ]
  },
  {
   "cell_type": "code",
   "execution_count": 4,
   "id": "9d4ab860-b82a-470e-9b5e-e0b08ed17f08",
   "metadata": {},
   "outputs": [
    {
     "name": "stderr",
     "output_type": "stream",
     "text": [
      "Successfully loaded ArchRProject!\n",
      "\n",
      "\n",
      "                                                   / |\n",
      "                                                 /    \\\n",
      "            .                                  /      |.\n",
      "            \\\\\\                              /        |.\n",
      "              \\\\\\                          /           `|.\n",
      "                \\\\\\                      /              |.\n",
      "                  \\                    /                |\\\n",
      "                  \\\\#####\\           /                  ||\n",
      "                ==###########>      /                   ||\n",
      "                 \\\\##==......\\    /                     ||\n",
      "            ______ =       =|__ /__                     ||      \\\\\\\n",
      "        ,--' ,----`-,__ ___/'  --,-`-===================##========>\n",
      "       \\               '        ##_______ _____ ,--,__,=##,__   ///\n",
      "        ,    __==    ___,-,__,--'#'  ==='      `-'    | ##,-/\n",
      "        -,____,---'       \\\\####\\\\________________,--\\\\_##,/\n",
      "           ___      .______        ______  __    __  .______      \n",
      "          /   \\     |   _  \\      /      ||  |  |  | |   _  \\     \n",
      "         /  ^  \\    |  |_)  |    |  ,----'|  |__|  | |  |_)  |    \n",
      "        /  /_\\  \\   |      /     |  |     |   __   | |      /     \n",
      "       /  _____  \\  |  |\\  \\\\___ |  `----.|  |  |  | |  |\\  \\\\___.\n",
      "      /__/     \\__\\ | _| `._____| \\______||__|  |__| | _| `._____|\n",
      "    \n",
      "\n"
     ]
    }
   ],
   "source": [
    "ArchRProject <- loadArchRProject(args$archr_directory)[meta$cell]"
   ]
  },
  {
   "cell_type": "code",
   "execution_count": 27,
   "id": "7bf0c5ac-801f-4497-9d41-2c20518a5d17",
   "metadata": {},
   "outputs": [
    {
     "data": {
      "text/html": [
       "<style>\n",
       ".list-inline {list-style: none; margin:0; padding: 0}\n",
       ".list-inline>li {display: inline-block}\n",
       ".list-inline>li:not(:last-child)::after {content: \"\\00b7\"; padding: 0 .5ex}\n",
       "</style>\n",
       "<ol class=list-inline><li>'Early_Mes_EOd-WT'</li><li>'Early_Mes_EOd-WT'</li><li>'Early_Mes_EOi-WT'</li><li>'Early_Mes_EOd-WT'</li><li>'Early_Mes_EOd-WT'</li><li>'Early_Mes_EOd-WT'</li></ol>\n"
      ],
      "text/latex": [
       "\\begin{enumerate*}\n",
       "\\item 'Early\\_Mes\\_EOd-WT'\n",
       "\\item 'Early\\_Mes\\_EOd-WT'\n",
       "\\item 'Early\\_Mes\\_EOi-WT'\n",
       "\\item 'Early\\_Mes\\_EOd-WT'\n",
       "\\item 'Early\\_Mes\\_EOd-WT'\n",
       "\\item 'Early\\_Mes\\_EOd-WT'\n",
       "\\end{enumerate*}\n"
      ],
      "text/markdown": [
       "1. 'Early_Mes_EOd-WT'\n",
       "2. 'Early_Mes_EOd-WT'\n",
       "3. 'Early_Mes_EOi-WT'\n",
       "4. 'Early_Mes_EOd-WT'\n",
       "5. 'Early_Mes_EOd-WT'\n",
       "6. 'Early_Mes_EOd-WT'\n",
       "\n",
       "\n"
      ],
      "text/plain": [
       "[1] \"Early_Mes_EOd-WT\" \"Early_Mes_EOd-WT\" \"Early_Mes_EOi-WT\" \"Early_Mes_EOd-WT\"\n",
       "[5] \"Early_Mes_EOd-WT\" \"Early_Mes_EOd-WT\""
      ]
     },
     "metadata": {},
     "output_type": "display_data"
    }
   ],
   "source": [
    "head(meta$celltype_genotype)"
   ]
  },
  {
   "cell_type": "code",
   "execution_count": 21,
   "id": "50d41ac8-9518-423c-a019-ff6e3d677280",
   "metadata": {},
   "outputs": [
    {
     "name": "stderr",
     "output_type": "stream",
     "text": [
      "Overriding previous entry for celltype_genotype\n",
      "\n"
     ]
    }
   ],
   "source": [
    "ArchRProject <- addCellColData(ArchRProj = ArchRProject, \n",
    "                                    data = as.character(meta$celltype_genotype),\n",
    "                                    cells = meta$cell,\n",
    "                                    name = \"celltype_genotype\",\n",
    "                                    force=TRUE)"
   ]
  },
  {
   "cell_type": "code",
   "execution_count": 37,
   "id": "49d096d0-0ba1-4465-beb6-d757cd409fc7",
   "metadata": {},
   "outputs": [
    {
     "name": "stderr",
     "output_type": "stream",
     "text": [
      "ArchR logging to : ArchRLogs/ArchR-addGroupCoverages-3969c861956c99-Date-2023-05-29_Time-18-03-30.log\n",
      "If there is an issue, please report to github with logFile!\n",
      "\n",
      "Allantois_Precursor-KO (1 of 22) : CellGroups N = 4\n",
      "\n",
      "Allantois_Precursor-WT (2 of 22) : CellGroups N = 3\n",
      "\n",
      "Allantois-KO (3 of 22) : CellGroups N = 2\n",
      "\n",
      "Allantois-WT (4 of 22) : CellGroups N = 2\n",
      "\n",
      "Blood_Progenitor-KO (5 of 22) : CellGroups N = 2\n",
      "\n",
      "Blood_Progenitor-WT (6 of 22) : CellGroups N = 2\n",
      "\n",
      "Early_Mes_EOd-KO (7 of 22) : CellGroups N = 2\n",
      "\n",
      "Early_Mes_EOd-WT (8 of 22) : CellGroups N = 3\n",
      "\n",
      "Early_Mes_EOi-KO (9 of 22) : CellGroups N = 4\n",
      "\n",
      "Early_Mes_EOi-WT (10 of 22) : CellGroups N = 4\n",
      "\n",
      "Endothelium-KO (11 of 22) : CellGroups N = 2\n",
      "\n",
      "Endothelium-WT (12 of 22) : CellGroups N = 2\n",
      "\n",
      "HE_Precursor-KO (13 of 22) : CellGroups N = 2\n",
      "\n",
      "HE_Precursor-WT (14 of 22) : CellGroups N = 2\n",
      "\n",
      "HE-KO (15 of 22) : CellGroups N = 3\n",
      "\n",
      "HE-WT (16 of 22) : CellGroups N = 5\n",
      "\n",
      "Mesenchyme-KO (17 of 22) : CellGroups N = 4\n",
      "\n",
      "Mesenchyme-WT (18 of 22) : CellGroups N = 4\n",
      "\n",
      "Posterior_Mes-KO (19 of 22) : CellGroups N = 5\n",
      "\n",
      "Posterior_Mes-WT (20 of 22) : CellGroups N = 2\n",
      "\n",
      "Primitive_Streak-KO (21 of 22) : CellGroups N = 4\n",
      "\n",
      "Primitive_Streak-WT (22 of 22) : CellGroups N = 3\n",
      "\n",
      "2023-05-29 18:03:35 : Further Sampled 18 Groups above the Max Fragments!, 0.084 mins elapsed.\n",
      "\n",
      "2023-05-29 18:03:50 : Creating Coverage Files!, 0.337 mins elapsed.\n",
      "\n",
      "2023-05-29 18:03:50 : Batch Execution w/ safelapply!, 0.337 mins elapsed.\n",
      "\n",
      "2023-05-29 18:06:10 : Adding Kmer Bias to Coverage Files!, 2.667 mins elapsed.\n",
      "\n",
      "Completed Kmer Bias Calculation\n",
      "\n",
      "Adding Kmer Bias (1 of 66)\n",
      "\n",
      "Adding Kmer Bias (2 of 66)\n",
      "\n",
      "Adding Kmer Bias (3 of 66)\n",
      "\n",
      "Adding Kmer Bias (4 of 66)\n",
      "\n",
      "Adding Kmer Bias (5 of 66)\n",
      "\n",
      "Adding Kmer Bias (6 of 66)\n",
      "\n",
      "Adding Kmer Bias (7 of 66)\n",
      "\n",
      "Adding Kmer Bias (8 of 66)\n",
      "\n",
      "Adding Kmer Bias (9 of 66)\n",
      "\n",
      "Adding Kmer Bias (10 of 66)\n",
      "\n",
      "Adding Kmer Bias (11 of 66)\n",
      "\n",
      "Adding Kmer Bias (12 of 66)\n",
      "\n",
      "Adding Kmer Bias (13 of 66)\n",
      "\n",
      "Adding Kmer Bias (14 of 66)\n",
      "\n",
      "Adding Kmer Bias (15 of 66)\n",
      "\n",
      "Adding Kmer Bias (16 of 66)\n",
      "\n",
      "Adding Kmer Bias (17 of 66)\n",
      "\n",
      "Adding Kmer Bias (18 of 66)\n",
      "\n",
      "Adding Kmer Bias (19 of 66)\n",
      "\n",
      "Adding Kmer Bias (20 of 66)\n",
      "\n",
      "Adding Kmer Bias (21 of 66)\n",
      "\n",
      "Adding Kmer Bias (22 of 66)\n",
      "\n",
      "Adding Kmer Bias (23 of 66)\n",
      "\n",
      "Adding Kmer Bias (24 of 66)\n",
      "\n",
      "Adding Kmer Bias (25 of 66)\n",
      "\n",
      "Adding Kmer Bias (26 of 66)\n",
      "\n",
      "Adding Kmer Bias (27 of 66)\n",
      "\n",
      "Adding Kmer Bias (28 of 66)\n",
      "\n",
      "Adding Kmer Bias (29 of 66)\n",
      "\n",
      "Adding Kmer Bias (30 of 66)\n",
      "\n",
      "Adding Kmer Bias (31 of 66)\n",
      "\n",
      "Adding Kmer Bias (32 of 66)\n",
      "\n",
      "Adding Kmer Bias (33 of 66)\n",
      "\n",
      "Adding Kmer Bias (34 of 66)\n",
      "\n",
      "Adding Kmer Bias (35 of 66)\n",
      "\n",
      "Adding Kmer Bias (36 of 66)\n",
      "\n",
      "Adding Kmer Bias (37 of 66)\n",
      "\n",
      "Adding Kmer Bias (38 of 66)\n",
      "\n",
      "Adding Kmer Bias (39 of 66)\n",
      "\n",
      "Adding Kmer Bias (40 of 66)\n",
      "\n",
      "Adding Kmer Bias (41 of 66)\n",
      "\n",
      "Adding Kmer Bias (42 of 66)\n",
      "\n",
      "Adding Kmer Bias (43 of 66)\n",
      "\n",
      "Adding Kmer Bias (44 of 66)\n",
      "\n",
      "Adding Kmer Bias (45 of 66)\n",
      "\n",
      "Adding Kmer Bias (46 of 66)\n",
      "\n",
      "Adding Kmer Bias (47 of 66)\n",
      "\n",
      "Adding Kmer Bias (48 of 66)\n",
      "\n",
      "Adding Kmer Bias (49 of 66)\n",
      "\n",
      "Adding Kmer Bias (50 of 66)\n",
      "\n",
      "Adding Kmer Bias (51 of 66)\n",
      "\n",
      "Adding Kmer Bias (52 of 66)\n",
      "\n",
      "Adding Kmer Bias (53 of 66)\n",
      "\n",
      "Adding Kmer Bias (54 of 66)\n",
      "\n",
      "Adding Kmer Bias (55 of 66)\n",
      "\n",
      "Adding Kmer Bias (56 of 66)\n",
      "\n",
      "Adding Kmer Bias (57 of 66)\n",
      "\n",
      "Adding Kmer Bias (58 of 66)\n",
      "\n",
      "Adding Kmer Bias (59 of 66)\n",
      "\n",
      "Adding Kmer Bias (60 of 66)\n",
      "\n",
      "Adding Kmer Bias (61 of 66)\n",
      "\n",
      "Adding Kmer Bias (62 of 66)\n",
      "\n",
      "Adding Kmer Bias (63 of 66)\n",
      "\n",
      "Adding Kmer Bias (64 of 66)\n",
      "\n",
      "Adding Kmer Bias (65 of 66)\n",
      "\n",
      "Adding Kmer Bias (66 of 66)\n",
      "\n",
      "2023-05-29 18:08:09 : Finished Creation of Coverage Files!, 4.646 mins elapsed.\n",
      "\n",
      "ArchR logging successful to : ArchRLogs/ArchR-addGroupCoverages-3969c861956c99-Date-2023-05-29_Time-18-03-30.log\n",
      "\n"
     ]
    }
   ],
   "source": [
    "# Add group coverages\n",
    "ArchRProject <- addGroupCoverages(ArchRProject, \n",
    "  groupBy = \"celltype_genotype\",\n",
    "  useLabels = TRUE,  # Need to use sample information, otherwise only 50 cells get used per condition. (bug in ArchR)\n",
    "  minCells = 50,\n",
    "  maxCells = 5000,\n",
    "  force = TRUE\n",
    ")"
   ]
  },
  {
   "cell_type": "code",
   "execution_count": 43,
   "id": "8bc47e6b-5356-4261-ba37-1e867ab5a006",
   "metadata": {},
   "outputs": [],
   "source": [
    "saveRDS(ArchRProject@projectMetadata$GroupCoverages$celltype_genotype, '/rds/project/rds-SDzz0CATGms/users/bt392/09_Eomes_invitro_blood/processed/atac/archR/GroupCoverages/celltype_genotype/GroupCoverages_metadata.rds')"
   ]
  },
  {
   "cell_type": "code",
   "execution_count": 177,
   "id": "7332e53d-413b-4e59-b387-1bfff9cb45d5",
   "metadata": {},
   "outputs": [],
   "source": [
    "# keep only relevant celltypes\n",
    "keep = unique(opts$clusters2celltypes)[unique(opts$clusters2celltypes) != 'Blood_Progenitor']"
   ]
  },
  {
   "cell_type": "code",
   "execution_count": 178,
   "id": "6f234979-445f-4686-b2c2-dd7ae6c0a40b",
   "metadata": {},
   "outputs": [],
   "source": [
    "# get motif positions\n",
    "motifPositions <- getPositions(ArchRProject)"
   ]
  },
  {
   "cell_type": "code",
   "execution_count": 179,
   "id": "75cf073f-aee9-408a-92c2-a1841040eb25",
   "metadata": {},
   "outputs": [
    {
     "data": {
      "text/html": [
       "<style>\n",
       ".list-inline {list-style: none; margin:0; padding: 0}\n",
       ".list-inline>li {display: inline-block}\n",
       ".list-inline>li:not(:last-child)::after {content: \"\\00b7\"; padding: 0 .5ex}\n",
       "</style>\n",
       "<ol class=list-inline><li>'Eomes_768'</li><li>'Lhx1_422'</li><li>'Etv2_270'</li><li>'Cdx4_481'</li><li>'Klf6_794'</li><li>'Gata2_383'</li><li>'Gata1_387'</li><li>'Zic3_229'</li><li>'Sox15_737'</li><li>'Tbx20_767'</li><li>'Tbx4_761'</li></ol>\n"
      ],
      "text/latex": [
       "\\begin{enumerate*}\n",
       "\\item 'Eomes\\_768'\n",
       "\\item 'Lhx1\\_422'\n",
       "\\item 'Etv2\\_270'\n",
       "\\item 'Cdx4\\_481'\n",
       "\\item 'Klf6\\_794'\n",
       "\\item 'Gata2\\_383'\n",
       "\\item 'Gata1\\_387'\n",
       "\\item 'Zic3\\_229'\n",
       "\\item 'Sox15\\_737'\n",
       "\\item 'Tbx20\\_767'\n",
       "\\item 'Tbx4\\_761'\n",
       "\\end{enumerate*}\n"
      ],
      "text/markdown": [
       "1. 'Eomes_768'\n",
       "2. 'Lhx1_422'\n",
       "3. 'Etv2_270'\n",
       "4. 'Cdx4_481'\n",
       "5. 'Klf6_794'\n",
       "6. 'Gata2_383'\n",
       "7. 'Gata1_387'\n",
       "8. 'Zic3_229'\n",
       "9. 'Sox15_737'\n",
       "10. 'Tbx20_767'\n",
       "11. 'Tbx4_761'\n",
       "\n",
       "\n"
      ],
      "text/plain": [
       " [1] \"Eomes_768\" \"Lhx1_422\"  \"Etv2_270\"  \"Cdx4_481\"  \"Klf6_794\"  \"Gata2_383\"\n",
       " [7] \"Gata1_387\" \"Zic3_229\"  \"Sox15_737\" \"Tbx20_767\" \"Tbx4_761\" "
      ]
     },
     "metadata": {},
     "output_type": "display_data"
    }
   ],
   "source": [
    "# motifs of interest\n",
    "motifs <- c(\"Eomes\", \"Lhx1\", \"Etv2\", \"Cdx4\", \"Klf6\", \"Gata2\", \"Gata1\", \"Zic3\", \"Sox15\", \"Tbx20\", \"Tbx4\")\n",
    "#motifs = \"Smad1\"\n",
    "markerMotifs <- unlist(lapply(motifs, function(x) grep(x, names(motifPositions), value = TRUE)))\n",
    "markerMotifs"
   ]
  },
  {
   "cell_type": "code",
   "execution_count": 181,
   "id": "abe0bbfc-8a38-4d1c-9dda-d1e51c4022c9",
   "metadata": {},
   "outputs": [
    {
     "name": "stderr",
     "output_type": "stream",
     "text": [
      "ArchR logging to : ArchRLogs/ArchR-getFootprints-20a03e35d4ab8d-Date-2023-05-28_Time-12-33-55.log\n",
      "If there is an issue, please report to github with logFile!\n",
      "\n",
      "2023-05-28 12:33:55 : Computing Kmer Bias Table, 0.003 mins elapsed.\n",
      "\n",
      "2023-05-28 12:34:10 : Finished Computing Kmer Tables, 0.258 mins elapsed.\n",
      "\n",
      "2023-05-28 12:34:10 : Computing Footprints, 0.262 mins elapsed.\n",
      "\n",
      "2023-05-28 12:34:25 : Computing Footprints Bias, 0.5 mins elapsed.\n",
      "\n",
      "2023-05-28 12:34:32 : Summarizing Footprints, 0.624 mins elapsed.\n",
      "\n"
     ]
    }
   ],
   "source": [
    "# get footprints\n",
    "seFoot <- getFootprints(\n",
    "  ArchRProj = ArchRProject, \n",
    "  positions = motifPositions[markerMotifs], \n",
    "  groupBy = \"celltype_genotype\"\n",
    ")"
   ]
  },
  {
   "cell_type": "code",
   "execution_count": 182,
   "id": "4ecab594-b92b-45df-a321-77f90f416999",
   "metadata": {},
   "outputs": [
    {
     "data": {
      "text/plain": [
       "class: SummarizedExperiment \n",
       "dim: 1002 64 \n",
       "metadata(1): Params\n",
       "assays(11): Eomes_768 Lhx1_422 ... Tbx20_767 Tbx4_761\n",
       "rownames: NULL\n",
       "rowData names(2): x type\n",
       "colnames(64): Allantois_Precursor-KO._.rv_eo_deg_day4_5_dtag\n",
       "  Allantois_Precursor-KO._.rv_eo_deg_day4_dtag ...\n",
       "  Primitive_Streak-WT._.rv_eo_deg_day3_5_control\n",
       "  Primitive_Streak-WT._.2_Eo_DEG_G9_day4_VC\n",
       "colData names(5): Group Name File nCells nInsertions"
      ]
     },
     "metadata": {},
     "output_type": "display_data"
    }
   ],
   "source": [
    "seFoot"
   ]
  },
  {
   "cell_type": "code",
   "execution_count": 183,
   "id": "3773c697-9147-49b2-a1bd-a9da7dc69ee7",
   "metadata": {},
   "outputs": [
    {
     "data": {
      "text/html": [
       "<ol>\n",
       "\t<li>0</li>\n",
       "\t<li>0</li>\n",
       "\t<li>0</li>\n",
       "\t<li>0</li>\n",
       "\t<li>0</li>\n",
       "\t<li>0</li>\n",
       "\t<li>0</li>\n",
       "\t<li>0</li>\n",
       "\t<li>0</li>\n",
       "\t<li>0</li>\n",
       "</ol>\n"
      ],
      "text/latex": [
       "\\begin{enumerate}\n",
       "\\item 0\n",
       "\\item 0\n",
       "\\item 0\n",
       "\\item 0\n",
       "\\item 0\n",
       "\\item 0\n",
       "\\item 0\n",
       "\\item 0\n",
       "\\item 0\n",
       "\\item 0\n",
       "\\end{enumerate}\n"
      ],
      "text/markdown": [
       "1. 0\n",
       "2. 0\n",
       "3. 0\n",
       "4. 0\n",
       "5. 0\n",
       "6. 0\n",
       "7. 0\n",
       "8. 0\n",
       "9. 0\n",
       "10. 0\n",
       "\n",
       "\n"
      ],
      "text/plain": [
       "[[1]]\n",
       "[1] 0\n",
       "\n",
       "[[2]]\n",
       "[1] 0\n",
       "\n",
       "[[3]]\n",
       "[1] 0\n",
       "\n",
       "[[4]]\n",
       "[1] 0\n",
       "\n",
       "[[5]]\n",
       "[1] 0\n",
       "\n",
       "[[6]]\n",
       "[1] 0\n",
       "\n",
       "[[7]]\n",
       "[1] 0\n",
       "\n",
       "[[8]]\n",
       "[1] 0\n",
       "\n",
       "[[9]]\n",
       "[1] 0\n",
       "\n",
       "[[10]]\n",
       "[1] 0\n"
      ]
     },
     "metadata": {},
     "output_type": "display_data"
    }
   ],
   "source": [
    "mclapply(keep, function(x){\n",
    "    plotFootprints(\n",
    "      seFoot = seFoot[, c(grep(paste0(x, '-KO'), colnames(seFoot)),\n",
    "                         grep(paste0(x, '-WT'), colnames(seFoot)))],\n",
    "      ArchRProj = ArchRProject, \n",
    "      normMethod = \"Subtract\",\n",
    "      plotName = paste0('Footprints_', x),\n",
    "      addDOC = FALSE,\n",
    "      smoothWindow = 15\n",
    ")\n",
    "}, mc.cores=24)"
   ]
  },
  {
   "cell_type": "markdown",
   "id": "3e549633-460f-4780-a7f1-e8166a9e1e84",
   "metadata": {},
   "source": [
    "# Silico ChIP"
   ]
  },
  {
   "cell_type": "code",
   "execution_count": 184,
   "id": "60629a95-2500-4599-b79f-31d9becce912",
   "metadata": {},
   "outputs": [
    {
     "data": {
      "text/html": [
       "'/rds/project/rds-SDzz0CATGms/users/bt392/09_Eomes_invitro_blood/code/atac/archR/footprinting'"
      ],
      "text/latex": [
       "'/rds/project/rds-SDzz0CATGms/users/bt392/09\\_Eomes\\_invitro\\_blood/code/atac/archR/footprinting'"
      ],
      "text/markdown": [
       "'/rds/project/rds-SDzz0CATGms/users/bt392/09_Eomes_invitro_blood/code/atac/archR/footprinting'"
      ],
      "text/plain": [
       "[1] \"/rds/project/rds-SDzz0CATGms/users/bt392/09_Eomes_invitro_blood/code/atac/archR/footprinting\""
      ]
     },
     "metadata": {},
     "output_type": "display_data"
    }
   ],
   "source": [
    "getwd()"
   ]
  },
  {
   "cell_type": "code",
   "execution_count": 185,
   "id": "8c9fe425-33fd-4850-9836-6b640ce4a764",
   "metadata": {},
   "outputs": [],
   "source": [
    "silicoChIP = readRDS('/rds/project/rds-SDzz0CATGms/users/bt392/atlasses/gastrulation_multiome/results/rna_atac/virtual_chipseq/pseudobulk/JASPAR/motifmatchr_virtual_chip.rds')"
   ]
  },
  {
   "cell_type": "code",
   "execution_count": 186,
   "id": "03ce94f2-2313-4dbb-a9e3-9bcf953d443f",
   "metadata": {},
   "outputs": [
    {
     "data": {
      "text/html": [
       "<style>\n",
       ".list-inline {list-style: none; margin:0; padding: 0}\n",
       ".list-inline>li {display: inline-block}\n",
       ".list-inline>li:not(:last-child)::after {content: \"\\00b7\"; padding: 0 .5ex}\n",
       "</style>\n",
       "<ol class=list-inline><li>'Eomes'</li><li>'Lhx1'</li><li>'Etv2'</li><li>'Cdx4'</li><li>'Klf6'</li><li>'Gata2'</li><li>'Gata1'</li><li>'Zic3'</li><li>'Sox15'</li><li>'Tbx20'</li><li>'Tbx4'</li></ol>\n"
      ],
      "text/latex": [
       "\\begin{enumerate*}\n",
       "\\item 'Eomes'\n",
       "\\item 'Lhx1'\n",
       "\\item 'Etv2'\n",
       "\\item 'Cdx4'\n",
       "\\item 'Klf6'\n",
       "\\item 'Gata2'\n",
       "\\item 'Gata1'\n",
       "\\item 'Zic3'\n",
       "\\item 'Sox15'\n",
       "\\item 'Tbx20'\n",
       "\\item 'Tbx4'\n",
       "\\end{enumerate*}\n"
      ],
      "text/markdown": [
       "1. 'Eomes'\n",
       "2. 'Lhx1'\n",
       "3. 'Etv2'\n",
       "4. 'Cdx4'\n",
       "5. 'Klf6'\n",
       "6. 'Gata2'\n",
       "7. 'Gata1'\n",
       "8. 'Zic3'\n",
       "9. 'Sox15'\n",
       "10. 'Tbx20'\n",
       "11. 'Tbx4'\n",
       "\n",
       "\n"
      ],
      "text/plain": [
       " [1] \"Eomes\" \"Lhx1\"  \"Etv2\"  \"Cdx4\"  \"Klf6\"  \"Gata2\" \"Gata1\" \"Zic3\"  \"Sox15\"\n",
       "[10] \"Tbx20\" \"Tbx4\" "
      ]
     },
     "metadata": {},
     "output_type": "display_data"
    }
   ],
   "source": [
    "motifs"
   ]
  },
  {
   "cell_type": "code",
   "execution_count": 187,
   "id": "ac794431-77f4-458d-9184-bec75be7028b",
   "metadata": {},
   "outputs": [
    {
     "data": {
      "text/html": [
       "<style>\n",
       ".list-inline {list-style: none; margin:0; padding: 0}\n",
       ".list-inline>li {display: inline-block}\n",
       ".list-inline>li:not(:last-child)::after {content: \"\\00b7\"; padding: 0 .5ex}\n",
       "</style>\n",
       "<ol class=list-inline><li>'Eomes_768'</li><li>'Lhx1_422'</li><li>'Etv2_270'</li><li>'Cdx4_481'</li><li>'Klf6_794'</li><li>'Gata2_383'</li><li>'Gata1_387'</li><li>'Zic3_229'</li><li>'Sox15_737'</li><li>'Tbx20_767'</li><li>'Tbx4_761'</li></ol>\n"
      ],
      "text/latex": [
       "\\begin{enumerate*}\n",
       "\\item 'Eomes\\_768'\n",
       "\\item 'Lhx1\\_422'\n",
       "\\item 'Etv2\\_270'\n",
       "\\item 'Cdx4\\_481'\n",
       "\\item 'Klf6\\_794'\n",
       "\\item 'Gata2\\_383'\n",
       "\\item 'Gata1\\_387'\n",
       "\\item 'Zic3\\_229'\n",
       "\\item 'Sox15\\_737'\n",
       "\\item 'Tbx20\\_767'\n",
       "\\item 'Tbx4\\_761'\n",
       "\\end{enumerate*}\n"
      ],
      "text/markdown": [
       "1. 'Eomes_768'\n",
       "2. 'Lhx1_422'\n",
       "3. 'Etv2_270'\n",
       "4. 'Cdx4_481'\n",
       "5. 'Klf6_794'\n",
       "6. 'Gata2_383'\n",
       "7. 'Gata1_387'\n",
       "8. 'Zic3_229'\n",
       "9. 'Sox15_737'\n",
       "10. 'Tbx20_767'\n",
       "11. 'Tbx4_761'\n",
       "\n",
       "\n"
      ],
      "text/plain": [
       " [1] \"Eomes_768\" \"Lhx1_422\"  \"Etv2_270\"  \"Cdx4_481\"  \"Klf6_794\"  \"Gata2_383\"\n",
       " [7] \"Gata1_387\" \"Zic3_229\"  \"Sox15_737\" \"Tbx20_767\" \"Tbx4_761\" "
      ]
     },
     "metadata": {},
     "output_type": "display_data"
    }
   ],
   "source": [
    "markerMotifs"
   ]
  },
  {
   "cell_type": "code",
   "execution_count": 188,
   "id": "46bfaf72-07c9-48d8-987d-b6a2291a6b94",
   "metadata": {},
   "outputs": [
    {
     "name": "stdout",
     "output_type": "stream",
     "text": [
      "[1] \"Eomes\"\n",
      "[1] \"Lhx1\"\n",
      "[1] \"Etv2\"\n",
      "[1] \"Cdx4\"\n",
      "[1] \"Klf6\"\n",
      "[1] \"Gata2\"\n",
      "[1] \"Gata1\"\n",
      "[1] \"Zic3\"\n",
      "[1] \"Sox15\"\n",
      "[1] \"Tbx20\"\n",
      "[1] \"Tbx4\"\n"
     ]
    }
   ],
   "source": [
    "silico = lapply(1:length(motifs), function(i){\n",
    "    print(motifs[i])\n",
    "    keep_peaks = as.data.table(as.matrix((assay(silicoChIP[, toupper(motifs[i])], 'VirtualChipScores'))), keep.rownames=T) %>% \n",
    "        setnames(c('peak', 'score')) %>%\n",
    "        .[score>0.15] %>%\n",
    "        .[, chr:=str_split(peak, ':') %>% map_chr(1)] %>%\n",
    "        .[, start:=str_split(str_split(peak, ':') %>% map_chr(2), '-') %>% map_chr(1)] %>%\n",
    "        .[, end:=str_split(str_split(peak, ':') %>% map_chr(2), '-') %>% map_chr(2)] \n",
    "    overlap = findOverlaps(makeGRangesFromDataFrame(keep_peaks), motifPositions[[markerMotifs[i]]])\n",
    "    silico = motifPositions[[markerMotifs[i]]][subjectHits(overlap)]\n",
    "    return(silico)\n",
    "})\n",
    "names(silico) = markerMotifs"
   ]
  },
  {
   "cell_type": "code",
   "execution_count": 189,
   "id": "b25764d9-70ca-449a-aabe-0ce5f090ad4a",
   "metadata": {},
   "outputs": [
    {
     "name": "stderr",
     "output_type": "stream",
     "text": [
      "ArchR logging to : ArchRLogs/ArchR-getFootprints-20a03e74c4447d-Date-2023-05-28_Time-12-34-44.log\n",
      "If there is an issue, please report to github with logFile!\n",
      "\n",
      "2023-05-28 12:34:44 : Computing Kmer Bias Table, 0.003 mins elapsed.\n",
      "\n",
      "2023-05-28 12:34:50 : Finished Computing Kmer Tables, 0.094 mins elapsed.\n",
      "\n",
      "2023-05-28 12:34:50 : Computing Footprints, 0.097 mins elapsed.\n",
      "\n",
      "2023-05-28 12:35:01 : Computing Footprints Bias, 0.294 mins elapsed.\n",
      "\n",
      "2023-05-28 12:35:08 : Summarizing Footprints, 0.408 mins elapsed.\n",
      "\n"
     ]
    }
   ],
   "source": [
    "seFoot_silico <- getFootprints(\n",
    "  ArchRProj = ArchRProject, \n",
    "  positions = silico[markerMotifs], \n",
    "  groupBy = \"celltype_genotype\"\n",
    ")"
   ]
  },
  {
   "cell_type": "code",
   "execution_count": 190,
   "id": "ffccb5c4-45c4-4f82-a249-b7e3eb41d471",
   "metadata": {},
   "outputs": [
    {
     "data": {
      "text/html": [
       "<ol>\n",
       "\t<li>0</li>\n",
       "\t<li>0</li>\n",
       "\t<li>0</li>\n",
       "\t<li>0</li>\n",
       "\t<li>0</li>\n",
       "\t<li>0</li>\n",
       "\t<li>0</li>\n",
       "\t<li>0</li>\n",
       "\t<li>0</li>\n",
       "\t<li>0</li>\n",
       "</ol>\n"
      ],
      "text/latex": [
       "\\begin{enumerate}\n",
       "\\item 0\n",
       "\\item 0\n",
       "\\item 0\n",
       "\\item 0\n",
       "\\item 0\n",
       "\\item 0\n",
       "\\item 0\n",
       "\\item 0\n",
       "\\item 0\n",
       "\\item 0\n",
       "\\end{enumerate}\n"
      ],
      "text/markdown": [
       "1. 0\n",
       "2. 0\n",
       "3. 0\n",
       "4. 0\n",
       "5. 0\n",
       "6. 0\n",
       "7. 0\n",
       "8. 0\n",
       "9. 0\n",
       "10. 0\n",
       "\n",
       "\n"
      ],
      "text/plain": [
       "[[1]]\n",
       "[1] 0\n",
       "\n",
       "[[2]]\n",
       "[1] 0\n",
       "\n",
       "[[3]]\n",
       "[1] 0\n",
       "\n",
       "[[4]]\n",
       "[1] 0\n",
       "\n",
       "[[5]]\n",
       "[1] 0\n",
       "\n",
       "[[6]]\n",
       "[1] 0\n",
       "\n",
       "[[7]]\n",
       "[1] 0\n",
       "\n",
       "[[8]]\n",
       "[1] 0\n",
       "\n",
       "[[9]]\n",
       "[1] 0\n",
       "\n",
       "[[10]]\n",
       "[1] 0\n"
      ]
     },
     "metadata": {},
     "output_type": "display_data"
    }
   ],
   "source": [
    "mclapply(keep, function(x){\n",
    "    plotFootprints(\n",
    "      seFoot = seFoot_silico[, c(grep(paste0(x, '-KO'), colnames(seFoot_silico)),\n",
    "                         grep(paste0(x, '-WT'), colnames(seFoot_silico)))],\n",
    "      ArchRProj = ArchRProject, \n",
    "      normMethod = \"Subtract\",\n",
    "      plotName = paste0('Footprints_silico_', x),\n",
    "      addDOC = FALSE,\n",
    "      smoothWindow = 15\n",
    ")\n",
    "}, mc.cores=24)"
   ]
  },
  {
   "cell_type": "markdown",
   "id": "5b7b3eed-cfee-472d-9a60-c098cd7f7a65",
   "metadata": {},
   "source": [
    "### Abs score filter"
   ]
  },
  {
   "cell_type": "code",
   "execution_count": 191,
   "id": "9d173ed5-4bda-4e82-986b-3fa8ceae765b",
   "metadata": {},
   "outputs": [],
   "source": [
    "silico = mclapply(1:length(motifs), function(i){\n",
    "    keep_peaks = as.data.table(as.matrix((assay(silicoChIP[, toupper(motifs[i])], 'VirtualChipScores'))), keep.rownames=T) %>% \n",
    "        setnames(c('peak', 'score')) %>%\n",
    "        .[abs(score)>0.15] %>%\n",
    "        .[, chr:=str_split(peak, ':') %>% map_chr(1)] %>%\n",
    "        .[, start:=str_split(str_split(peak, ':') %>% map_chr(2), '-') %>% map_chr(1)] %>%\n",
    "        .[, end:=str_split(str_split(peak, ':') %>% map_chr(2), '-') %>% map_chr(2)] \n",
    "    overlap = findOverlaps(makeGRangesFromDataFrame(keep_peaks), motifPositions[[markerMotifs[i]]])\n",
    "    silico = motifPositions[[markerMotifs[i]]][subjectHits(overlap)]\n",
    "    return(silico)\n",
    "})\n",
    "names(silico) = markerMotifs"
   ]
  },
  {
   "cell_type": "code",
   "execution_count": 192,
   "id": "721f1e16-ec33-42f4-a5db-f5ef74eade13",
   "metadata": {},
   "outputs": [
    {
     "name": "stderr",
     "output_type": "stream",
     "text": [
      "ArchR logging to : ArchRLogs/ArchR-getFootprints-20a03e729481e8-Date-2023-05-28_Time-12-35-17.log\n",
      "If there is an issue, please report to github with logFile!\n",
      "\n",
      "2023-05-28 12:35:17 : Computing Kmer Bias Table, 0.003 mins elapsed.\n",
      "\n",
      "2023-05-28 12:35:23 : Finished Computing Kmer Tables, 0.101 mins elapsed.\n",
      "\n",
      "2023-05-28 12:35:23 : Computing Footprints, 0.104 mins elapsed.\n",
      "\n",
      "2023-05-28 12:35:35 : Computing Footprints Bias, 0.3 mins elapsed.\n",
      "\n",
      "2023-05-28 12:35:41 : Summarizing Footprints, 0.403 mins elapsed.\n",
      "\n"
     ]
    }
   ],
   "source": [
    "seFoot_silico <- getFootprints(\n",
    "  ArchRProj = ArchRProject, \n",
    "  positions = silico[markerMotifs], \n",
    "  groupBy = \"celltype_genotype\"\n",
    ")"
   ]
  },
  {
   "cell_type": "code",
   "execution_count": 193,
   "id": "16a7b5ad-c01b-4e3f-93ff-24e4da6073d6",
   "metadata": {},
   "outputs": [
    {
     "data": {
      "text/html": [
       "<ol>\n",
       "\t<li>0</li>\n",
       "\t<li>0</li>\n",
       "\t<li>0</li>\n",
       "\t<li>0</li>\n",
       "\t<li>0</li>\n",
       "\t<li>0</li>\n",
       "\t<li>0</li>\n",
       "\t<li>0</li>\n",
       "\t<li>0</li>\n",
       "\t<li>0</li>\n",
       "</ol>\n"
      ],
      "text/latex": [
       "\\begin{enumerate}\n",
       "\\item 0\n",
       "\\item 0\n",
       "\\item 0\n",
       "\\item 0\n",
       "\\item 0\n",
       "\\item 0\n",
       "\\item 0\n",
       "\\item 0\n",
       "\\item 0\n",
       "\\item 0\n",
       "\\end{enumerate}\n"
      ],
      "text/markdown": [
       "1. 0\n",
       "2. 0\n",
       "3. 0\n",
       "4. 0\n",
       "5. 0\n",
       "6. 0\n",
       "7. 0\n",
       "8. 0\n",
       "9. 0\n",
       "10. 0\n",
       "\n",
       "\n"
      ],
      "text/plain": [
       "[[1]]\n",
       "[1] 0\n",
       "\n",
       "[[2]]\n",
       "[1] 0\n",
       "\n",
       "[[3]]\n",
       "[1] 0\n",
       "\n",
       "[[4]]\n",
       "[1] 0\n",
       "\n",
       "[[5]]\n",
       "[1] 0\n",
       "\n",
       "[[6]]\n",
       "[1] 0\n",
       "\n",
       "[[7]]\n",
       "[1] 0\n",
       "\n",
       "[[8]]\n",
       "[1] 0\n",
       "\n",
       "[[9]]\n",
       "[1] 0\n",
       "\n",
       "[[10]]\n",
       "[1] 0\n"
      ]
     },
     "metadata": {},
     "output_type": "display_data"
    }
   ],
   "source": [
    "mclapply(keep, function(x){\n",
    "    plotFootprints(\n",
    "      seFoot = seFoot_silico[, c(grep(paste0(x, '-KO'), colnames(seFoot_silico)),\n",
    "                         grep(paste0(x, '-WT'), colnames(seFoot_silico)))],\n",
    "      ArchRProj = ArchRProject, \n",
    "      normMethod = \"Subtract\",\n",
    "      plotName = paste0('Footprints_silico_abs_', x),\n",
    "      addDOC = FALSE,\n",
    "      smoothWindow = 15\n",
    ")\n",
    "}, mc.cores=24)"
   ]
  },
  {
   "cell_type": "markdown",
   "id": "d8f9f39b-69e9-4781-9dec-064e14bf68fb",
   "metadata": {},
   "source": [
    "### Abs score low filter"
   ]
  },
  {
   "cell_type": "code",
   "execution_count": 194,
   "id": "8faab5a5-2a23-404f-92ab-96a4bdffe757",
   "metadata": {},
   "outputs": [],
   "source": [
    "silico = mclapply(1:length(motifs), function(i){\n",
    "    keep_peaks = as.data.table(as.matrix((assay(silicoChIP[, toupper(motifs[i])], 'VirtualChipScores'))), keep.rownames=T) %>% \n",
    "        setnames(c('peak', 'score')) %>%\n",
    "        .[abs(score)>0.05] %>%\n",
    "        .[, chr:=str_split(peak, ':') %>% map_chr(1)] %>%\n",
    "        .[, start:=str_split(str_split(peak, ':') %>% map_chr(2), '-') %>% map_chr(1)] %>%\n",
    "        .[, end:=str_split(str_split(peak, ':') %>% map_chr(2), '-') %>% map_chr(2)] \n",
    "    overlap = findOverlaps(makeGRangesFromDataFrame(keep_peaks), motifPositions[[markerMotifs[i]]])\n",
    "    silico = motifPositions[[markerMotifs[i]]][subjectHits(overlap)]\n",
    "    return(silico)\n",
    "})\n",
    "names(silico) = markerMotifs"
   ]
  },
  {
   "cell_type": "code",
   "execution_count": 195,
   "id": "649bf18f-dee4-4051-900f-07daba59fa88",
   "metadata": {},
   "outputs": [
    {
     "name": "stderr",
     "output_type": "stream",
     "text": [
      "ArchR logging to : ArchRLogs/ArchR-getFootprints-20a03eb376b99-Date-2023-05-28_Time-12-35-50.log\n",
      "If there is an issue, please report to github with logFile!\n",
      "\n",
      "2023-05-28 12:35:50 : Computing Kmer Bias Table, 0.003 mins elapsed.\n",
      "\n",
      "2023-05-28 12:35:58 : Finished Computing Kmer Tables, 0.128 mins elapsed.\n",
      "\n",
      "2023-05-28 12:35:58 : Computing Footprints, 0.131 mins elapsed.\n",
      "\n",
      "2023-05-28 12:36:10 : Computing Footprints Bias, 0.333 mins elapsed.\n",
      "\n",
      "2023-05-28 12:36:17 : Summarizing Footprints, 0.457 mins elapsed.\n",
      "\n"
     ]
    }
   ],
   "source": [
    "seFoot_silico <- getFootprints(\n",
    "  ArchRProj = ArchRProject, \n",
    "  positions = silico[markerMotifs], \n",
    "  groupBy = \"celltype_genotype\"\n",
    ")"
   ]
  },
  {
   "cell_type": "code",
   "execution_count": 196,
   "id": "8ded2bb0-0c8f-4e3c-9681-3b757c8d6a36",
   "metadata": {},
   "outputs": [
    {
     "data": {
      "text/html": [
       "<ol>\n",
       "\t<li>0</li>\n",
       "\t<li>0</li>\n",
       "\t<li>0</li>\n",
       "\t<li>0</li>\n",
       "\t<li>0</li>\n",
       "\t<li>0</li>\n",
       "\t<li>0</li>\n",
       "\t<li>0</li>\n",
       "\t<li>0</li>\n",
       "\t<li>0</li>\n",
       "</ol>\n"
      ],
      "text/latex": [
       "\\begin{enumerate}\n",
       "\\item 0\n",
       "\\item 0\n",
       "\\item 0\n",
       "\\item 0\n",
       "\\item 0\n",
       "\\item 0\n",
       "\\item 0\n",
       "\\item 0\n",
       "\\item 0\n",
       "\\item 0\n",
       "\\end{enumerate}\n"
      ],
      "text/markdown": [
       "1. 0\n",
       "2. 0\n",
       "3. 0\n",
       "4. 0\n",
       "5. 0\n",
       "6. 0\n",
       "7. 0\n",
       "8. 0\n",
       "9. 0\n",
       "10. 0\n",
       "\n",
       "\n"
      ],
      "text/plain": [
       "[[1]]\n",
       "[1] 0\n",
       "\n",
       "[[2]]\n",
       "[1] 0\n",
       "\n",
       "[[3]]\n",
       "[1] 0\n",
       "\n",
       "[[4]]\n",
       "[1] 0\n",
       "\n",
       "[[5]]\n",
       "[1] 0\n",
       "\n",
       "[[6]]\n",
       "[1] 0\n",
       "\n",
       "[[7]]\n",
       "[1] 0\n",
       "\n",
       "[[8]]\n",
       "[1] 0\n",
       "\n",
       "[[9]]\n",
       "[1] 0\n",
       "\n",
       "[[10]]\n",
       "[1] 0\n"
      ]
     },
     "metadata": {},
     "output_type": "display_data"
    }
   ],
   "source": [
    "mclapply(keep, function(x){\n",
    "    plotFootprints(\n",
    "      seFoot = seFoot_silico[, c(grep(paste0(x, '-KO'), colnames(seFoot_silico)),\n",
    "                         grep(paste0(x, '-WT'), colnames(seFoot_silico)))],\n",
    "      ArchRProj = ArchRProject, \n",
    "      normMethod = \"subtract\",\n",
    "      plotName = paste0('Footprints_silico_abs_low_', x),\n",
    "      addDOC = FALSE,\n",
    "      smoothWindow = 15\n",
    ")\n",
    "}, mc.cores=24)"
   ]
  },
  {
   "cell_type": "markdown",
   "id": "78cbbaf0-8df2-4ba3-9ff4-993c130e498d",
   "metadata": {},
   "source": [
    "#### Negative"
   ]
  },
  {
   "cell_type": "code",
   "execution_count": 144,
   "id": "cee54c61-72e0-468a-951e-5fd44cc5ec95",
   "metadata": {},
   "outputs": [],
   "source": [
    "silico = mclapply(1:length(motifs), function(i){\n",
    "    keep_peaks = as.data.table(as.matrix((assay(silicoChIP[, toupper(motifs[i])], 'VirtualChipScores'))), keep.rownames=T) %>% \n",
    "        setnames(c('peak', 'score')) %>%\n",
    "        .[score <= -0.10] %>%\n",
    "        .[, chr:=str_split(peak, ':') %>% map_chr(1)] %>%\n",
    "        .[, start:=str_split(str_split(peak, ':') %>% map_chr(2), '-') %>% map_chr(1)] %>%\n",
    "        .[, end:=str_split(str_split(peak, ':') %>% map_chr(2), '-') %>% map_chr(2)] \n",
    "    overlap = findOverlaps(makeGRangesFromDataFrame(keep_peaks), motifPositions[[markerMotifs[i]]])\n",
    "    silico = motifPositions[[markerMotifs[i]]][subjectHits(overlap)]\n",
    "    return(silico)\n",
    "})\n",
    "names(silico) = markerMotifs"
   ]
  },
  {
   "cell_type": "code",
   "execution_count": 145,
   "id": "20993645-b54c-498f-8cfe-846a8181c78f",
   "metadata": {},
   "outputs": [
    {
     "name": "stderr",
     "output_type": "stream",
     "text": [
      "ArchR logging to : ArchRLogs/ArchR-getFootprints-20a03e464ea950-Date-2023-05-28_Time-12-04-45.log\n",
      "If there is an issue, please report to github with logFile!\n",
      "\n",
      "2023-05-28 12:04:45 : Computing Kmer Bias Table, 0.006 mins elapsed.\n",
      "\n",
      "2023-05-28 12:04:51 : Finished Computing Kmer Tables, 0.101 mins elapsed.\n",
      "\n",
      "2023-05-28 12:04:51 : Computing Footprints, 0.107 mins elapsed.\n",
      "\n",
      "2023-05-28 12:05:04 : Computing Footprints Bias, 0.322 mins elapsed.\n",
      "\n",
      "2023-05-28 12:05:11 : Summarizing Footprints, 0.443 mins elapsed.\n",
      "\n"
     ]
    }
   ],
   "source": [
    "seFoot_silico <- getFootprints(\n",
    "  ArchRProj = ArchRProject, \n",
    "  positions = silico[markerMotifs], \n",
    "  groupBy = \"celltype_genotype\"\n",
    ")"
   ]
  },
  {
   "cell_type": "code",
   "execution_count": 146,
   "id": "86c445d3-61b0-46fc-ba87-3b0e62bffa22",
   "metadata": {},
   "outputs": [
    {
     "data": {
      "text/html": [
       "<ol>\n",
       "\t<li>0</li>\n",
       "\t<li>0</li>\n",
       "\t<li>0</li>\n",
       "\t<li>0</li>\n",
       "\t<li>0</li>\n",
       "\t<li>0</li>\n",
       "\t<li>0</li>\n",
       "\t<li>0</li>\n",
       "\t<li>0</li>\n",
       "\t<li>0</li>\n",
       "</ol>\n"
      ],
      "text/latex": [
       "\\begin{enumerate}\n",
       "\\item 0\n",
       "\\item 0\n",
       "\\item 0\n",
       "\\item 0\n",
       "\\item 0\n",
       "\\item 0\n",
       "\\item 0\n",
       "\\item 0\n",
       "\\item 0\n",
       "\\item 0\n",
       "\\end{enumerate}\n"
      ],
      "text/markdown": [
       "1. 0\n",
       "2. 0\n",
       "3. 0\n",
       "4. 0\n",
       "5. 0\n",
       "6. 0\n",
       "7. 0\n",
       "8. 0\n",
       "9. 0\n",
       "10. 0\n",
       "\n",
       "\n"
      ],
      "text/plain": [
       "[[1]]\n",
       "[1] 0\n",
       "\n",
       "[[2]]\n",
       "[1] 0\n",
       "\n",
       "[[3]]\n",
       "[1] 0\n",
       "\n",
       "[[4]]\n",
       "[1] 0\n",
       "\n",
       "[[5]]\n",
       "[1] 0\n",
       "\n",
       "[[6]]\n",
       "[1] 0\n",
       "\n",
       "[[7]]\n",
       "[1] 0\n",
       "\n",
       "[[8]]\n",
       "[1] 0\n",
       "\n",
       "[[9]]\n",
       "[1] 0\n",
       "\n",
       "[[10]]\n",
       "[1] 0\n"
      ]
     },
     "metadata": {},
     "output_type": "display_data"
    }
   ],
   "source": [
    "mclapply(keep, function(x){\n",
    "    plotFootprints(\n",
    "      seFoot = seFoot_silico[, c(grep(paste0(x, '-KO'), colnames(seFoot_silico)),\n",
    "                         grep(paste0(x, '-WT'), colnames(seFoot_silico)))],\n",
    "      ArchRProj = ArchRProject, \n",
    "      normMethod = \"subtract\",\n",
    "      plotName = paste0('Footprints_silico_neg_', x),\n",
    "      addDOC = FALSE,\n",
    "      smoothWindow = 15\n",
    ")\n",
    "}, mc.cores=24)"
   ]
  },
  {
   "cell_type": "markdown",
   "id": "a672b85b-6bbf-48bd-be86-d30244cc7ea9",
   "metadata": {},
   "source": [
    "# GATA"
   ]
  },
  {
   "cell_type": "code",
   "execution_count": 198,
   "id": "afd80918-f14b-475a-91f4-10e915f88634",
   "metadata": {},
   "outputs": [
    {
     "data": {
      "text/html": [
       "<style>\n",
       ".list-inline {list-style: none; margin:0; padding: 0}\n",
       ".list-inline>li {display: inline-block}\n",
       ".list-inline>li:not(:last-child)::after {content: \"\\00b7\"; padding: 0 .5ex}\n",
       "</style>\n",
       "<ol class=list-inline><li>'Gata1_387'</li><li>'Gata2_383'</li><li>'Gata3_384'</li><li>'Gata4_386'</li><li>'Gata5_385'</li><li>'Gata6_382'</li></ol>\n"
      ],
      "text/latex": [
       "\\begin{enumerate*}\n",
       "\\item 'Gata1\\_387'\n",
       "\\item 'Gata2\\_383'\n",
       "\\item 'Gata3\\_384'\n",
       "\\item 'Gata4\\_386'\n",
       "\\item 'Gata5\\_385'\n",
       "\\item 'Gata6\\_382'\n",
       "\\end{enumerate*}\n"
      ],
      "text/markdown": [
       "1. 'Gata1_387'\n",
       "2. 'Gata2_383'\n",
       "3. 'Gata3_384'\n",
       "4. 'Gata4_386'\n",
       "5. 'Gata5_385'\n",
       "6. 'Gata6_382'\n",
       "\n",
       "\n"
      ],
      "text/plain": [
       "[1] \"Gata1_387\" \"Gata2_383\" \"Gata3_384\" \"Gata4_386\" \"Gata5_385\" \"Gata6_382\""
      ]
     },
     "metadata": {},
     "output_type": "display_data"
    }
   ],
   "source": [
    "# motifs of interest\n",
    "motifs <- paste0('Gata', 1:6)\n",
    "#motifs = \"Smad1\"\n",
    "markerMotifs <- unlist(lapply(motifs, function(x) grep(x, names(motifPositions), value = TRUE)))\n",
    "markerMotifs"
   ]
  },
  {
   "cell_type": "code",
   "execution_count": 199,
   "id": "d91b03f2-9ba6-4a94-92b6-0e3230a6ec86",
   "metadata": {},
   "outputs": [
    {
     "name": "stderr",
     "output_type": "stream",
     "text": [
      "ArchR logging to : ArchRLogs/ArchR-getFootprints-20a03e3b2ff0de-Date-2023-05-28_Time-12-46-15.log\n",
      "If there is an issue, please report to github with logFile!\n",
      "\n",
      "2023-05-28 12:46:15 : Computing Kmer Bias Table, 0.004 mins elapsed.\n",
      "\n",
      "2023-05-28 12:46:24 : Finished Computing Kmer Tables, 0.151 mins elapsed.\n",
      "\n",
      "2023-05-28 12:46:24 : Computing Footprints, 0.155 mins elapsed.\n",
      "\n",
      "2023-05-28 12:46:36 : Computing Footprints Bias, 0.357 mins elapsed.\n",
      "\n",
      "2023-05-28 12:46:43 : Summarizing Footprints, 0.47 mins elapsed.\n",
      "\n"
     ]
    },
    {
     "data": {
      "text/html": [
       "<ol>\n",
       "\t<li>0</li>\n",
       "\t<li>0</li>\n",
       "\t<li>0</li>\n",
       "\t<li>0</li>\n",
       "\t<li>0</li>\n",
       "\t<li>0</li>\n",
       "\t<li>0</li>\n",
       "\t<li>0</li>\n",
       "\t<li>0</li>\n",
       "\t<li>0</li>\n",
       "</ol>\n"
      ],
      "text/latex": [
       "\\begin{enumerate}\n",
       "\\item 0\n",
       "\\item 0\n",
       "\\item 0\n",
       "\\item 0\n",
       "\\item 0\n",
       "\\item 0\n",
       "\\item 0\n",
       "\\item 0\n",
       "\\item 0\n",
       "\\item 0\n",
       "\\end{enumerate}\n"
      ],
      "text/markdown": [
       "1. 0\n",
       "2. 0\n",
       "3. 0\n",
       "4. 0\n",
       "5. 0\n",
       "6. 0\n",
       "7. 0\n",
       "8. 0\n",
       "9. 0\n",
       "10. 0\n",
       "\n",
       "\n"
      ],
      "text/plain": [
       "[[1]]\n",
       "[1] 0\n",
       "\n",
       "[[2]]\n",
       "[1] 0\n",
       "\n",
       "[[3]]\n",
       "[1] 0\n",
       "\n",
       "[[4]]\n",
       "[1] 0\n",
       "\n",
       "[[5]]\n",
       "[1] 0\n",
       "\n",
       "[[6]]\n",
       "[1] 0\n",
       "\n",
       "[[7]]\n",
       "[1] 0\n",
       "\n",
       "[[8]]\n",
       "[1] 0\n",
       "\n",
       "[[9]]\n",
       "[1] 0\n",
       "\n",
       "[[10]]\n",
       "[1] 0\n"
      ]
     },
     "metadata": {},
     "output_type": "display_data"
    }
   ],
   "source": [
    "# get footprints\n",
    "seFoot <- getFootprints(\n",
    "  ArchRProj = ArchRProject, \n",
    "  positions = motifPositions[markerMotifs], \n",
    "  groupBy = \"celltype_genotype\"\n",
    ")\n",
    "\n",
    "mclapply(keep, function(x){\n",
    "    plotFootprints(\n",
    "      seFoot = seFoot[, c(grep(paste0(x, '-KO'), colnames(seFoot)),\n",
    "                         grep(paste0(x, '-WT'), colnames(seFoot)))],\n",
    "      ArchRProj = ArchRProject, \n",
    "      normMethod = \"Subtract\",\n",
    "      plotName = paste0('Footprints_GATA_', x),\n",
    "      addDOC = FALSE,\n",
    "      smoothWindow = 15\n",
    ")\n",
    "}, mc.cores=24)"
   ]
  },
  {
   "cell_type": "code",
   "execution_count": 200,
   "id": "48907c6f-8245-425b-a554-a8582bf400ba",
   "metadata": {},
   "outputs": [
    {
     "name": "stdout",
     "output_type": "stream",
     "text": [
      "[1] \"Gata1\"\n",
      "[1] \"Gata2\"\n",
      "[1] \"Gata3\"\n",
      "[1] \"Gata4\"\n",
      "[1] \"Gata5\"\n",
      "[1] \"Gata6\"\n"
     ]
    },
    {
     "name": "stderr",
     "output_type": "stream",
     "text": [
      "ArchR logging to : ArchRLogs/ArchR-getFootprints-20a03e124e816e-Date-2023-05-28_Time-12-46-54.log\n",
      "If there is an issue, please report to github with logFile!\n",
      "\n",
      "2023-05-28 12:46:54 : Computing Kmer Bias Table, 0.003 mins elapsed.\n",
      "\n",
      "2023-05-28 12:46:57 : Finished Computing Kmer Tables, 0.054 mins elapsed.\n",
      "\n",
      "2023-05-28 12:46:57 : Computing Footprints, 0.057 mins elapsed.\n",
      "\n",
      "2023-05-28 12:47:08 : Computing Footprints Bias, 0.233 mins elapsed.\n",
      "\n",
      "2023-05-28 12:47:15 : Summarizing Footprints, 0.353 mins elapsed.\n",
      "\n"
     ]
    },
    {
     "data": {
      "text/html": [
       "<ol>\n",
       "\t<li>0</li>\n",
       "\t<li>0</li>\n",
       "\t<li>0</li>\n",
       "\t<li>0</li>\n",
       "\t<li>0</li>\n",
       "\t<li>0</li>\n",
       "\t<li>0</li>\n",
       "\t<li>0</li>\n",
       "\t<li>0</li>\n",
       "\t<li>0</li>\n",
       "</ol>\n"
      ],
      "text/latex": [
       "\\begin{enumerate}\n",
       "\\item 0\n",
       "\\item 0\n",
       "\\item 0\n",
       "\\item 0\n",
       "\\item 0\n",
       "\\item 0\n",
       "\\item 0\n",
       "\\item 0\n",
       "\\item 0\n",
       "\\item 0\n",
       "\\end{enumerate}\n"
      ],
      "text/markdown": [
       "1. 0\n",
       "2. 0\n",
       "3. 0\n",
       "4. 0\n",
       "5. 0\n",
       "6. 0\n",
       "7. 0\n",
       "8. 0\n",
       "9. 0\n",
       "10. 0\n",
       "\n",
       "\n"
      ],
      "text/plain": [
       "[[1]]\n",
       "[1] 0\n",
       "\n",
       "[[2]]\n",
       "[1] 0\n",
       "\n",
       "[[3]]\n",
       "[1] 0\n",
       "\n",
       "[[4]]\n",
       "[1] 0\n",
       "\n",
       "[[5]]\n",
       "[1] 0\n",
       "\n",
       "[[6]]\n",
       "[1] 0\n",
       "\n",
       "[[7]]\n",
       "[1] 0\n",
       "\n",
       "[[8]]\n",
       "[1] 0\n",
       "\n",
       "[[9]]\n",
       "[1] 0\n",
       "\n",
       "[[10]]\n",
       "[1] 0\n"
      ]
     },
     "metadata": {},
     "output_type": "display_data"
    }
   ],
   "source": [
    "silico = lapply(1:length(motifs), function(i){\n",
    "    print(motifs[i])\n",
    "    keep_peaks = as.data.table(as.matrix((assay(silicoChIP[, toupper(motifs[i])], 'VirtualChipScores'))), keep.rownames=T) %>% \n",
    "        setnames(c('peak', 'score')) %>%\n",
    "        .[score>0.15] %>%\n",
    "        .[, chr:=str_split(peak, ':') %>% map_chr(1)] %>%\n",
    "        .[, start:=str_split(str_split(peak, ':') %>% map_chr(2), '-') %>% map_chr(1)] %>%\n",
    "        .[, end:=str_split(str_split(peak, ':') %>% map_chr(2), '-') %>% map_chr(2)] \n",
    "    overlap = findOverlaps(makeGRangesFromDataFrame(keep_peaks), motifPositions[[markerMotifs[i]]])\n",
    "    silico = motifPositions[[markerMotifs[i]]][subjectHits(overlap)]\n",
    "    return(silico)\n",
    "})\n",
    "names(silico) = markerMotifs\n",
    "\n",
    "seFoot_silico <- getFootprints(\n",
    "  ArchRProj = ArchRProject, \n",
    "  positions = silico[markerMotifs], \n",
    "  groupBy = \"celltype_genotype\"\n",
    ")\n",
    "\n",
    "mclapply(keep, function(x){\n",
    "    plotFootprints(\n",
    "      seFoot = seFoot_silico[, c(grep(paste0(x, '-KO'), colnames(seFoot_silico)),\n",
    "                         grep(paste0(x, '-WT'), colnames(seFoot_silico)))],\n",
    "      ArchRProj = ArchRProject, \n",
    "      normMethod = \"Subtract\",\n",
    "      plotName = paste0('Footprints_GATA_silico_', x),\n",
    "      addDOC = FALSE,\n",
    "      smoothWindow = 15\n",
    ")\n",
    "}, mc.cores=24)"
   ]
  },
  {
   "cell_type": "code",
   "execution_count": 201,
   "id": "af76b899-cfb9-436e-86c1-ea1961d237c0",
   "metadata": {},
   "outputs": [
    {
     "data": {
      "text/html": [
       "'Nr5a2_675'"
      ],
      "text/latex": [
       "'Nr5a2\\_675'"
      ],
      "text/markdown": [
       "'Nr5a2_675'"
      ],
      "text/plain": [
       "[1] \"Nr5a2_675\""
      ]
     },
     "metadata": {},
     "output_type": "display_data"
    }
   ],
   "source": [
    "# motifs of interest\n",
    "motifs <- paste0('Nr5a2')\n",
    "#motifs = \"Smad1\"\n",
    "markerMotifs <- unlist(lapply(motifs, function(x) grep(x, names(motifPositions), value = TRUE)))\n",
    "markerMotifs"
   ]
  },
  {
   "cell_type": "code",
   "execution_count": 203,
   "id": "5dcea997-bba7-4c67-954c-742fd899b23d",
   "metadata": {},
   "outputs": [],
   "source": [
    "silicoChIP = readRDS('/rds/project/rds-SDzz0CATGms/users/bt392/atlasses/gastrulation_multiome/results/rna_atac/virtual_chipseq/pseudobulk/CISBP/motifmatchr_virtual_chip.rds')"
   ]
  },
  {
   "cell_type": "code",
   "execution_count": 204,
   "id": "b3dc4f95-fb67-4c51-9ddf-aa8a796cbdd3",
   "metadata": {},
   "outputs": [
    {
     "name": "stdout",
     "output_type": "stream",
     "text": [
      "[1] \"Nr5a2\"\n"
     ]
    },
    {
     "name": "stderr",
     "output_type": "stream",
     "text": [
      "ArchR logging to : ArchRLogs/ArchR-getFootprints-20a03e2585534e-Date-2023-05-28_Time-12-52-02.log\n",
      "If there is an issue, please report to github with logFile!\n",
      "\n",
      "2023-05-28 12:52:02 : Computing Kmer Bias Table, 0.01 mins elapsed.\n",
      "\n",
      "2023-05-28 12:52:03 : Finished Computing Kmer Tables, 0.009 mins elapsed.\n",
      "\n",
      "2023-05-28 12:52:03 : Computing Footprints, 0.019 mins elapsed.\n",
      "\n",
      "2023-05-28 12:52:14 : Computing Footprints Bias, 0.199 mins elapsed.\n",
      "\n",
      "2023-05-28 12:52:19 : Summarizing Footprints, 0.285 mins elapsed.\n",
      "\n"
     ]
    },
    {
     "data": {
      "text/html": [
       "<ol>\n",
       "\t<li>0</li>\n",
       "\t<li>0</li>\n",
       "\t<li>0</li>\n",
       "\t<li>0</li>\n",
       "\t<li>0</li>\n",
       "\t<li>0</li>\n",
       "\t<li>0</li>\n",
       "\t<li>0</li>\n",
       "\t<li>0</li>\n",
       "\t<li>0</li>\n",
       "</ol>\n"
      ],
      "text/latex": [
       "\\begin{enumerate}\n",
       "\\item 0\n",
       "\\item 0\n",
       "\\item 0\n",
       "\\item 0\n",
       "\\item 0\n",
       "\\item 0\n",
       "\\item 0\n",
       "\\item 0\n",
       "\\item 0\n",
       "\\item 0\n",
       "\\end{enumerate}\n"
      ],
      "text/markdown": [
       "1. 0\n",
       "2. 0\n",
       "3. 0\n",
       "4. 0\n",
       "5. 0\n",
       "6. 0\n",
       "7. 0\n",
       "8. 0\n",
       "9. 0\n",
       "10. 0\n",
       "\n",
       "\n"
      ],
      "text/plain": [
       "[[1]]\n",
       "[1] 0\n",
       "\n",
       "[[2]]\n",
       "[1] 0\n",
       "\n",
       "[[3]]\n",
       "[1] 0\n",
       "\n",
       "[[4]]\n",
       "[1] 0\n",
       "\n",
       "[[5]]\n",
       "[1] 0\n",
       "\n",
       "[[6]]\n",
       "[1] 0\n",
       "\n",
       "[[7]]\n",
       "[1] 0\n",
       "\n",
       "[[8]]\n",
       "[1] 0\n",
       "\n",
       "[[9]]\n",
       "[1] 0\n",
       "\n",
       "[[10]]\n",
       "[1] 0\n"
      ]
     },
     "metadata": {},
     "output_type": "display_data"
    }
   ],
   "source": [
    "silico = lapply(1:length(motifs), function(i){\n",
    "    print(motifs[i])\n",
    "    keep_peaks = as.data.table(as.matrix((assay(silicoChIP[, toupper(motifs[i])], 'VirtualChipScores'))), keep.rownames=T) %>% \n",
    "        setnames(c('peak', 'score')) %>%\n",
    "        .[score>0.15] %>%\n",
    "        .[, chr:=str_split(peak, ':') %>% map_chr(1)] %>%\n",
    "        .[, start:=str_split(str_split(peak, ':') %>% map_chr(2), '-') %>% map_chr(1)] %>%\n",
    "        .[, end:=str_split(str_split(peak, ':') %>% map_chr(2), '-') %>% map_chr(2)] \n",
    "    overlap = findOverlaps(makeGRangesFromDataFrame(keep_peaks), motifPositions[[markerMotifs[i]]])\n",
    "    silico = motifPositions[[markerMotifs[i]]][subjectHits(overlap)]\n",
    "    return(silico)\n",
    "})\n",
    "names(silico) = markerMotifs\n",
    "\n",
    "seFoot_silico <- getFootprints(\n",
    "  ArchRProj = ArchRProject, \n",
    "  positions = silico[markerMotifs], \n",
    "  groupBy = \"celltype_genotype\"\n",
    ")\n",
    "\n",
    "mclapply(keep, function(x){\n",
    "    plotFootprints(\n",
    "      seFoot = seFoot_silico[, c(grep(paste0(x, '-KO'), colnames(seFoot_silico)),\n",
    "                         grep(paste0(x, '-WT'), colnames(seFoot_silico)))],\n",
    "      ArchRProj = ArchRProject, \n",
    "      normMethod = \"Subtract\",\n",
    "      plotName = paste0('Footprints_Nr5a2_silico_', x),\n",
    "      addDOC = FALSE,\n",
    "      smoothWindow = 15\n",
    ")\n",
    "}, mc.cores=24)"
   ]
  },
  {
   "cell_type": "code",
   "execution_count": 205,
   "id": "96dc9bfb-d2bc-457f-b2e0-232cd9284a9f",
   "metadata": {},
   "outputs": [
    {
     "name": "stderr",
     "output_type": "stream",
     "text": [
      "ArchR logging to : ArchRLogs/ArchR-getFootprints-20a03e706f79e-Date-2023-05-28_Time-12-54-40.log\n",
      "If there is an issue, please report to github with logFile!\n",
      "\n",
      "2023-05-28 12:54:40 : Computing Kmer Bias Table, 0.003 mins elapsed.\n",
      "\n",
      "2023-05-28 12:54:42 : Finished Computing Kmer Tables, 0.033 mins elapsed.\n",
      "\n",
      "2023-05-28 12:54:42 : Computing Footprints, 0.036 mins elapsed.\n",
      "\n",
      "2023-05-28 12:54:52 : Computing Footprints Bias, 0.198 mins elapsed.\n",
      "\n",
      "2023-05-28 12:54:57 : Summarizing Footprints, 0.294 mins elapsed.\n",
      "\n"
     ]
    },
    {
     "data": {
      "text/html": [
       "<ol>\n",
       "\t<li>0</li>\n",
       "\t<li>0</li>\n",
       "\t<li>0</li>\n",
       "\t<li>0</li>\n",
       "\t<li>0</li>\n",
       "\t<li>0</li>\n",
       "\t<li>0</li>\n",
       "\t<li>0</li>\n",
       "\t<li>0</li>\n",
       "\t<li>0</li>\n",
       "</ol>\n"
      ],
      "text/latex": [
       "\\begin{enumerate}\n",
       "\\item 0\n",
       "\\item 0\n",
       "\\item 0\n",
       "\\item 0\n",
       "\\item 0\n",
       "\\item 0\n",
       "\\item 0\n",
       "\\item 0\n",
       "\\item 0\n",
       "\\item 0\n",
       "\\end{enumerate}\n"
      ],
      "text/markdown": [
       "1. 0\n",
       "2. 0\n",
       "3. 0\n",
       "4. 0\n",
       "5. 0\n",
       "6. 0\n",
       "7. 0\n",
       "8. 0\n",
       "9. 0\n",
       "10. 0\n",
       "\n",
       "\n"
      ],
      "text/plain": [
       "[[1]]\n",
       "[1] 0\n",
       "\n",
       "[[2]]\n",
       "[1] 0\n",
       "\n",
       "[[3]]\n",
       "[1] 0\n",
       "\n",
       "[[4]]\n",
       "[1] 0\n",
       "\n",
       "[[5]]\n",
       "[1] 0\n",
       "\n",
       "[[6]]\n",
       "[1] 0\n",
       "\n",
       "[[7]]\n",
       "[1] 0\n",
       "\n",
       "[[8]]\n",
       "[1] 0\n",
       "\n",
       "[[9]]\n",
       "[1] 0\n",
       "\n",
       "[[10]]\n",
       "[1] 0\n"
      ]
     },
     "metadata": {},
     "output_type": "display_data"
    }
   ],
   "source": [
    "# get footprints\n",
    "seFoot <- getFootprints(\n",
    "  ArchRProj = ArchRProject, \n",
    "  positions = motifPositions[markerMotifs], \n",
    "  groupBy = \"celltype_genotype\"\n",
    ")\n",
    "mclapply(keep, function(x){\n",
    "    plotFootprints(\n",
    "      seFoot = seFoot[, c(grep(paste0(x, '-KO'), colnames(seFoot)),\n",
    "                         grep(paste0(x, '-WT'), colnames(seFoot)))],\n",
    "      ArchRProj = ArchRProject, \n",
    "      normMethod = \"Subtract\",\n",
    "      plotName = paste0('Footprints_Nr5a2', x),\n",
    "      addDOC = FALSE,\n",
    "      smoothWindow = 15\n",
    ")\n",
    "}, mc.cores=24)"
   ]
  },
  {
   "cell_type": "code",
   "execution_count": null,
   "id": "6f9beddc-7636-49ac-b827-7ee720a3fa7c",
   "metadata": {},
   "outputs": [],
   "source": []
  },
  {
   "cell_type": "markdown",
   "id": "32efa4c1-e98f-4f0d-a75e-fb946384a8e1",
   "metadata": {},
   "source": [
    "# ChIP-peak centres Zfp462"
   ]
  },
  {
   "cell_type": "code",
   "execution_count": 21,
   "id": "81f9bff3-0507-4f26-9c89-5d4bd3eff01c",
   "metadata": {},
   "outputs": [
    {
     "name": "stderr",
     "output_type": "stream",
     "text": [
      "Overriding previous entry for celltype_genotype\n",
      "\n"
     ]
    }
   ],
   "source": [
    "ArchRProject <- addCellColData(ArchRProj = ArchRProject, \n",
    "                                    data = as.character(meta$celltype_genotype),\n",
    "                                    cells = meta$cell,\n",
    "                                    name = \"celltype_genotype\",\n",
    "                                    force=TRUE)"
   ]
  },
  {
   "cell_type": "code",
   "execution_count": 6,
   "id": "bf297984-676c-4d84-b3ba-76a99df64c71",
   "metadata": {},
   "outputs": [],
   "source": [
    "zfp462 = fread('/rds/project/rds-SDzz0CATGms/users/bt392/09_Eomes_invitro_blood/ChIP/zfp462/Ramesh/ZFP462_BioChIp_summits.bed')"
   ]
  },
  {
   "cell_type": "code",
   "execution_count": 7,
   "id": "84e930ca-f2b0-4333-8a39-a12c589795f4",
   "metadata": {},
   "outputs": [
    {
     "name": "stderr",
     "output_type": "stream",
     "text": [
      "Warning message:\n",
      "“Using `bins = 30` by default. Pick better value with the argument `bins`.”\n"
     ]
    },
    {
     "data": {
      "image/png": "[encoded data removed]",
      "text/plain": [
       "plot without title"
      ]
     },
     "metadata": {
      "image/png": {
       "height": 300,
       "width": 900
      }
     },
     "output_type": "display_data"
    }
   ],
   "source": [
    "options(repr.plot.width=15, repr.plot.height=5)\n",
    "gghistogram(zfp462[V5<150]$V5)"
   ]
  },
  {
   "cell_type": "code",
   "execution_count": 8,
   "id": "d3c4c07d-4668-4b6c-8743-fd7ecd24a601",
   "metadata": {},
   "outputs": [
    {
     "data": {
      "text/html": [
       "16264"
      ],
      "text/latex": [
       "16264"
      ],
      "text/markdown": [
       "16264"
      ],
      "text/plain": [
       "[1] 16264"
      ]
     },
     "metadata": {},
     "output_type": "display_data"
    }
   ],
   "source": [
    "nrow(zfp462)"
   ]
  },
  {
   "cell_type": "code",
   "execution_count": 45,
   "id": "1a45e328-6070-4e88-9ebe-8bb5433765a0",
   "metadata": {},
   "outputs": [
    {
     "name": "stderr",
     "output_type": "stream",
     "text": [
      "ArchR logging to : ArchRLogs/ArchR-getFootprints-3969c87064af96-Date-2023-05-29_Time-18-10-07.log\n",
      "If there is an issue, please report to github with logFile!\n",
      "\n",
      "2023-05-29 18:10:07 : Computing Kmer Bias Table, 0.003 mins elapsed.\n",
      "\n",
      "2023-05-29 18:10:08 : Finished Computing Kmer Tables, 0.006 mins elapsed.\n",
      "\n",
      "2023-05-29 18:10:08 : Computing Footprints, 0.01 mins elapsed.\n",
      "\n",
      "2023-05-29 18:10:28 : Computing Footprints Bias, 0.342 mins elapsed.\n",
      "\n",
      "2023-05-29 18:10:33 : Summarizing Footprints, 0.43 mins elapsed.\n",
      "\n"
     ]
    }
   ],
   "source": [
    "zfp462.gr = makeGRangesFromDataFrame(zfp462[order(-V5)][V5>0][,c(1,2,3)] %>% \n",
    "                                         setnames(c('chr', 'start', 'end')) %>% \n",
    "                                        .[chr %in% paste0('chr', c(1:19, 'X'))] %>% head(3000))\n",
    "zfp462.gr = GRangesList(zfp462.gr)\n",
    "names(zfp462.gr) = 'Zfp462'\n",
    "\n",
    "seFoot_zfp <- getFootprints(\n",
    "  ArchRProj = ArchRProject, \n",
    "  positions = zfp462.gr, \n",
    "  groupBy = \"celltype_genotype\"\n",
    ")"
   ]
  },
  {
   "cell_type": "code",
   "execution_count": 48,
   "id": "4e35cab4-b18d-4ffe-80cd-226bc315d2e3",
   "metadata": {
    "collapsed": true,
    "jupyter": {
     "outputs_hidden": true
    },
    "tags": []
   },
   "outputs": [
    {
     "name": "stderr",
     "output_type": "stream",
     "text": [
      "ArchR logging to : ArchRLogs/ArchR-plotFootprints-3969c8453fd562-Date-2023-05-29_Time-18-10-47.log\n",
      "If there is an issue, please report to github with logFile!\n",
      "\n",
      "2023-05-29 18:10:48 : Plotting Footprint : Zfp462 (1 of 1), 0.002 mins elapsed.\n",
      "\n",
      "Applying smoothing window to footprint\n",
      "\n",
      "Normalizing by flanking regions\n",
      "\n",
      "NormMethod = subtract\n",
      "\n",
      "ArchR logging successful to : ArchRLogs/ArchR-plotFootprints-3969c8453fd562-Date-2023-05-29_Time-18-10-47.log\n",
      "\n",
      "ArchR logging to : ArchRLogs/ArchR-plotFootprints-3969c84f660942-Date-2023-05-29_Time-18-10-48.log\n",
      "If there is an issue, please report to github with logFile!\n",
      "\n",
      "2023-05-29 18:10:48 : Plotting Footprint : Zfp462 (1 of 1), 0.002 mins elapsed.\n",
      "\n",
      "Applying smoothing window to footprint\n",
      "\n",
      "Normalizing by flanking regions\n",
      "\n",
      "NormMethod = subtract\n",
      "\n",
      "ArchR logging successful to : ArchRLogs/ArchR-plotFootprints-3969c84f660942-Date-2023-05-29_Time-18-10-48.log\n",
      "\n",
      "ArchR logging to : ArchRLogs/ArchR-plotFootprints-3969c83cf8ae3d-Date-2023-05-29_Time-18-10-49.log\n",
      "If there is an issue, please report to github with logFile!\n",
      "\n",
      "2023-05-29 18:10:49 : Plotting Footprint : Zfp462 (1 of 1), 0.002 mins elapsed.\n",
      "\n",
      "Applying smoothing window to footprint\n",
      "\n",
      "Normalizing by flanking regions\n",
      "\n",
      "NormMethod = subtract\n",
      "\n",
      "ArchR logging successful to : ArchRLogs/ArchR-plotFootprints-3969c83cf8ae3d-Date-2023-05-29_Time-18-10-49.log\n",
      "\n",
      "ArchR logging to : ArchRLogs/ArchR-plotFootprints-3969c85a519945-Date-2023-05-29_Time-18-10-49.log\n",
      "If there is an issue, please report to github with logFile!\n",
      "\n",
      "2023-05-29 18:10:49 : Plotting Footprint : Zfp462 (1 of 1), 0.002 mins elapsed.\n",
      "\n",
      "Applying smoothing window to footprint\n",
      "\n",
      "Normalizing by flanking regions\n",
      "\n",
      "NormMethod = subtract\n",
      "\n",
      "ArchR logging successful to : ArchRLogs/ArchR-plotFootprints-3969c85a519945-Date-2023-05-29_Time-18-10-49.log\n",
      "\n",
      "ArchR logging to : ArchRLogs/ArchR-plotFootprints-3969c82c727716-Date-2023-05-29_Time-18-10-50.log\n",
      "If there is an issue, please report to github with logFile!\n",
      "\n",
      "2023-05-29 18:10:50 : Plotting Footprint : Zfp462 (1 of 1), 0.002 mins elapsed.\n",
      "\n",
      "Applying smoothing window to footprint\n",
      "\n",
      "Normalizing by flanking regions\n",
      "\n",
      "NormMethod = subtract\n",
      "\n",
      "ArchR logging successful to : ArchRLogs/ArchR-plotFootprints-3969c82c727716-Date-2023-05-29_Time-18-10-50.log\n",
      "\n",
      "ArchR logging to : ArchRLogs/ArchR-plotFootprints-3969c87493892f-Date-2023-05-29_Time-18-10-50.log\n",
      "If there is an issue, please report to github with logFile!\n",
      "\n",
      "2023-05-29 18:10:50 : Plotting Footprint : Zfp462 (1 of 1), 0.002 mins elapsed.\n",
      "\n",
      "Applying smoothing window to footprint\n",
      "\n",
      "Normalizing by flanking regions\n",
      "\n",
      "NormMethod = subtract\n",
      "\n",
      "ArchR logging successful to : ArchRLogs/ArchR-plotFootprints-3969c87493892f-Date-2023-05-29_Time-18-10-50.log\n",
      "\n",
      "ArchR logging to : ArchRLogs/ArchR-plotFootprints-3969c8230557ad-Date-2023-05-29_Time-18-10-51.log\n",
      "If there is an issue, please report to github with logFile!\n",
      "\n",
      "2023-05-29 18:10:51 : Plotting Footprint : Zfp462 (1 of 1), 0.002 mins elapsed.\n",
      "\n",
      "Applying smoothing window to footprint\n",
      "\n",
      "Normalizing by flanking regions\n",
      "\n",
      "NormMethod = subtract\n",
      "\n",
      "ArchR logging successful to : ArchRLogs/ArchR-plotFootprints-3969c8230557ad-Date-2023-05-29_Time-18-10-51.log\n",
      "\n",
      "ArchR logging to : ArchRLogs/ArchR-plotFootprints-3969c8153f313e-Date-2023-05-29_Time-18-10-51.log\n",
      "If there is an issue, please report to github with logFile!\n",
      "\n",
      "2023-05-29 18:10:51 : Plotting Footprint : Zfp462 (1 of 1), 0.002 mins elapsed.\n",
      "\n",
      "Applying smoothing window to footprint\n",
      "\n",
      "Normalizing by flanking regions\n",
      "\n",
      "NormMethod = subtract\n",
      "\n",
      "ArchR logging successful to : ArchRLogs/ArchR-plotFootprints-3969c8153f313e-Date-2023-05-29_Time-18-10-51.log\n",
      "\n",
      "ArchR logging to : ArchRLogs/ArchR-plotFootprints-3969c8f02b912-Date-2023-05-29_Time-18-10-52.log\n",
      "If there is an issue, please report to github with logFile!\n",
      "\n",
      "2023-05-29 18:10:52 : Plotting Footprint : Zfp462 (1 of 1), 0.002 mins elapsed.\n",
      "\n",
      "Applying smoothing window to footprint\n",
      "\n",
      "Normalizing by flanking regions\n",
      "\n",
      "NormMethod = subtract\n",
      "\n",
      "ArchR logging successful to : ArchRLogs/ArchR-plotFootprints-3969c8f02b912-Date-2023-05-29_Time-18-10-52.log\n",
      "\n",
      "ArchR logging to : ArchRLogs/ArchR-plotFootprints-3969c85e44be36-Date-2023-05-29_Time-18-10-52.log\n",
      "If there is an issue, please report to github with logFile!\n",
      "\n",
      "2023-05-29 18:10:52 : Plotting Footprint : Zfp462 (1 of 1), 0.002 mins elapsed.\n",
      "\n",
      "Applying smoothing window to footprint\n",
      "\n",
      "Normalizing by flanking regions\n",
      "\n",
      "NormMethod = subtract\n",
      "\n",
      "ArchR logging successful to : ArchRLogs/ArchR-plotFootprints-3969c85e44be36-Date-2023-05-29_Time-18-10-52.log\n",
      "\n"
     ]
    },
    {
     "data": {
      "text/html": [
       "<ol>\n",
       "\t<li>0</li>\n",
       "\t<li>0</li>\n",
       "\t<li>0</li>\n",
       "\t<li>0</li>\n",
       "\t<li>0</li>\n",
       "\t<li>0</li>\n",
       "\t<li>0</li>\n",
       "\t<li>0</li>\n",
       "\t<li>0</li>\n",
       "\t<li>0</li>\n",
       "</ol>\n"
      ],
      "text/latex": [
       "\\begin{enumerate}\n",
       "\\item 0\n",
       "\\item 0\n",
       "\\item 0\n",
       "\\item 0\n",
       "\\item 0\n",
       "\\item 0\n",
       "\\item 0\n",
       "\\item 0\n",
       "\\item 0\n",
       "\\item 0\n",
       "\\end{enumerate}\n"
      ],
      "text/markdown": [
       "1. 0\n",
       "2. 0\n",
       "3. 0\n",
       "4. 0\n",
       "5. 0\n",
       "6. 0\n",
       "7. 0\n",
       "8. 0\n",
       "9. 0\n",
       "10. 0\n",
       "\n",
       "\n"
      ],
      "text/plain": [
       "[[1]]\n",
       "[1] 0\n",
       "\n",
       "[[2]]\n",
       "[1] 0\n",
       "\n",
       "[[3]]\n",
       "[1] 0\n",
       "\n",
       "[[4]]\n",
       "[1] 0\n",
       "\n",
       "[[5]]\n",
       "[1] 0\n",
       "\n",
       "[[6]]\n",
       "[1] 0\n",
       "\n",
       "[[7]]\n",
       "[1] 0\n",
       "\n",
       "[[8]]\n",
       "[1] 0\n",
       "\n",
       "[[9]]\n",
       "[1] 0\n",
       "\n",
       "[[10]]\n",
       "[1] 0\n"
      ]
     },
     "metadata": {},
     "output_type": "display_data"
    }
   ],
   "source": [
    "keep = unique(opts$clusters2celltypes)[unique(opts$clusters2celltypes) != 'Blood_Progenitor']\n",
    "mclapply(keep, function(x){\n",
    "    plotFootprints(\n",
    "      seFoot = seFoot_zfp[, c(grep(paste0(x, '-KO'), colnames(seFoot_zfp)),\n",
    "                         grep(paste0(x, '-WT'), colnames(seFoot_zfp)))],\n",
    "      ArchRProj = ArchRProject, \n",
    "      normMethod = \"subtract\",\n",
    "      plotName = paste0('Footprints_Zfp462_top3000_', x),\n",
    "      addDOC = FALSE,\n",
    "      smoothWindow = 10\n",
    ")\n",
    "}, mc.cores=12)"
   ]
  },
  {
   "cell_type": "code",
   "execution_count": 53,
   "id": "212eb50a-a714-4085-8b9d-88fd38765466",
   "metadata": {},
   "outputs": [
    {
     "name": "stderr",
     "output_type": "stream",
     "text": [
      "ArchR logging to : ArchRLogs/ArchR-getFootprints-3969c84b125268-Date-2023-05-29_Time-18-17-23.log\n",
      "If there is an issue, please report to github with logFile!\n",
      "\n",
      "2023-05-29 18:17:23 : Computing Kmer Bias Table, 0.003 mins elapsed.\n",
      "\n",
      "2023-05-29 18:17:24 : Finished Computing Kmer Tables, 0.017 mins elapsed.\n",
      "\n",
      "2023-05-29 18:17:24 : Computing Footprints, 0.02 mins elapsed.\n",
      "\n",
      "2023-05-29 18:17:41 : Computing Footprints Bias, 0.296 mins elapsed.\n",
      "\n",
      "2023-05-29 18:17:46 : Summarizing Footprints, 0.381 mins elapsed.\n",
      "\n"
     ]
    },
    {
     "data": {
      "text/html": [
       "<ol>\n",
       "\t<li>0</li>\n",
       "\t<li>0</li>\n",
       "\t<li>0</li>\n",
       "\t<li>0</li>\n",
       "\t<li>0</li>\n",
       "\t<li>0</li>\n",
       "\t<li>0</li>\n",
       "\t<li>0</li>\n",
       "\t<li>0</li>\n",
       "\t<li>0</li>\n",
       "</ol>\n"
      ],
      "text/latex": [
       "\\begin{enumerate}\n",
       "\\item 0\n",
       "\\item 0\n",
       "\\item 0\n",
       "\\item 0\n",
       "\\item 0\n",
       "\\item 0\n",
       "\\item 0\n",
       "\\item 0\n",
       "\\item 0\n",
       "\\item 0\n",
       "\\end{enumerate}\n"
      ],
      "text/markdown": [
       "1. 0\n",
       "2. 0\n",
       "3. 0\n",
       "4. 0\n",
       "5. 0\n",
       "6. 0\n",
       "7. 0\n",
       "8. 0\n",
       "9. 0\n",
       "10. 0\n",
       "\n",
       "\n"
      ],
      "text/plain": [
       "[[1]]\n",
       "[1] 0\n",
       "\n",
       "[[2]]\n",
       "[1] 0\n",
       "\n",
       "[[3]]\n",
       "[1] 0\n",
       "\n",
       "[[4]]\n",
       "[1] 0\n",
       "\n",
       "[[5]]\n",
       "[1] 0\n",
       "\n",
       "[[6]]\n",
       "[1] 0\n",
       "\n",
       "[[7]]\n",
       "[1] 0\n",
       "\n",
       "[[8]]\n",
       "[1] 0\n",
       "\n",
       "[[9]]\n",
       "[1] 0\n",
       "\n",
       "[[10]]\n",
       "[1] 0\n"
      ]
     },
     "metadata": {},
     "output_type": "display_data"
    }
   ],
   "source": [
    "zfp462.gr = makeGRangesFromDataFrame(zfp462[order(-V5)][V5>0][,c(1,2,3)] %>% \n",
    "                                         setnames(c('chr', 'start', 'end')) %>% \n",
    "                                        .[chr %in% paste0('chr', c(1:19, 'X'))] %>% head(3000))\n",
    "zfp462.gr = GRangesList(zfp462.gr)\n",
    "names(zfp462.gr) = 'Zfp462'\n",
    "\n",
    "seFoot_zfp <- getFootprints(\n",
    "  ArchRProj = ArchRProject, \n",
    "  positions = zfp462.gr, \n",
    "  groupBy = \"celltype_genotype\",\n",
    "  flank = 2000 \n",
    ")\n",
    "\n",
    "keep = unique(opts$clusters2celltypes)[unique(opts$clusters2celltypes) != 'Blood_Progenitor']\n",
    "mclapply(keep, function(x){\n",
    "    plotFootprints(\n",
    "      seFoot = seFoot_zfp[, c(grep(paste0(x, '-KO'), colnames(seFoot_zfp)),\n",
    "                         grep(paste0(x, '-WT'), colnames(seFoot_zfp)))],\n",
    "      ArchRProj = ArchRProject, \n",
    "      normMethod = \"subtract\",\n",
    "      plotName = paste0('Footprints_Zfp462_top3000_2kbFlank_', x),\n",
    "      addDOC = FALSE,\n",
    "      smoothWindow = 100\n",
    ")\n",
    "}, mc.cores=12)"
   ]
  },
  {
   "cell_type": "code",
   "execution_count": null,
   "id": "1471d22d-837d-448a-ab28-25f8d665b014",
   "metadata": {},
   "outputs": [],
   "source": []
  },
  {
   "cell_type": "code",
   "execution_count": 221,
   "id": "0bf86d0e-d211-42dc-ba28-54a394781c84",
   "metadata": {},
   "outputs": [
    {
     "name": "stderr",
     "output_type": "stream",
     "text": [
      "ArchR logging to : ArchRLogs/ArchR-getFootprints-20a03e67b083e5-Date-2023-05-28_Time-13-15-52.log\n",
      "If there is an issue, please report to github with logFile!\n",
      "\n",
      "2023-05-28 13:15:53 : Computing Kmer Bias Table, 0.004 mins elapsed.\n",
      "\n",
      "2023-05-28 13:15:56 : Finished Computing Kmer Tables, 0.061 mins elapsed.\n",
      "\n",
      "2023-05-28 13:15:56 : Computing Footprints, 0.065 mins elapsed.\n",
      "\n",
      "2023-05-28 13:16:18 : Computing Footprints Bias, 0.422 mins elapsed.\n",
      "\n",
      "2023-05-28 13:16:24 : Summarizing Footprints, 0.523 mins elapsed.\n",
      "\n"
     ]
    },
    {
     "data": {
      "text/html": [
       "<ol>\n",
       "\t<li>0</li>\n",
       "\t<li>0</li>\n",
       "\t<li>0</li>\n",
       "\t<li>0</li>\n",
       "\t<li>0</li>\n",
       "\t<li>0</li>\n",
       "\t<li>0</li>\n",
       "\t<li>0</li>\n",
       "\t<li>0</li>\n",
       "\t<li>0</li>\n",
       "</ol>\n"
      ],
      "text/latex": [
       "\\begin{enumerate}\n",
       "\\item 0\n",
       "\\item 0\n",
       "\\item 0\n",
       "\\item 0\n",
       "\\item 0\n",
       "\\item 0\n",
       "\\item 0\n",
       "\\item 0\n",
       "\\item 0\n",
       "\\item 0\n",
       "\\end{enumerate}\n"
      ],
      "text/markdown": [
       "1. 0\n",
       "2. 0\n",
       "3. 0\n",
       "4. 0\n",
       "5. 0\n",
       "6. 0\n",
       "7. 0\n",
       "8. 0\n",
       "9. 0\n",
       "10. 0\n",
       "\n",
       "\n"
      ],
      "text/plain": [
       "[[1]]\n",
       "[1] 0\n",
       "\n",
       "[[2]]\n",
       "[1] 0\n",
       "\n",
       "[[3]]\n",
       "[1] 0\n",
       "\n",
       "[[4]]\n",
       "[1] 0\n",
       "\n",
       "[[5]]\n",
       "[1] 0\n",
       "\n",
       "[[6]]\n",
       "[1] 0\n",
       "\n",
       "[[7]]\n",
       "[1] 0\n",
       "\n",
       "[[8]]\n",
       "[1] 0\n",
       "\n",
       "[[9]]\n",
       "[1] 0\n",
       "\n",
       "[[10]]\n",
       "[1] 0\n"
      ]
     },
     "metadata": {},
     "output_type": "display_data"
    }
   ],
   "source": [
    "zfp462.gr = makeGRangesFromDataFrame(zfp462[order(-V5)][V5>0][,c(1,2,3)] %>% \n",
    "                                         setnames(c('chr', 'start', 'end')) %>% \n",
    "                                        .[chr %in% paste0('chr', c(1:19, 'X'))])\n",
    "zfp462.gr = GRangesList(zfp462.gr)\n",
    "names(zfp462.gr) = 'Zfp462'\n",
    "\n",
    "seFoot_zfp <- getFootprints(\n",
    "  ArchRProj = ArchRProject, \n",
    "  positions = zfp462.gr, \n",
    "  groupBy = \"celltype_genotype\"\n",
    ")\n",
    "\n",
    "mclapply(keep, function(x){\n",
    "    plotFootprints(\n",
    "      seFoot = seFoot_zfp[, c(grep(paste0(x, '-KO'), colnames(seFoot_zfp)),\n",
    "                         grep(paste0(x, '-WT'), colnames(seFoot_zfp)))],\n",
    "      ArchRProj = ArchRProject, \n",
    "      normMethod = \"subtract\",\n",
    "      plotName = paste0('Footprints_Zfp462_', x),\n",
    "      addDOC = FALSE,\n",
    "      smoothWindow = 10\n",
    ")\n",
    "}, mc.cores=24)"
   ]
  },
  {
   "cell_type": "markdown",
   "id": "d15589e2-a3c9-4a82-b31d-6a5818971d33",
   "metadata": {},
   "source": [
    "# footprint WT"
   ]
  },
  {
   "cell_type": "code",
   "execution_count": 25,
   "id": "4131353b-885a-4dad-a90c-fd09c63a3fca",
   "metadata": {},
   "outputs": [],
   "source": [
    "# Load meta\n",
    "meta = fread(args$metadata)[day!='D3'] %>% # remove D3 cells\n",
    "    .[,celltype_genotype:=paste0(celltype_v1, '-', genotype)]"
   ]
  },
  {
   "cell_type": "code",
   "execution_count": 26,
   "id": "64ab9d90-8a8f-4269-9e5a-548660c359da",
   "metadata": {},
   "outputs": [
    {
     "name": "stderr",
     "output_type": "stream",
     "text": [
      "Successfully loaded ArchRProject!\n",
      "\n",
      "\n",
      "                                                   / |\n",
      "                                                 /    \\\n",
      "            .                                  /      |.\n",
      "            \\\\\\                              /        |.\n",
      "              \\\\\\                          /           `|.\n",
      "                \\\\\\                      /              |.\n",
      "                  \\                    /                |\\\n",
      "                  \\\\#####\\           /                  ||\n",
      "                ==###########>      /                   ||\n",
      "                 \\\\##==......\\    /                     ||\n",
      "            ______ =       =|__ /__                     ||      \\\\\\\n",
      "        ,--' ,----`-,__ ___/'  --,-`-===================##========>\n",
      "       \\               '        ##_______ _____ ,--,__,=##,__   ///\n",
      "        ,    __==    ___,-,__,--'#'  ==='      `-'    | ##,-/\n",
      "        -,____,---'       \\\\####\\\\________________,--\\\\_##,/\n",
      "           ___      .______        ______  __    __  .______      \n",
      "          /   \\     |   _  \\      /      ||  |  |  | |   _  \\     \n",
      "         /  ^  \\    |  |_)  |    |  ,----'|  |__|  | |  |_)  |    \n",
      "        /  /_\\  \\   |      /     |  |     |   __   | |      /     \n",
      "       /  _____  \\  |  |\\  \\\\___ |  `----.|  |  |  | |  |\\  \\\\___.\n",
      "      /__/     \\__\\ | _| `._____| \\______||__|  |__| | _| `._____|\n",
      "    \n",
      "\n"
     ]
    }
   ],
   "source": [
    "ArchRProject <- loadArchRProject(args$archr_directory)[meta$cell]"
   ]
  },
  {
   "cell_type": "code",
   "execution_count": 28,
   "id": "0951d9ec-6c3b-4eea-803e-311df878167c",
   "metadata": {},
   "outputs": [],
   "source": [
    "ArchRProject@projectMetadata$GroupCoverages$celltype_genotype = readRDS('/rds/project/rds-SDzz0CATGms/users/bt392/09_Eomes_invitro_blood/processed/atac/archR/GroupCoverages/celltype_genotype/GroupCoverages_metadata.rds')"
   ]
  },
  {
   "cell_type": "code",
   "execution_count": 29,
   "id": "98da8691-939b-49aa-b2aa-baae21f4e77b",
   "metadata": {},
   "outputs": [
    {
     "name": "stderr",
     "output_type": "stream",
     "text": [
      "Overriding previous entry for celltype_genotype\n",
      "\n"
     ]
    }
   ],
   "source": [
    "ArchRProject <- addCellColData(ArchRProj = ArchRProject, \n",
    "                                    data = as.character(meta$celltype_genotype),\n",
    "                                    cells = meta$cell,\n",
    "                                    name = \"celltype_genotype\",\n",
    "                                    force=TRUE)"
   ]
  },
  {
   "cell_type": "code",
   "execution_count": 2,
   "id": "a3b2b50a-5ce1-44f9-839f-79e90bb5d223",
   "metadata": {},
   "outputs": [],
   "source": [
    "zfp462 = data.table::fread('/rds/project/rds-SDzz0CATGms/users/bt392/09_Eomes_invitro_blood/ChIP/zfp462/Ramesh/ZFP462_BioChIp_summits.bed')"
   ]
  },
  {
   "cell_type": "code",
   "execution_count": 31,
   "id": "0789f07d-a3d5-4289-93c2-1d41bac56012",
   "metadata": {
    "tags": []
   },
   "outputs": [
    {
     "name": "stderr",
     "output_type": "stream",
     "text": [
      "ArchR logging to : ArchRLogs/ArchR-getFootprints-1d21005c6ce57e-Date-2023-05-31_Time-13-32-29.log\n",
      "If there is an issue, please report to github with logFile!\n",
      "\n",
      "2023-05-31 13:32:29 : Computing Kmer Bias Table, 0.004 mins elapsed.\n",
      "\n",
      "2023-05-31 13:32:32 : Finished Computing Kmer Tables, 0.048 mins elapsed.\n",
      "\n",
      "2023-05-31 13:32:32 : Computing Footprints, 0.052 mins elapsed.\n",
      "\n",
      "2023-05-31 13:32:56 : Computing Footprints Bias, 0.451 mins elapsed.\n",
      "\n",
      "2023-05-31 13:33:03 : Summarizing Footprints, 0.572 mins elapsed.\n",
      "\n",
      "ArchR logging to : ArchRLogs/ArchR-plotFootprints-1d210026553db-Date-2023-05-31_Time-13-33-05.log\n",
      "If there is an issue, please report to github with logFile!\n",
      "\n",
      "2023-05-31 13:33:05 : Plotting Footprint : Zfp462 (1 of 1), 0.002 mins elapsed.\n",
      "\n",
      "Applying smoothing window to footprint\n",
      "\n",
      "Normalizing by flanking regions\n",
      "\n",
      "NormMethod = subtract\n",
      "\n",
      "ArchR logging successful to : ArchRLogs/ArchR-plotFootprints-1d210026553db-Date-2023-05-31_Time-13-33-05.log\n",
      "\n"
     ]
    }
   ],
   "source": [
    "zfp462.gr = makeGRangesFromDataFrame(zfp462[order(-V5)][V5>0][,c(1,2,3)] %>% \n",
    "                                         setnames(c('chr', 'start', 'end')) %>% \n",
    "                                        .[chr %in% paste0('chr', c(1:19, 'X'))] %>% head(3000))\n",
    "zfp462.gr = GRangesList(zfp462.gr)\n",
    "names(zfp462.gr) = 'Zfp462'\n",
    "\n",
    "seFoot_zfp <- getFootprints(\n",
    "  ArchRProj = ArchRProject, \n",
    "  positions = zfp462.gr, \n",
    "  groupBy = \"celltype_genotype\",\n",
    "  flank = 2000 \n",
    "\n",
    ")\n",
    "keep = c('Primitive_Streak', 'Early_Mes_EOd', 'Early_Mes_EOi')\n",
    "    plotFootprints(\n",
    "      seFoot = seFoot_zfp[,c(grep('Primitive_Streak-WT', colnames(seFoot_zfp)),\n",
    "                             grep('Early_Mes_EOd-WT', colnames(seFoot_zfp)),\n",
    "                             grep('Early_Mes_EOi-WT', colnames(seFoot_zfp))\n",
    "                             )],\n",
    "      ArchRProj = ArchRProject, \n",
    "      normMethod = \"subtract\",\n",
    "      plotName = paste0('Footprints_Zfp462_top3000_WTcelltypes'),\n",
    "      addDOC = FALSE,\n",
    "      smoothWindow = 100\n",
    ")"
   ]
  },
  {
   "cell_type": "code",
   "execution_count": 32,
   "id": "1580c811-2af5-4536-8683-75e335db0eaf",
   "metadata": {
    "tags": []
   },
   "outputs": [
    {
     "name": "stderr",
     "output_type": "stream",
     "text": [
      "ArchR logging to : ArchRLogs/ArchR-getFootprints-1d210040a7907d-Date-2023-05-31_Time-13-33-07.log\n",
      "If there is an issue, please report to github with logFile!\n",
      "\n",
      "2023-05-31 13:33:08 : Computing Kmer Bias Table, 0.003 mins elapsed.\n",
      "\n",
      "2023-05-31 13:33:35 : Finished Computing Kmer Tables, 0.461 mins elapsed.\n",
      "\n",
      "2023-05-31 13:33:35 : Computing Footprints, 0.464 mins elapsed.\n",
      "\n",
      "2023-05-31 13:34:09 : Computing Footprints Bias, 1.025 mins elapsed.\n",
      "\n",
      "2023-05-31 13:34:16 : Summarizing Footprints, 1.15 mins elapsed.\n",
      "\n",
      "ArchR logging to : ArchRLogs/ArchR-plotFootprints-1d21002b8da967-Date-2023-05-31_Time-13-34-19.log\n",
      "If there is an issue, please report to github with logFile!\n",
      "\n",
      "2023-05-31 13:34:19 : Plotting Footprint : Zfp462 (1 of 1), 0.004 mins elapsed.\n",
      "\n",
      "Applying smoothing window to footprint\n",
      "\n",
      "Normalizing by flanking regions\n",
      "\n",
      "NormMethod = subtract\n",
      "\n",
      "ArchR logging successful to : ArchRLogs/ArchR-plotFootprints-1d21002b8da967-Date-2023-05-31_Time-13-34-19.log\n",
      "\n"
     ]
    }
   ],
   "source": [
    "zfp462.gr = makeGRangesFromDataFrame(zfp462[order(-V5)][V5>0][,c(1,2,3)] %>% \n",
    "                                         setnames(c('chr', 'start', 'end')) %>% \n",
    "                                        .[chr %in% paste0('chr', c(1:19, 'X'))])\n",
    "zfp462.gr = GRangesList(zfp462.gr)\n",
    "names(zfp462.gr) = 'Zfp462'\n",
    "\n",
    "seFoot_zfp <- getFootprints(\n",
    "  ArchRProj = ArchRProject, \n",
    "  positions = zfp462.gr, \n",
    "  groupBy = \"celltype_genotype\",\n",
    "  flank = 2000 \n",
    "\n",
    ")\n",
    "keep = c('Primitive_Streak', 'Early_Mes_EOd', 'Early_Mes_EOi')\n",
    "    plotFootprints(\n",
    "      seFoot = seFoot_zfp[,c(grep('Primitive_Streak-WT', colnames(seFoot_zfp)),\n",
    "                             grep('Early_Mes_EOd-WT', colnames(seFoot_zfp)),\n",
    "                             grep('Early_Mes_EOi-WT', colnames(seFoot_zfp))\n",
    "                             )],\n",
    "      ArchRProj = ArchRProject, \n",
    "      normMethod = \"subtract\",\n",
    "      plotName = paste0('Footprints_Zfp462_WTcelltypes'),\n",
    "      addDOC = FALSE,\n",
    "      smoothWindow = 100\n",
    ")"
   ]
  },
  {
   "cell_type": "code",
   "execution_count": 37,
   "id": "5423864f-26fe-4a43-9971-586b04e2bc95",
   "metadata": {
    "tags": []
   },
   "outputs": [
    {
     "name": "stderr",
     "output_type": "stream",
     "text": [
      "ArchR logging to : ArchRLogs/ArchR-getFootprints-1d2100267c3a66-Date-2023-05-31_Time-13-56-03.log\n",
      "If there is an issue, please report to github with logFile!\n",
      "\n",
      "2023-05-31 13:56:03 : Computing Kmer Bias Table, 0.004 mins elapsed.\n",
      "\n",
      "2023-05-31 13:56:08 : Finished Computing Kmer Tables, 0.076 mins elapsed.\n",
      "\n",
      "2023-05-31 13:56:08 : Computing Footprints, 0.08 mins elapsed.\n",
      "\n",
      "2023-05-31 13:56:44 : Computing Footprints Bias, 0.675 mins elapsed.\n",
      "\n",
      "2023-05-31 13:56:49 : Summarizing Footprints, 0.765 mins elapsed.\n",
      "\n",
      "ArchR logging to : ArchRLogs/ArchR-plotFootprints-1d210075517db4-Date-2023-05-31_Time-13-56-50.log\n",
      "If there is an issue, please report to github with logFile!\n",
      "\n",
      "2023-05-31 13:56:50 : Plotting Footprint : Zfp462 (1 of 1), 0.002 mins elapsed.\n",
      "\n",
      "Applying smoothing window to footprint\n",
      "\n",
      "Normalizing by flanking regions\n",
      "\n",
      "NormMethod = subtract\n",
      "\n",
      "ArchR logging successful to : ArchRLogs/ArchR-plotFootprints-1d210075517db4-Date-2023-05-31_Time-13-56-50.log\n",
      "\n"
     ]
    }
   ],
   "source": [
    "zfp462.gr = makeGRangesFromDataFrame(zfp462[order(-V5)][V5>0][,c(1,2,3)] %>% \n",
    "                                         setnames(c('chr', 'start', 'end')) %>% \n",
    "                                        .[chr %in% paste0('chr', c(1:19, 'X'))])\n",
    "zfp462.gr = GRangesList(zfp462.gr)\n",
    "names(zfp462.gr) = 'Zfp462'\n",
    "\n",
    "seFoot_zfp <- getFootprints(\n",
    "  ArchRProj = ArchRProject, \n",
    "  positions = zfp462.gr, \n",
    "  groupBy = \"celltype_genotype\",\n",
    "  flank = 2000 \n",
    "\n",
    ")\n",
    "    plotFootprints(\n",
    "      seFoot = seFoot_zfp[,c(grep('Primitive_Streak-WT', colnames(seFoot_zfp)),\n",
    "                             grep('Early_Mes_EOd-WT', colnames(seFoot_zfp)),\n",
    "                             grep('HE_Precursor-WT', colnames(seFoot_zfp)),\n",
    "                             grep('HE-WT', colnames(seFoot_zfp)),\n",
    "                             grep('Blood_Progenitor-WT', colnames(seFoot_zfp))\n",
    "                             )],\n",
    "      ArchRProj = ArchRProject, \n",
    "      normMethod = \"subtract\",\n",
    "      plotName = paste0('Footprints_Zfp462_WTcelltypes_Traj1'),\n",
    "      addDOC = FALSE,\n",
    "      smoothWindow = 100\n",
    ")"
   ]
  },
  {
   "cell_type": "code",
   "execution_count": 41,
   "id": "96e9945d-a7dc-46ad-a6b5-bcf430671921",
   "metadata": {
    "tags": []
   },
   "outputs": [
    {
     "name": "stderr",
     "output_type": "stream",
     "text": [
      "ArchR logging to : ArchRLogs/ArchR-plotFootprints-1d21003611855a-Date-2023-05-31_Time-13-58-46.log\n",
      "If there is an issue, please report to github with logFile!\n",
      "\n",
      "2023-05-31 13:58:46 : Plotting Footprint : Zfp462 (1 of 1), 0.003 mins elapsed.\n",
      "\n",
      "Applying smoothing window to footprint\n",
      "\n",
      "Normalizing by flanking regions\n",
      "\n",
      "NormMethod = subtract\n",
      "\n",
      "ArchR logging successful to : ArchRLogs/ArchR-plotFootprints-1d21003611855a-Date-2023-05-31_Time-13-58-46.log\n",
      "\n"
     ]
    }
   ],
   "source": [
    "    plotFootprints(\n",
    "      seFoot = seFoot_zfp[,c(grep('Primitive_Streak-KO', colnames(seFoot_zfp)),\n",
    "                             grep('Early_Mes_EOd-KO', colnames(seFoot_zfp)),\n",
    "                             grep('HE_Precursor-KO', colnames(seFoot_zfp)),\n",
    "                             grep('HE-KO', colnames(seFoot_zfp)))],\n",
    "      ArchRProj = ArchRProject, \n",
    "      normMethod = \"subtract\",\n",
    "      plotName = paste0('Footprints_Zfp462_KDcelltypes_Traj1'),\n",
    "      addDOC = FALSE,\n",
    "      smoothWindow = 100\n",
    ")"
   ]
  },
  {
   "cell_type": "code",
   "execution_count": 35,
   "id": "c0e09c87-171a-4c3a-95c9-997a9bbf3b2e",
   "metadata": {},
   "outputs": [
    {
     "data": {
      "text/html": [
       "<style>\n",
       ".list-inline {list-style: none; margin:0; padding: 0}\n",
       ".list-inline>li {display: inline-block}\n",
       ".list-inline>li:not(:last-child)::after {content: \"\\00b7\"; padding: 0 .5ex}\n",
       "</style>\n",
       "<ol class=list-inline><li>'Early_Mes_EOd-WT'</li><li>'Early_Mes_EOi-WT'</li><li>'Primitive_Streak-WT'</li><li>'Posterior_Mes-WT'</li><li>'HE_Precursor-WT'</li><li>'HE-WT'</li><li>'Mesenchyme-WT'</li><li>'Early_Mes_EOi-KO'</li><li>'Primitive_Streak-KO'</li><li>'Early_Mes_EOd-KO'</li><li>'Mesenchyme-KO'</li><li>'Posterior_Mes-KO'</li><li>'HE_Precursor-KO'</li><li>'HE-KO'</li><li>'Allantois_Precursor-WT'</li><li>'Blood_Progenitor-WT'</li><li>'Endothelium-WT'</li><li>'Allantois_Precursor-KO'</li><li>'Endothelium-KO'</li><li>'Allantois-WT'</li><li>'Allantois-KO'</li><li>'Blood_Progenitor-KO'</li></ol>\n"
      ],
      "text/latex": [
       "\\begin{enumerate*}\n",
       "\\item 'Early\\_Mes\\_EOd-WT'\n",
       "\\item 'Early\\_Mes\\_EOi-WT'\n",
       "\\item 'Primitive\\_Streak-WT'\n",
       "\\item 'Posterior\\_Mes-WT'\n",
       "\\item 'HE\\_Precursor-WT'\n",
       "\\item 'HE-WT'\n",
       "\\item 'Mesenchyme-WT'\n",
       "\\item 'Early\\_Mes\\_EOi-KO'\n",
       "\\item 'Primitive\\_Streak-KO'\n",
       "\\item 'Early\\_Mes\\_EOd-KO'\n",
       "\\item 'Mesenchyme-KO'\n",
       "\\item 'Posterior\\_Mes-KO'\n",
       "\\item 'HE\\_Precursor-KO'\n",
       "\\item 'HE-KO'\n",
       "\\item 'Allantois\\_Precursor-WT'\n",
       "\\item 'Blood\\_Progenitor-WT'\n",
       "\\item 'Endothelium-WT'\n",
       "\\item 'Allantois\\_Precursor-KO'\n",
       "\\item 'Endothelium-KO'\n",
       "\\item 'Allantois-WT'\n",
       "\\item 'Allantois-KO'\n",
       "\\item 'Blood\\_Progenitor-KO'\n",
       "\\end{enumerate*}\n"
      ],
      "text/markdown": [
       "1. 'Early_Mes_EOd-WT'\n",
       "2. 'Early_Mes_EOi-WT'\n",
       "3. 'Primitive_Streak-WT'\n",
       "4. 'Posterior_Mes-WT'\n",
       "5. 'HE_Precursor-WT'\n",
       "6. 'HE-WT'\n",
       "7. 'Mesenchyme-WT'\n",
       "8. 'Early_Mes_EOi-KO'\n",
       "9. 'Primitive_Streak-KO'\n",
       "10. 'Early_Mes_EOd-KO'\n",
       "11. 'Mesenchyme-KO'\n",
       "12. 'Posterior_Mes-KO'\n",
       "13. 'HE_Precursor-KO'\n",
       "14. 'HE-KO'\n",
       "15. 'Allantois_Precursor-WT'\n",
       "16. 'Blood_Progenitor-WT'\n",
       "17. 'Endothelium-WT'\n",
       "18. 'Allantois_Precursor-KO'\n",
       "19. 'Endothelium-KO'\n",
       "20. 'Allantois-WT'\n",
       "21. 'Allantois-KO'\n",
       "22. 'Blood_Progenitor-KO'\n",
       "\n",
       "\n"
      ],
      "text/plain": [
       " [1] \"Early_Mes_EOd-WT\"       \"Early_Mes_EOi-WT\"       \"Primitive_Streak-WT\"   \n",
       " [4] \"Posterior_Mes-WT\"       \"HE_Precursor-WT\"        \"HE-WT\"                 \n",
       " [7] \"Mesenchyme-WT\"          \"Early_Mes_EOi-KO\"       \"Primitive_Streak-KO\"   \n",
       "[10] \"Early_Mes_EOd-KO\"       \"Mesenchyme-KO\"          \"Posterior_Mes-KO\"      \n",
       "[13] \"HE_Precursor-KO\"        \"HE-KO\"                  \"Allantois_Precursor-WT\"\n",
       "[16] \"Blood_Progenitor-WT\"    \"Endothelium-WT\"         \"Allantois_Precursor-KO\"\n",
       "[19] \"Endothelium-KO\"         \"Allantois-WT\"           \"Allantois-KO\"          \n",
       "[22] \"Blood_Progenitor-KO\"   "
      ]
     },
     "metadata": {},
     "output_type": "display_data"
    }
   ],
   "source": [
    "unique(ArchRProject@cellColData$celltype_genotype)"
   ]
  },
  {
   "cell_type": "code",
   "execution_count": 42,
   "id": "53cdc6c1-fa29-4889-a398-95afd7325f76",
   "metadata": {},
   "outputs": [
    {
     "name": "stderr",
     "output_type": "stream",
     "text": [
      "ArchR logging to : ArchRLogs/ArchR-plotFootprints-1d210052642134-Date-2023-05-31_Time-13-59-57.log\n",
      "If there is an issue, please report to github with logFile!\n",
      "\n",
      "2023-05-31 13:59:57 : Plotting Footprint : Zfp462 (1 of 1), 0.002 mins elapsed.\n",
      "\n",
      "Applying smoothing window to footprint\n",
      "\n",
      "Normalizing by flanking regions\n",
      "\n",
      "NormMethod = subtract\n",
      "\n",
      "ArchR logging successful to : ArchRLogs/ArchR-plotFootprints-1d210052642134-Date-2023-05-31_Time-13-59-57.log\n",
      "\n"
     ]
    }
   ],
   "source": [
    "    plotFootprints(\n",
    "      seFoot = seFoot_zfp[,c(grep('Primitive_Streak-WT', colnames(seFoot_zfp)),\n",
    "                             grep('Early_Mes_EOi-WT', colnames(seFoot_zfp)),\n",
    "                             grep('Mesenchyme-WT', colnames(seFoot_zfp)),\n",
    "                             grep('Posterior_Mes-WT', colnames(seFoot_zfp)),\n",
    "                             grep('Allantois_Precursor-WT', colnames(seFoot_zfp)),\n",
    "                             grep('Allantois-WT', colnames(seFoot_zfp))\n",
    "                             )],\n",
    "      ArchRProj = ArchRProject, \n",
    "      normMethod = \"subtract\",\n",
    "      plotName = paste0('Footprints_Zfp462_WTcelltypes_Traj2'),\n",
    "      addDOC = FALSE,\n",
    "      smoothWindow = 100\n",
    ")"
   ]
  },
  {
   "cell_type": "code",
   "execution_count": 43,
   "id": "feafe4f4-e80e-4e66-94fb-71c6d5a3e4f1",
   "metadata": {},
   "outputs": [
    {
     "name": "stderr",
     "output_type": "stream",
     "text": [
      "ArchR logging to : ArchRLogs/ArchR-plotFootprints-1d2100570ad6fe-Date-2023-05-31_Time-14-02-09.log\n",
      "If there is an issue, please report to github with logFile!\n",
      "\n",
      "2023-05-31 14:02:09 : Plotting Footprint : Zfp462 (1 of 1), 0.003 mins elapsed.\n",
      "\n",
      "Applying smoothing window to footprint\n",
      "\n",
      "Normalizing by flanking regions\n",
      "\n",
      "NormMethod = subtract\n",
      "\n",
      "ArchR logging successful to : ArchRLogs/ArchR-plotFootprints-1d2100570ad6fe-Date-2023-05-31_Time-14-02-09.log\n",
      "\n"
     ]
    }
   ],
   "source": [
    "    plotFootprints(\n",
    "      seFoot = seFoot_zfp[,c(grep('Primitive_Streak-KO', colnames(seFoot_zfp)),\n",
    "                             grep('Early_Mes_EOi-KO', colnames(seFoot_zfp)),\n",
    "                             grep('Mesenchyme-KO', colnames(seFoot_zfp)),\n",
    "                             grep('Posterior_Mes-KO', colnames(seFoot_zfp)),\n",
    "                             grep('Allantois_Precursor-KO', colnames(seFoot_zfp)),\n",
    "                             grep('Allantois-KO', colnames(seFoot_zfp))\n",
    "                             )],\n",
    "      ArchRProj = ArchRProject, \n",
    "      normMethod = \"subtract\",\n",
    "      plotName = paste0('Footprints_Zfp462_KOcelltypes_Traj2'),\n",
    "      addDOC = FALSE,\n",
    "      smoothWindow = 100\n",
    ")"
   ]
  },
  {
   "cell_type": "code",
   "execution_count": 35,
   "id": "9aecac9a-de18-49ef-9b1d-b79a1cf46edc",
   "metadata": {},
   "outputs": [
    {
     "data": {
      "text/html": [
       "<style>\n",
       ".list-inline {list-style: none; margin:0; padding: 0}\n",
       ".list-inline>li {display: inline-block}\n",
       ".list-inline>li:not(:last-child)::after {content: \"\\00b7\"; padding: 0 .5ex}\n",
       "</style>\n",
       "<ol class=list-inline><li>'Early_Mes_EOd-WT'</li><li>'Early_Mes_EOi-WT'</li><li>'Primitive_Streak-WT'</li><li>'Posterior_Mes-WT'</li><li>'HE_Precursor-WT'</li><li>'HE-WT'</li><li>'Mesenchyme-WT'</li><li>'Early_Mes_EOi-KO'</li><li>'Primitive_Streak-KO'</li><li>'Early_Mes_EOd-KO'</li><li>'Mesenchyme-KO'</li><li>'Posterior_Mes-KO'</li><li>'HE_Precursor-KO'</li><li>'HE-KO'</li><li>'Allantois_Precursor-WT'</li><li>'Blood_Progenitor-WT'</li><li>'Endothelium-WT'</li><li>'Allantois_Precursor-KO'</li><li>'Endothelium-KO'</li><li>'Allantois-WT'</li><li>'Allantois-KO'</li><li>'Blood_Progenitor-KO'</li></ol>\n"
      ],
      "text/latex": [
       "\\begin{enumerate*}\n",
       "\\item 'Early\\_Mes\\_EOd-WT'\n",
       "\\item 'Early\\_Mes\\_EOi-WT'\n",
       "\\item 'Primitive\\_Streak-WT'\n",
       "\\item 'Posterior\\_Mes-WT'\n",
       "\\item 'HE\\_Precursor-WT'\n",
       "\\item 'HE-WT'\n",
       "\\item 'Mesenchyme-WT'\n",
       "\\item 'Early\\_Mes\\_EOi-KO'\n",
       "\\item 'Primitive\\_Streak-KO'\n",
       "\\item 'Early\\_Mes\\_EOd-KO'\n",
       "\\item 'Mesenchyme-KO'\n",
       "\\item 'Posterior\\_Mes-KO'\n",
       "\\item 'HE\\_Precursor-KO'\n",
       "\\item 'HE-KO'\n",
       "\\item 'Allantois\\_Precursor-WT'\n",
       "\\item 'Blood\\_Progenitor-WT'\n",
       "\\item 'Endothelium-WT'\n",
       "\\item 'Allantois\\_Precursor-KO'\n",
       "\\item 'Endothelium-KO'\n",
       "\\item 'Allantois-WT'\n",
       "\\item 'Allantois-KO'\n",
       "\\item 'Blood\\_Progenitor-KO'\n",
       "\\end{enumerate*}\n"
      ],
      "text/markdown": [
       "1. 'Early_Mes_EOd-WT'\n",
       "2. 'Early_Mes_EOi-WT'\n",
       "3. 'Primitive_Streak-WT'\n",
       "4. 'Posterior_Mes-WT'\n",
       "5. 'HE_Precursor-WT'\n",
       "6. 'HE-WT'\n",
       "7. 'Mesenchyme-WT'\n",
       "8. 'Early_Mes_EOi-KO'\n",
       "9. 'Primitive_Streak-KO'\n",
       "10. 'Early_Mes_EOd-KO'\n",
       "11. 'Mesenchyme-KO'\n",
       "12. 'Posterior_Mes-KO'\n",
       "13. 'HE_Precursor-KO'\n",
       "14. 'HE-KO'\n",
       "15. 'Allantois_Precursor-WT'\n",
       "16. 'Blood_Progenitor-WT'\n",
       "17. 'Endothelium-WT'\n",
       "18. 'Allantois_Precursor-KO'\n",
       "19. 'Endothelium-KO'\n",
       "20. 'Allantois-WT'\n",
       "21. 'Allantois-KO'\n",
       "22. 'Blood_Progenitor-KO'\n",
       "\n",
       "\n"
      ],
      "text/plain": [
       " [1] \"Early_Mes_EOd-WT\"       \"Early_Mes_EOi-WT\"       \"Primitive_Streak-WT\"   \n",
       " [4] \"Posterior_Mes-WT\"       \"HE_Precursor-WT\"        \"HE-WT\"                 \n",
       " [7] \"Mesenchyme-WT\"          \"Early_Mes_EOi-KO\"       \"Primitive_Streak-KO\"   \n",
       "[10] \"Early_Mes_EOd-KO\"       \"Mesenchyme-KO\"          \"Posterior_Mes-KO\"      \n",
       "[13] \"HE_Precursor-KO\"        \"HE-KO\"                  \"Allantois_Precursor-WT\"\n",
       "[16] \"Blood_Progenitor-WT\"    \"Endothelium-WT\"         \"Allantois_Precursor-KO\"\n",
       "[19] \"Endothelium-KO\"         \"Allantois-WT\"           \"Allantois-KO\"          \n",
       "[22] \"Blood_Progenitor-KO\"   "
      ]
     },
     "metadata": {},
     "output_type": "display_data"
    }
   ],
   "source": [
    "unique(ArchRProject@cellColData$celltype_genotype)"
   ]
  },
  {
   "cell_type": "code",
   "execution_count": 33,
   "id": "566df852-df85-4c64-ba29-c7969ec24b9b",
   "metadata": {
    "tags": []
   },
   "outputs": [
    {
     "name": "stderr",
     "output_type": "stream",
     "text": [
      "ArchR logging to : ArchRLogs/ArchR-plotFootprints-1d21003d44a80b-Date-2023-05-31_Time-13-36-33.log\n",
      "If there is an issue, please report to github with logFile!\n",
      "\n",
      "2023-05-31 13:36:33 : Plotting Footprint : Zfp462 (1 of 1), 0.003 mins elapsed.\n",
      "\n",
      "Applying smoothing window to footprint\n",
      "\n",
      "Normalizing by flanking regions\n",
      "\n",
      "NormMethod = subtract\n",
      "\n",
      "ArchR logging successful to : ArchRLogs/ArchR-plotFootprints-1d21003d44a80b-Date-2023-05-31_Time-13-36-33.log\n",
      "\n"
     ]
    }
   ],
   "source": [
    "\n",
    "    plotFootprints(\n",
    "      seFoot = seFoot_zfp[,c(grep('Primitive_Streak-KO', colnames(seFoot_zfp)),\n",
    "                             grep('Early_Mes_EOd-KO', colnames(seFoot_zfp)),\n",
    "                             grep('Early_Mes_EOi-KO', colnames(seFoot_zfp))\n",
    "                             )],\n",
    "      ArchRProj = ArchRProject, \n",
    "      normMethod = \"subtract\",\n",
    "      plotName = paste0('Footprints_Zfp462_KDcelltypes'),\n",
    "      addDOC = FALSE,\n",
    "      smoothWindow = 100\n",
    ")"
   ]
  },
  {
   "cell_type": "code",
   "execution_count": null,
   "id": "246dd219-8a06-4ee7-9e9d-143f39c64827",
   "metadata": {},
   "outputs": [],
   "source": []
  }
 ],
 "metadata": {
  "kernelspec": {
   "display_name": "R",
   "language": "R",
   "name": "ir"
  },
  "language_info": {
   "codemirror_mode": "r",
   "file_extension": ".r",
   "mimetype": "text/x-r-source",
   "name": "R",
   "pygments_lexer": "r",
   "version": "4.2.2"
  }
 },
 "nbformat": 4,
 "nbformat_minor": 5
}
