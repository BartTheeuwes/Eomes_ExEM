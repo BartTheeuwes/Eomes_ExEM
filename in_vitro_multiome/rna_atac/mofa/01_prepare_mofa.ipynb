{
 "cells": [
  {
   "cell_type": "markdown",
   "id": "47266f89-a1f1-4dbb-97ae-5a399145f55b",
   "metadata": {},
   "source": [
    "# Prepare matrices for MOFA"
   ]
  },
  {
   "cell_type": "code",
   "execution_count": 1,
   "id": "1c5362ea-ec96-49e9-a0b3-b756950dd4cf",
   "metadata": {},
   "outputs": [
    {
     "name": "stderr",
     "output_type": "stream",
     "text": [
      "here() starts at /rds/project/rds-SDzz0CATGms/users/bt392/09_Eomes_invitro_blood/code\n",
      "\n"
     ]
    }
   ],
   "source": [
    "here::i_am(\"rna_atac/mofa/01_prepare_mofa.ipynb\")\n",
    "\n",
    "source(here::here(\"settings.R\"))\n",
    "source(here::here(\"utils.R\"))\n",
    "\n",
    "suppressPackageStartupMessages(library(scran))\n",
    "suppressPackageStartupMessages(library(scater))"
   ]
  },
  {
   "cell_type": "code",
   "execution_count": 2,
   "id": "f8518393-8d96-4965-abbd-1b6cfc3a0fc3",
   "metadata": {},
   "outputs": [
    {
     "data": {
      "text/html": [
       "'/rds/project/rds-SDzz0CATGms/users/bt392/09_Eomes_invitro_blood'"
      ],
      "text/latex": [
       "'/rds/project/rds-SDzz0CATGms/users/bt392/09\\_Eomes\\_invitro\\_blood'"
      ],
      "text/markdown": [
       "'/rds/project/rds-SDzz0CATGms/users/bt392/09_Eomes_invitro_blood'"
      ],
      "text/plain": [
       "[1] \"/rds/project/rds-SDzz0CATGms/users/bt392/09_Eomes_invitro_blood\""
      ]
     },
     "metadata": {},
     "output_type": "display_data"
    }
   ],
   "source": [
    "io$basedir"
   ]
  },
  {
   "cell_type": "code",
   "execution_count": 3,
   "id": "f1d820d6-fb96-40d6-bd68-520c82b58136",
   "metadata": {},
   "outputs": [],
   "source": [
    "args = list()\n",
    "# ATAC\n",
    "args$atac_metadata = file.path(io$basedir, 'results/atac/archR/qc/sample_metadata_update_PeakClusters.txt.gz')\n",
    "args$atac_matrix = file.path(io$basedir, 'processed/atac/archR/Matrices/PeakMatrix_summarized_experiment.rds')\n",
    "args$atac_feature_stats = file.path(io$basedir, 'results/atac/archR/feature_stats/PeakMatrix/PeakMatrix_Clusters_PeakMatrix2_stats.txt.gz')\n",
    "args$atac_nfeatures = 25000\n",
    "# RNA\n",
    "args$rna_metadata = file.path(io$basedir, 'results/rna/doublet_detection/sample_metadata_after_doublets.txt.gz')\n",
    "args$rna_sce = file.path(io$basedir, 'processed/rna/SingleCellExperiment.rds')\n",
    "args$rna_nfeatures = 4000\n",
    "# outdir\n",
    "args$outdir = file.path(io$basedir, 'results/rna_atac/mofa/')\n",
    "dir.create(args$outdir, recursive=TRUE, showWarnings =FALSE)"
   ]
  },
  {
   "cell_type": "code",
   "execution_count": 4,
   "id": "bf868a93-e104-4448-961d-bf55ac32054c",
   "metadata": {},
   "outputs": [],
   "source": [
    "##########################\n",
    "## Load sample metadata ##\n",
    "##########################\n",
    "\n",
    "metadata_atac <- fread(args$atac_metadata) %>%\n",
    "  .[pass_atacQC==TRUE & doublet_call==FALSE | pass_atacQC==TRUE & is.na(doublet_call)]\n",
    "\n",
    "metadata_rna <- fread(args$rna_metadata) %>%\n",
    "  .[pass_rnaQC==TRUE & doublet_call==FALSE]\n",
    "\n",
    "cells_keep = intersect(metadata_atac$cell, metadata_rna$cell)\n",
    "metadata_atac = metadata_atac[match(cells_keep, cell)]\n",
    "metadata_rna = metadata_rna[match(cells_keep, cell)]\n",
    "\n",
    "# metadata_atac contains all info from RNA as well as ATAC\n",
    "sample_metadata = metadata_atac"
   ]
  },
  {
   "cell_type": "code",
   "execution_count": 5,
   "id": "8ffd089c-2c6d-4780-ba67-494932044f93",
   "metadata": {},
   "outputs": [],
   "source": [
    "####################\n",
    "## Load ATAC data ##\n",
    "####################\n",
    "atac.se <- readRDS(args$atac_matrix)[,sample_metadata$cell]\n",
    "\n",
    "# non_binarized, might work better on binarized data though"
   ]
  },
  {
   "cell_type": "code",
   "execution_count": 6,
   "id": "371f564b-6604-4185-b990-673c5a0bc114",
   "metadata": {},
   "outputs": [],
   "source": [
    "#########################\n",
    "## ATAC pre-processing ##\n",
    "#########################\n",
    "\n",
    "# Define highly variable features\n",
    "atac_features <- fread(args$atac_feature_stats) %>% \n",
    "  setorder(-var_pseudobulk) %>% \n",
    "  head(n=args$atac_nfeatures) %>% .$feature\n",
    "\n",
    "# Normalisation & Feature selection\n",
    "atac_tfidf.mtx <- tfidf(assay(atac.se[atac_features,]), method=1, scale.factor=1e4) %>% round(2)"
   ]
  },
  {
   "cell_type": "code",
   "execution_count": 7,
   "id": "4cc29617-5844-4a47-a408-ee53dcbd85ae",
   "metadata": {},
   "outputs": [
    {
     "data": {
      "text/plain": [
       "   Min. 1st Qu.  Median    Mean 3rd Qu.    Max. \n",
       "     77    1353    2566    3608    4930   25587 "
      ]
     },
     "metadata": {},
     "output_type": "display_data"
    },
    {
     "name": "stderr",
     "output_type": "stream",
     "text": [
      "Warning message:\n",
      "“Using `bins = 30` by default. Pick better value with the argument `bins`.”\n"
     ]
    },
    {
     "data": {
      "image/png": "[encoded data removed]",
      "text/plain": [
       "plot without title"
      ]
     },
     "metadata": {
      "image/png": {
       "height": 420,
       "width": 420
      }
     },
     "output_type": "display_data"
    }
   ],
   "source": [
    "summary(colSums(atac.se[atac_features,]@assays@data$PeakMatrix))\n",
    "options(repr.plot.heigth=5)\n",
    "gghistogram(colSums(atac.se[atac_features,]@assays@data$PeakMatrix))"
   ]
  },
  {
   "cell_type": "code",
   "execution_count": 8,
   "id": "aaeba001-d18c-45a9-9fb8-eb1b54324f92",
   "metadata": {},
   "outputs": [
    {
     "name": "stderr",
     "output_type": "stream",
     "text": [
      "Warning message in .local(x, row.names, optional, ...):\n",
      "“Arguments in '...' ignored”\n"
     ]
    },
    {
     "data": {
      "text/html": [
       "<style>\n",
       ".list-inline {list-style: none; margin:0; padding: 0}\n",
       ".list-inline>li {display: inline-block}\n",
       ".list-inline>li:not(:last-child)::after {content: \"\\00b7\"; padding: 0 .5ex}\n",
       "</style>\n",
       "<ol class=list-inline><li>4000</li><li>33177</li></ol>\n"
      ],
      "text/latex": [
       "\\begin{enumerate*}\n",
       "\\item 4000\n",
       "\\item 33177\n",
       "\\end{enumerate*}\n"
      ],
      "text/markdown": [
       "1. 4000\n",
       "2. 33177\n",
       "\n",
       "\n"
      ],
      "text/plain": [
       "[1]  4000 33177"
      ]
     },
     "metadata": {},
     "output_type": "display_data"
    }
   ],
   "source": [
    "##############################\n",
    "## Load RNA expression data ##\n",
    "##############################\n",
    "\n",
    "rna.sce <- load_SingleCellExperiment(args$rna_sce, normalise = TRUE, cells = sample_metadata$cell)\n",
    "\n",
    "# Add sample metadata to the colData of the SingleCellExperiment\n",
    "colData(rna.sce) <- sample_metadata %>% as.data.frame %>% tibble::column_to_rownames(\"cell\") %>%\n",
    "  .[colnames(rna.sce),] %>% DataFrame()\n",
    "\n",
    "# Filter features manually\n",
    "rna.sce <- rna.sce[grep(\"*Rik|^Gm|^Mt-|^Rps|^Rpl|^Olfr\",rownames(rna.sce), invert=T),]\n",
    "\n",
    "# Feature selection\n",
    "rna_features <- modelGeneVar(rna.sce) %>% as.data.table(keep.rownames = T) %>%\n",
    "  setnames(\"rn\",\"gene\") %>%\n",
    "  .[mean>=0.001] %>% setorder(FDR) %>% head(args$rna_nfeatures) %>% .$gene\n",
    "\n",
    "# Fetch matrix\n",
    "rna.mtx <- assay(rna.sce[rna_features,],\"logcounts\") %>% round(2)\n",
    "dim(rna.mtx)"
   ]
  },
  {
   "cell_type": "code",
   "execution_count": 9,
   "id": "61beb875-1eaf-44de-8c91-166555d34fa1",
   "metadata": {},
   "outputs": [
    {
     "data": {
      "text/plain": [
       "NULL"
      ]
     },
     "metadata": {},
     "output_type": "display_data"
    },
    {
     "data": {
      "text/plain": [
       "NULL"
      ]
     },
     "metadata": {},
     "output_type": "display_data"
    }
   ],
   "source": [
    "###############\n",
    "## Save data ##\n",
    "###############\n",
    "Matrix::writeMM(rna.mtx, file.path(args$outdir,\"rna.mtx\"))\n",
    "Matrix::writeMM(atac_tfidf.mtx, file.path(args$outdir,\"atac_tfidf.mtx\"))\n",
    "write.table(rownames(rna.mtx), file.path(args$outdir,\"rna_features.txt\"), quote=F, row.names=F, col.names=F)\n",
    "write.table(rownames(atac_tfidf.mtx), file.path(args$outdir,\"atac_features.txt\"), quote=F, row.names=F, col.names=F)\n",
    "write.table(sample_metadata$cell, file.path(args$outdir,\"cells.txt\"), quote=F, row.names=F, col.names=F)\n",
    "fwrite(sample_metadata, file.path(args$outdir,\"sample_metadata.txt.gz\"))"
   ]
  },
  {
   "cell_type": "code",
   "execution_count": 10,
   "id": "1da65fc4-0ed6-4e7b-866d-221b416f0251",
   "metadata": {},
   "outputs": [],
   "source": [
    "atac.se.bin = atac.se[atac_features,]"
   ]
  },
  {
   "cell_type": "code",
   "execution_count": 11,
   "id": "23c2f631-e515-40f3-84b5-edd179dab92a",
   "metadata": {},
   "outputs": [
    {
     "name": "stderr",
     "output_type": "stream",
     "text": [
      "Warning message in asMethod(object):\n",
      "“sparse->dense coercion: allocating vector of size 6.2 GiB”\n"
     ]
    }
   ],
   "source": [
    "atac.mtx = as.matrix(atac.se.bin@assays@data$PeakMatrix)"
   ]
  },
  {
   "cell_type": "code",
   "execution_count": 12,
   "id": "d433a703-3925-4898-ad49-bc1c809ad186",
   "metadata": {
    "tags": []
   },
   "outputs": [],
   "source": [
    "atac.mtx[atac.mtx>0] = 1"
   ]
  },
  {
   "cell_type": "code",
   "execution_count": 13,
   "id": "623c3a06-1d38-4838-9790-ca763ee3a2b8",
   "metadata": {},
   "outputs": [],
   "source": [
    "atac.mtx_sparse = as(atac.mtx, \"dgCMatrix\")"
   ]
  },
  {
   "cell_type": "code",
   "execution_count": 14,
   "id": "0d3d7287-78c9-4e48-84cc-11c77b58cd34",
   "metadata": {},
   "outputs": [],
   "source": [
    "atac_tfidf.mtx.bin <- tfidf(atac.mtx_sparse, method=1, scale.factor=1e4) %>% round(2)"
   ]
  },
  {
   "cell_type": "code",
   "execution_count": 15,
   "id": "8473e4bd-12fc-4894-8e95-049a2fa88fd5",
   "metadata": {},
   "outputs": [
    {
     "data": {
      "text/plain": [
       "NULL"
      ]
     },
     "metadata": {},
     "output_type": "display_data"
    }
   ],
   "source": [
    "Matrix::writeMM(atac_tfidf.mtx.bin, file.path(args$outdir,\"atac_tfidf_binarized.mtx\"))"
   ]
  },
  {
   "cell_type": "code",
   "execution_count": null,
   "id": "6e5d269d-0a36-43fd-b76b-557403846a0e",
   "metadata": {},
   "outputs": [],
   "source": []
  }
 ],
 "metadata": {
  "kernelspec": {
   "display_name": "R",
   "language": "R",
   "name": "ir"
  },
  "language_info": {
   "codemirror_mode": "r",
   "file_extension": ".r",
   "mimetype": "text/x-r-source",
   "name": "R",
   "pygments_lexer": "r",
   "version": "4.2.2"
  }
 },
 "nbformat": 4,
 "nbformat_minor": 5
}
