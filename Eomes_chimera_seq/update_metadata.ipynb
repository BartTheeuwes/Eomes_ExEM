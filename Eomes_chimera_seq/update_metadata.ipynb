{
 "cells": [
  {
   "cell_type": "markdown",
   "id": "5cfbefca",
   "metadata": {},
   "source": [
    "update sample metadata to correct for wrongly sorted TdTom+ cells\n",
    "\n",
    "should be integrated in the snakemake pipeline early on"
   ]
  },
  {
   "cell_type": "code",
   "execution_count": 1,
   "id": "99ce7d6c",
   "metadata": {},
   "outputs": [
    {
     "name": "stderr",
     "output_type": "stream",
     "text": [
      "here() starts at /rds/project/rds-SDzz0CATGms/users/bt392/03_Stat3_RNA/code\n",
      "\n"
     ]
    }
   ],
   "source": [
    "here::i_am(\"processing/1_create_seurat_rna.R\")\n",
    "\n",
    "# Load default settings\n",
    "source(here::here(\"settings.R\"))\n",
    "source(here::here(\"utils.R\"))"
   ]
  },
  {
   "cell_type": "code",
   "execution_count": 2,
   "id": "5d17fb40",
   "metadata": {},
   "outputs": [],
   "source": [
    "args = list()\n",
    "args$sce <- io$rna.sce\n",
    "args$metadata <- paste0(io$basedir,\"/results/rna/mapping/sample_metadata_after_mapping.txt.gz\")"
   ]
  },
  {
   "cell_type": "code",
   "execution_count": 10,
   "id": "a26247bd",
   "metadata": {},
   "outputs": [],
   "source": [
    "sample_metadata <- fread(args$metadata) %>%\n",
    "   .[pass_rnaQC==TRUE & doublet_call==FALSE]"
   ]
  },
  {
   "cell_type": "code",
   "execution_count": 11,
   "id": "e8af3494",
   "metadata": {},
   "outputs": [],
   "source": [
    "###############\n",
    "## Load data ##\n",
    "###############\n",
    "\n",
    "# Load RNA expression data as SingleCellExperiment object\n",
    "sce <- load_SingleCellExperiment(args$sce, cells=sample_metadata$cell, normalise = TRUE)\n",
    "\n",
    "# Add sample metadata as colData\n",
    "colData(sce) <- sample_metadata %>% tibble::column_to_rownames(\"cell\") %>% DataFrame"
   ]
  },
  {
   "cell_type": "code",
   "execution_count": 12,
   "id": "f8ef261b",
   "metadata": {},
   "outputs": [
    {
     "data": {
      "text/plain": [
       "       \n",
       "        FALSE  TRUE\n",
       "  FALSE 24322   771\n",
       "  TRUE   1746 18831"
      ]
     },
     "metadata": {},
     "output_type": "display_data"
    }
   ],
   "source": [
    "tomato = logcounts(sce['tomato-td',])\n",
    "tomato_corr = cbind(colData(sce), t(as.data.frame(as.matrix(tomato)))) %>% as.data.frame()\n",
    "tomato_corr$tomato_pos = ifelse(tomato_corr$tomato>0, TRUE, FALSE)\n",
    "table(tomato_corr$tdTom, tomato_corr$tomato_pos)\n",
    "\n",
    "# annotate any cell with tomato-td expression as being tdTom+\n",
    "colData(sce)$tdTom_corr = ifelse(logcounts(sce['tomato-td',]) > 0 | colData(sce)$tdTom==TRUE, TRUE, FALSE)"
   ]
  },
  {
   "cell_type": "code",
   "execution_count": 55,
   "id": "07f2adcb",
   "metadata": {},
   "outputs": [],
   "source": [
    "meta_new = as.data.frame(colData(sce)['tdTom_corr']) %>% tibble::rownames_to_column(\"cell\")\n",
    "\n",
    "sample_metadata <- fread(args$metadata) %>% .[,idx:=1:nrow(.)]"
   ]
  },
  {
   "cell_type": "code",
   "execution_count": 69,
   "id": "83f46ea2",
   "metadata": {},
   "outputs": [
    {
     "data": {
      "text/html": [
       "<table class=\"dataframe\">\n",
       "<caption>A data.table: 6 × 17</caption>\n",
       "<thead>\n",
       "\t<tr><th scope=col>cell</th><th scope=col>sample</th><th scope=col>barcode</th><th scope=col>nFeature_RNA</th><th scope=col>nCount_RNA</th><th scope=col>mitochondrial_percent_RNA</th><th scope=col>ribosomal_percent_RNA</th><th scope=col>stage</th><th scope=col>tdTom</th><th scope=col>pass_rnaQC</th><th scope=col>doublet_score</th><th scope=col>doublet_call</th><th scope=col>celltype.mapped_mnn</th><th scope=col>celltype.score_mnn</th><th scope=col>closest.cell_mnn</th><th scope=col>idx</th><th scope=col>tdTom_corr</th></tr>\n",
       "\t<tr><th scope=col>&lt;chr&gt;</th><th scope=col>&lt;chr&gt;</th><th scope=col>&lt;chr&gt;</th><th scope=col>&lt;int&gt;</th><th scope=col>&lt;int&gt;</th><th scope=col>&lt;dbl&gt;</th><th scope=col>&lt;dbl&gt;</th><th scope=col>&lt;chr&gt;</th><th scope=col>&lt;lgl&gt;</th><th scope=col>&lt;lgl&gt;</th><th scope=col>&lt;dbl&gt;</th><th scope=col>&lt;lgl&gt;</th><th scope=col>&lt;chr&gt;</th><th scope=col>&lt;dbl&gt;</th><th scope=col>&lt;chr&gt;</th><th scope=col>&lt;int&gt;</th><th scope=col>&lt;lgl&gt;</th></tr>\n",
       "</thead>\n",
       "<tbody>\n",
       "\t<tr><td>SLX-21143_SITTA2_HTJH3DSX2#AAACCCAAGATGTTCC-1</td><td>SLX-21143_SITTA2_HTJH3DSX2</td><td>AAACCCAAGATGTTCC-1</td><td>4837</td><td>53199</td><td> 1.47</td><td>22.87</td><td>E8.5</td><td>TRUE</td><td> TRUE</td><td>0.18</td><td>FALSE</td><td>Erythroid               </td><td>1.0</td><td>cell_33109    </td><td>1</td><td>TRUE</td></tr>\n",
       "\t<tr><td>SLX-21143_SITTA2_HTJH3DSX2#AAACCCAAGCACTTTG-1</td><td>SLX-21143_SITTA2_HTJH3DSX2</td><td>AAACCCAAGCACTTTG-1</td><td> 310</td><td>  648</td><td>32.25</td><td>12.81</td><td>E8.5</td><td>TRUE</td><td>FALSE</td><td>  NA</td><td>   NA</td><td>NA                      </td><td> NA</td><td>NA            </td><td>2</td><td>  NA</td></tr>\n",
       "\t<tr><td>SLX-21143_SITTA2_HTJH3DSX2#AAACCCATCAGACCTA-1</td><td>SLX-21143_SITTA2_HTJH3DSX2</td><td>AAACCCATCAGACCTA-1</td><td>4973</td><td>24165</td><td> 0.95</td><td>19.26</td><td>E8.5</td><td>TRUE</td><td> TRUE</td><td>0.23</td><td>FALSE</td><td>Mesenchyme              </td><td>1.0</td><td>ext_cell_41684</td><td>3</td><td>TRUE</td></tr>\n",
       "\t<tr><td>SLX-21143_SITTA2_HTJH3DSX2#AAACGAAAGCGCCTTG-1</td><td>SLX-21143_SITTA2_HTJH3DSX2</td><td>AAACGAAAGCGCCTTG-1</td><td>1614</td><td> 4156</td><td> 6.74</td><td>28.20</td><td>E8.5</td><td>TRUE</td><td>FALSE</td><td>  NA</td><td>   NA</td><td>NA                      </td><td> NA</td><td>NA            </td><td>4</td><td>  NA</td></tr>\n",
       "\t<tr><td>SLX-21143_SITTA2_HTJH3DSX2#AAACGAACAATGTTGC-1</td><td>SLX-21143_SITTA2_HTJH3DSX2</td><td>AAACGAACAATGTTGC-1</td><td>5585</td><td>34341</td><td> 0.22</td><td>26.76</td><td>E8.5</td><td>TRUE</td><td> TRUE</td><td>0.22</td><td>FALSE</td><td>Anterior somitic tissues</td><td>0.8</td><td>ext_cell_66265</td><td>5</td><td>TRUE</td></tr>\n",
       "\t<tr><td>SLX-21143_SITTA2_HTJH3DSX2#AAACGAACACACCAGC-1</td><td>SLX-21143_SITTA2_HTJH3DSX2</td><td>AAACGAACACACCAGC-1</td><td>5016</td><td>41496</td><td> 1.66</td><td>25.01</td><td>E8.5</td><td>TRUE</td><td> TRUE</td><td>0.11</td><td>FALSE</td><td>Erythroid               </td><td>1.0</td><td>cell_33764    </td><td>6</td><td>TRUE</td></tr>\n",
       "</tbody>\n",
       "</table>\n"
      ],
      "text/latex": [
       "A data.table: 6 × 17\n",
       "\\begin{tabular}{lllllllllllllllll}\n",
       " cell & sample & barcode & nFeature\\_RNA & nCount\\_RNA & mitochondrial\\_percent\\_RNA & ribosomal\\_percent\\_RNA & stage & tdTom & pass\\_rnaQC & doublet\\_score & doublet\\_call & celltype.mapped\\_mnn & celltype.score\\_mnn & closest.cell\\_mnn & idx & tdTom\\_corr\\\\\n",
       " <chr> & <chr> & <chr> & <int> & <int> & <dbl> & <dbl> & <chr> & <lgl> & <lgl> & <dbl> & <lgl> & <chr> & <dbl> & <chr> & <int> & <lgl>\\\\\n",
       "\\hline\n",
       "\t SLX-21143\\_SITTA2\\_HTJH3DSX2\\#AAACCCAAGATGTTCC-1 & SLX-21143\\_SITTA2\\_HTJH3DSX2 & AAACCCAAGATGTTCC-1 & 4837 & 53199 &  1.47 & 22.87 & E8.5 & TRUE &  TRUE & 0.18 & FALSE & Erythroid                & 1.0 & cell\\_33109     & 1 & TRUE\\\\\n",
       "\t SLX-21143\\_SITTA2\\_HTJH3DSX2\\#AAACCCAAGCACTTTG-1 & SLX-21143\\_SITTA2\\_HTJH3DSX2 & AAACCCAAGCACTTTG-1 &  310 &   648 & 32.25 & 12.81 & E8.5 & TRUE & FALSE &   NA &    NA & NA                       &  NA & NA             & 2 &   NA\\\\\n",
       "\t SLX-21143\\_SITTA2\\_HTJH3DSX2\\#AAACCCATCAGACCTA-1 & SLX-21143\\_SITTA2\\_HTJH3DSX2 & AAACCCATCAGACCTA-1 & 4973 & 24165 &  0.95 & 19.26 & E8.5 & TRUE &  TRUE & 0.23 & FALSE & Mesenchyme               & 1.0 & ext\\_cell\\_41684 & 3 & TRUE\\\\\n",
       "\t SLX-21143\\_SITTA2\\_HTJH3DSX2\\#AAACGAAAGCGCCTTG-1 & SLX-21143\\_SITTA2\\_HTJH3DSX2 & AAACGAAAGCGCCTTG-1 & 1614 &  4156 &  6.74 & 28.20 & E8.5 & TRUE & FALSE &   NA &    NA & NA                       &  NA & NA             & 4 &   NA\\\\\n",
       "\t SLX-21143\\_SITTA2\\_HTJH3DSX2\\#AAACGAACAATGTTGC-1 & SLX-21143\\_SITTA2\\_HTJH3DSX2 & AAACGAACAATGTTGC-1 & 5585 & 34341 &  0.22 & 26.76 & E8.5 & TRUE &  TRUE & 0.22 & FALSE & Anterior somitic tissues & 0.8 & ext\\_cell\\_66265 & 5 & TRUE\\\\\n",
       "\t SLX-21143\\_SITTA2\\_HTJH3DSX2\\#AAACGAACACACCAGC-1 & SLX-21143\\_SITTA2\\_HTJH3DSX2 & AAACGAACACACCAGC-1 & 5016 & 41496 &  1.66 & 25.01 & E8.5 & TRUE &  TRUE & 0.11 & FALSE & Erythroid                & 1.0 & cell\\_33764     & 6 & TRUE\\\\\n",
       "\\end{tabular}\n"
      ],
      "text/markdown": [
       "\n",
       "A data.table: 6 × 17\n",
       "\n",
       "| cell &lt;chr&gt; | sample &lt;chr&gt; | barcode &lt;chr&gt; | nFeature_RNA &lt;int&gt; | nCount_RNA &lt;int&gt; | mitochondrial_percent_RNA &lt;dbl&gt; | ribosomal_percent_RNA &lt;dbl&gt; | stage &lt;chr&gt; | tdTom &lt;lgl&gt; | pass_rnaQC &lt;lgl&gt; | doublet_score &lt;dbl&gt; | doublet_call &lt;lgl&gt; | celltype.mapped_mnn &lt;chr&gt; | celltype.score_mnn &lt;dbl&gt; | closest.cell_mnn &lt;chr&gt; | idx &lt;int&gt; | tdTom_corr &lt;lgl&gt; |\n",
       "|---|---|---|---|---|---|---|---|---|---|---|---|---|---|---|---|---|\n",
       "| SLX-21143_SITTA2_HTJH3DSX2#AAACCCAAGATGTTCC-1 | SLX-21143_SITTA2_HTJH3DSX2 | AAACCCAAGATGTTCC-1 | 4837 | 53199 |  1.47 | 22.87 | E8.5 | TRUE |  TRUE | 0.18 | FALSE | Erythroid                | 1.0 | cell_33109     | 1 | TRUE |\n",
       "| SLX-21143_SITTA2_HTJH3DSX2#AAACCCAAGCACTTTG-1 | SLX-21143_SITTA2_HTJH3DSX2 | AAACCCAAGCACTTTG-1 |  310 |   648 | 32.25 | 12.81 | E8.5 | TRUE | FALSE |   NA |    NA | NA                       |  NA | NA             | 2 |   NA |\n",
       "| SLX-21143_SITTA2_HTJH3DSX2#AAACCCATCAGACCTA-1 | SLX-21143_SITTA2_HTJH3DSX2 | AAACCCATCAGACCTA-1 | 4973 | 24165 |  0.95 | 19.26 | E8.5 | TRUE |  TRUE | 0.23 | FALSE | Mesenchyme               | 1.0 | ext_cell_41684 | 3 | TRUE |\n",
       "| SLX-21143_SITTA2_HTJH3DSX2#AAACGAAAGCGCCTTG-1 | SLX-21143_SITTA2_HTJH3DSX2 | AAACGAAAGCGCCTTG-1 | 1614 |  4156 |  6.74 | 28.20 | E8.5 | TRUE | FALSE |   NA |    NA | NA                       |  NA | NA             | 4 |   NA |\n",
       "| SLX-21143_SITTA2_HTJH3DSX2#AAACGAACAATGTTGC-1 | SLX-21143_SITTA2_HTJH3DSX2 | AAACGAACAATGTTGC-1 | 5585 | 34341 |  0.22 | 26.76 | E8.5 | TRUE |  TRUE | 0.22 | FALSE | Anterior somitic tissues | 0.8 | ext_cell_66265 | 5 | TRUE |\n",
       "| SLX-21143_SITTA2_HTJH3DSX2#AAACGAACACACCAGC-1 | SLX-21143_SITTA2_HTJH3DSX2 | AAACGAACACACCAGC-1 | 5016 | 41496 |  1.66 | 25.01 | E8.5 | TRUE |  TRUE | 0.11 | FALSE | Erythroid                | 1.0 | cell_33764     | 6 | TRUE |\n",
       "\n"
      ],
      "text/plain": [
       "  cell                                          sample                    \n",
       "1 SLX-21143_SITTA2_HTJH3DSX2#AAACCCAAGATGTTCC-1 SLX-21143_SITTA2_HTJH3DSX2\n",
       "2 SLX-21143_SITTA2_HTJH3DSX2#AAACCCAAGCACTTTG-1 SLX-21143_SITTA2_HTJH3DSX2\n",
       "3 SLX-21143_SITTA2_HTJH3DSX2#AAACCCATCAGACCTA-1 SLX-21143_SITTA2_HTJH3DSX2\n",
       "4 SLX-21143_SITTA2_HTJH3DSX2#AAACGAAAGCGCCTTG-1 SLX-21143_SITTA2_HTJH3DSX2\n",
       "5 SLX-21143_SITTA2_HTJH3DSX2#AAACGAACAATGTTGC-1 SLX-21143_SITTA2_HTJH3DSX2\n",
       "6 SLX-21143_SITTA2_HTJH3DSX2#AAACGAACACACCAGC-1 SLX-21143_SITTA2_HTJH3DSX2\n",
       "  barcode            nFeature_RNA nCount_RNA mitochondrial_percent_RNA\n",
       "1 AAACCCAAGATGTTCC-1 4837         53199       1.47                    \n",
       "2 AAACCCAAGCACTTTG-1  310           648      32.25                    \n",
       "3 AAACCCATCAGACCTA-1 4973         24165       0.95                    \n",
       "4 AAACGAAAGCGCCTTG-1 1614          4156       6.74                    \n",
       "5 AAACGAACAATGTTGC-1 5585         34341       0.22                    \n",
       "6 AAACGAACACACCAGC-1 5016         41496       1.66                    \n",
       "  ribosomal_percent_RNA stage tdTom pass_rnaQC doublet_score doublet_call\n",
       "1 22.87                 E8.5  TRUE   TRUE      0.18          FALSE       \n",
       "2 12.81                 E8.5  TRUE  FALSE        NA             NA       \n",
       "3 19.26                 E8.5  TRUE   TRUE      0.23          FALSE       \n",
       "4 28.20                 E8.5  TRUE  FALSE        NA             NA       \n",
       "5 26.76                 E8.5  TRUE   TRUE      0.22          FALSE       \n",
       "6 25.01                 E8.5  TRUE   TRUE      0.11          FALSE       \n",
       "  celltype.mapped_mnn      celltype.score_mnn closest.cell_mnn idx tdTom_corr\n",
       "1 Erythroid                1.0                cell_33109       1   TRUE      \n",
       "2 NA                        NA                NA               2     NA      \n",
       "3 Mesenchyme               1.0                ext_cell_41684   3   TRUE      \n",
       "4 NA                        NA                NA               4     NA      \n",
       "5 Anterior somitic tissues 0.8                ext_cell_66265   5   TRUE      \n",
       "6 Erythroid                1.0                cell_33764       6   TRUE      "
      ]
     },
     "metadata": {},
     "output_type": "display_data"
    }
   ],
   "source": [
    "sample_metadata <- fread(args$metadata) %>% \n",
    "    .[,idx:=1:nrow(.)] %>%\n",
    "    merge(meta_new, by='cell', all.x=TRUE) %>%\n",
    "    .[order(idx),]\n",
    "\n",
    "head(sample_metadata)"
   ]
  },
  {
   "cell_type": "code",
   "execution_count": 71,
   "id": "8b73785b",
   "metadata": {},
   "outputs": [],
   "source": [
    "fwrite(fread(args$metadata), paste0(io$basedir,\"/results/rna/mapping/sample_metadata_after_mapping_bu.txt.gz\"))"
   ]
  },
  {
   "cell_type": "code",
   "execution_count": 72,
   "id": "669725de",
   "metadata": {},
   "outputs": [],
   "source": [
    "fwrite(sample_metadata, args$metadata)"
   ]
  }
 ],
 "metadata": {
  "kernelspec": {
   "display_name": "R",
   "language": "R",
   "name": "ir"
  },
  "language_info": {
   "codemirror_mode": "r",
   "file_extension": ".r",
   "mimetype": "text/x-r-source",
   "name": "R",
   "pygments_lexer": "r",
   "version": "4.1.1"
  }
 },
 "nbformat": 4,
 "nbformat_minor": 5
}
